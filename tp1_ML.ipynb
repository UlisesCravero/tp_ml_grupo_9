{
 "cells": [
  {
   "cell_type": "code",
   "execution_count": 1,
   "id": "fd48baf1",
   "metadata": {},
   "outputs": [
    {
     "name": "stdout",
     "output_type": "stream",
     "text": [
      "Se importó correctamente\n"
     ]
    }
   ],
   "source": [
    "try:\n",
    "    import pandas as pd\n",
    "    import numpy as np\n",
    "    import matplotlib.pyplot as plt\n",
    "    import seaborn as sns\n",
    "    from sklearn.preprocessing import OneHotEncoder\n",
    "    from sklearn.linear_model import LogisticRegression\n",
    "    from sklearn.preprocessing import OneHotEncoder, StandardScaler\n",
    "    from sklearn.pipeline import Pipeline\n",
    "    from sklearn.model_selection import train_test_split\n",
    "    from sklearn_pandas import DataFrameMapper\n",
    "    from sklearn import metrics\n",
    "    from sklearn.neighbors import KNeighborsClassifier\n",
    "    from sklearn.tree import DecisionTreeClassifier\n",
    "    from sklearn.preprocessing import LabelBinarizer\n",
    "    from sklearn.ensemble import GradientBoostingClassifier, RandomForestClassifier\n",
    "    from sklearn.decomposition import PCA\n",
    "    from sklearn.model_selection import GridSearchCV\n",
    "    import warnings\n",
    "    warnings.filterwarnings(\"ignore\", category=FutureWarning, module=\"sklearn.*\")\n",
    "    print(\"Se importó correctamente\")\n",
    "except Exception as e:\n",
    "    print(f\"Error al importar dependencias: {e}\")"
   ]
  },
  {
   "cell_type": "markdown",
   "id": "91c850a2-e595-487d-b473-5be8e1243039",
   "metadata": {},
   "source": [
    "* Al tener el Data Set repartido en 5 partes debemos unificar todo en un mismo DataFrame"
   ]
  },
  {
   "cell_type": "code",
   "execution_count": 2,
   "id": "4ae74123",
   "metadata": {},
   "outputs": [
    {
     "data": {
      "text/html": [
       "<div>\n",
       "<style scoped>\n",
       "    .dataframe tbody tr th:only-of-type {\n",
       "        vertical-align: middle;\n",
       "    }\n",
       "\n",
       "    .dataframe tbody tr th {\n",
       "        vertical-align: top;\n",
       "    }\n",
       "\n",
       "    .dataframe thead th {\n",
       "        text-align: right;\n",
       "    }\n",
       "</style>\n",
       "<table border=\"1\" class=\"dataframe\">\n",
       "  <thead>\n",
       "    <tr style=\"text-align: right;\">\n",
       "      <th></th>\n",
       "      <th>step</th>\n",
       "      <th>type</th>\n",
       "      <th>amount</th>\n",
       "      <th>nameOrig</th>\n",
       "      <th>oldbalanceOrg</th>\n",
       "      <th>newbalanceOrig</th>\n",
       "      <th>nameDest</th>\n",
       "      <th>oldbalanceDest</th>\n",
       "      <th>newbalanceDest</th>\n",
       "      <th>isFraud</th>\n",
       "      <th>isFlaggedFraud</th>\n",
       "    </tr>\n",
       "  </thead>\n",
       "  <tbody>\n",
       "    <tr>\n",
       "      <th>3447519</th>\n",
       "      <td>257</td>\n",
       "      <td>CASH_OUT</td>\n",
       "      <td>196309.53</td>\n",
       "      <td>C2122435243</td>\n",
       "      <td>1031.0</td>\n",
       "      <td>0.0</td>\n",
       "      <td>C900598937</td>\n",
       "      <td>841157.60</td>\n",
       "      <td>1037467.13</td>\n",
       "      <td>0</td>\n",
       "      <td>0</td>\n",
       "    </tr>\n",
       "    <tr>\n",
       "      <th>3198451</th>\n",
       "      <td>249</td>\n",
       "      <td>CASH_OUT</td>\n",
       "      <td>116965.86</td>\n",
       "      <td>C687018952</td>\n",
       "      <td>11159.0</td>\n",
       "      <td>0.0</td>\n",
       "      <td>C1044372329</td>\n",
       "      <td>212141.53</td>\n",
       "      <td>329107.39</td>\n",
       "      <td>0</td>\n",
       "      <td>0</td>\n",
       "    </tr>\n",
       "    <tr>\n",
       "      <th>1676071</th>\n",
       "      <td>159</td>\n",
       "      <td>PAYMENT</td>\n",
       "      <td>17242.40</td>\n",
       "      <td>C1449158727</td>\n",
       "      <td>0.0</td>\n",
       "      <td>0.0</td>\n",
       "      <td>M1432448839</td>\n",
       "      <td>0.00</td>\n",
       "      <td>0.00</td>\n",
       "      <td>0</td>\n",
       "      <td>0</td>\n",
       "    </tr>\n",
       "    <tr>\n",
       "      <th>4584248</th>\n",
       "      <td>328</td>\n",
       "      <td>CASH_OUT</td>\n",
       "      <td>765033.44</td>\n",
       "      <td>C658383959</td>\n",
       "      <td>10879.0</td>\n",
       "      <td>0.0</td>\n",
       "      <td>C1271826581</td>\n",
       "      <td>723580.28</td>\n",
       "      <td>1488613.72</td>\n",
       "      <td>0</td>\n",
       "      <td>0</td>\n",
       "    </tr>\n",
       "    <tr>\n",
       "      <th>3387720</th>\n",
       "      <td>255</td>\n",
       "      <td>PAYMENT</td>\n",
       "      <td>5275.91</td>\n",
       "      <td>C419113891</td>\n",
       "      <td>986.0</td>\n",
       "      <td>0.0</td>\n",
       "      <td>M1886503768</td>\n",
       "      <td>0.00</td>\n",
       "      <td>0.00</td>\n",
       "      <td>0</td>\n",
       "      <td>0</td>\n",
       "    </tr>\n",
       "  </tbody>\n",
       "</table>\n",
       "</div>"
      ],
      "text/plain": [
       "         step      type     amount     nameOrig  oldbalanceOrg  \\\n",
       "3447519   257  CASH_OUT  196309.53  C2122435243         1031.0   \n",
       "3198451   249  CASH_OUT  116965.86   C687018952        11159.0   \n",
       "1676071   159   PAYMENT   17242.40  C1449158727            0.0   \n",
       "4584248   328  CASH_OUT  765033.44   C658383959        10879.0   \n",
       "3387720   255   PAYMENT    5275.91   C419113891          986.0   \n",
       "\n",
       "         newbalanceOrig     nameDest  oldbalanceDest  newbalanceDest  isFraud  \\\n",
       "3447519             0.0   C900598937       841157.60      1037467.13        0   \n",
       "3198451             0.0  C1044372329       212141.53       329107.39        0   \n",
       "1676071             0.0  M1432448839            0.00            0.00        0   \n",
       "4584248             0.0  C1271826581       723580.28      1488613.72        0   \n",
       "3387720             0.0  M1886503768            0.00            0.00        0   \n",
       "\n",
       "         isFlaggedFraud  \n",
       "3447519               0  \n",
       "3198451               0  \n",
       "1676071               0  \n",
       "4584248               0  \n",
       "3387720               0  "
      ]
     },
     "execution_count": 2,
     "metadata": {},
     "output_type": "execute_result"
    }
   ],
   "source": [
    "# Leemos las 5 partes\n",
    "dfs = [pd.read_csv(f'parte_{i}.csv') for i in range(1, 6)]\n",
    "\n",
    "# Y las concatenamos en una unica variable \"frauds\"\n",
    "frauds = pd.concat(dfs, ignore_index=True)\n",
    "\n",
    "# Realizamos un chequeo de prueba\n",
    "frauds.sample(5)"
   ]
  },
  {
   "cell_type": "markdown",
   "id": "219aa6e2",
   "metadata": {},
   "source": [
    "# 1. Listado de variables y selección\n",
    "### Variables de entrada:\n",
    "\n",
    "* step : representa una unidad de tiempo en el mundo real. En este caso, 1 paso equivale a 1 hora de tiempo. El total de pasos es 744 (simulación de 30 días).\n",
    "\n",
    "* type : ENTRADA, SALIDA, DÉBITO, PAGO y TRANSFERENCIA.\n",
    "\n",
    "* amount : importe de la transacción en moneda local.\n",
    "\n",
    "* nameOrig : cliente que inició la transacción\n",
    "\n",
    "* oldbalanceOrg : saldo inicial antes de la transacción\n",
    "\n",
    "* newbalanceOrig : new balance después de la transacción\n",
    "\n",
    "* nameDest : cliente que es el destinatario de la transacción\n",
    "\n",
    "* oldbalanceDest : destinatario del saldo inicial antes de la transacción. No hay información para los clientes que comienzan con M (comerciantes).\n",
    "\n",
    "* newbalanceDest : destinatario del nuevo saldo después de la transacción. No hay información para los clientes que comienzan con M (comerciantes).\n",
    "\n",
    "### Variable de salida:\n",
    "\n",
    "* isFraud : son las transacciones realizadas por agentes fraudulentos dentro de la simulación. En este conjunto de datos específico, el comportamiento fraudulento de los agentes tiene como objetivo obtener ganancias tomando el control de las cuentas de los clientes e intentar vaciar los fondos transfiriéndolos a otra cuenta y luego sacándolos del sistema. Los valores posibles para esta variable son 0 y 1.\n",
    "\n",
    "### Variable que no será utilizada:\n",
    "\n",
    "* isFlaggedFraud : variable que intenta detectar intentos ilegales, existen solo 16 registros positivos en la misma por lo cual decidimos no utilizarla ya que no nos aporta ningun valor agregado. A continuación haremos una representacion de los valores donde esta variable es 1 para demostrar que la cantidad de registros es la anteriormente mencionada.\n"
   ]
  },
  {
   "cell_type": "code",
   "execution_count": 3,
   "id": "a4a82d70",
   "metadata": {},
   "outputs": [
    {
     "name": "stdout",
     "output_type": "stream",
     "text": [
      "Número de transacciones marcadas como intento ilegal de transacciones: 16\n",
      "Número de transacciones NO marcadas como intento ilegal de transacciones: 6362604\n"
     ]
    }
   ],
   "source": [
    "# Demostracion con valores en 1 con la variable isFlaggedFraud\n",
    "frauds_isfraud = frauds[frauds['isFlaggedFraud'] > 0]\n",
    "\n",
    "isfraudF = (frauds['isFlaggedFraud'] > 0).sum()\n",
    "notfraudF = (frauds['isFlaggedFraud'] == 0).sum()\n",
    "\n",
    "print(f'Número de transacciones marcadas como intento ilegal de transacciones: {isfraudF}')\n",
    "print(f'Número de transacciones NO marcadas como intento ilegal de transacciones: {notfraudF}')\n",
    "\n",
    "# Por lo que se procece a la eliminacion de la columna\n",
    "frauds.drop('isFlaggedFraud', axis=1, inplace=True)"
   ]
  },
  {
   "cell_type": "markdown",
   "id": "45e15fed",
   "metadata": {},
   "source": [
    "# 2. Análisis detallado de un conjunto de variables\n"
   ]
  },
  {
   "cell_type": "markdown",
   "id": "90f6ca73",
   "metadata": {},
   "source": [
    "### Para la variable de salida, explicar y graficar su distribución. Analizar posibles consecuencias o consideraciones a tener en cuenta."
   ]
  },
  {
   "cell_type": "code",
   "execution_count": 4,
   "id": "4a3ec2d8",
   "metadata": {},
   "outputs": [
    {
     "name": "stdout",
     "output_type": "stream",
     "text": [
      "Número de transacciones que son fraude: 8213\n",
      "Número de transacciones que NO son fraude: 6354407\n"
     ]
    },
    {
     "data": {
      "image/png": "[encoded data removed]",
      "text/plain": [
       "<Figure size 360x360 with 1 Axes>"
      ]
     },
     "metadata": {},
     "output_type": "display_data"
    }
   ],
   "source": [
    "\n",
    "# tenemos la cantidad de registros con valores fraudes y la cantidad que no son fraude. Posteriormente reamos un gráfico de torta de la distribución de los valores positivos y negativos de nuestra variable de salida, mostrando los porcentajes con tres decimales para verificar el balanceo del dataset.\n",
    "isfraud = (frauds['isFraud'] != 0).sum()\n",
    "notfraud = (frauds['isFraud'] == 0).sum()\n",
    "\n",
    "print(f'Número de transacciones que son fraude: {isfraud}')\n",
    "print(f'Número de transacciones que NO son fraude: {notfraud}')\n",
    "\n",
    "plt.figure(figsize=(5, 5))\n",
    "plt.pie([isfraud, notfraud], labels=['Es fraude', 'No es fraude'], autopct='%1.3f%%')\n",
    "plt.title('Distribución de la variable de salida')\n",
    "\n",
    "plt.show()"
   ]
  },
  {
   "cell_type": "markdown",
   "id": "53d51bb5",
   "metadata": {},
   "source": [
    "El gráfico muestra el desbalanceo de la variable de salida \"fraude\" en el conjunto de datos. Como se puede observar, el número de transacciones fraudulentas (8213 instancias) es significativamente menor en comparación con el número de transacciones no fraudulentas (6,354,407 instancias). Esto indica un desbalance notable en el dataset, con una proporción muy baja de fraudes respecto al total de transacciones.\n",
    "\n",
    "### Realizar un análisis individual de cada variable de entrada que será utilizada. A partir del mismo debería poder conocerse la distribución de los datos, si existen valores raros, su relación con la variable de salida, etc."
   ]
  },
  {
   "cell_type": "markdown",
   "id": "fd4951e3",
   "metadata": {},
   "source": [
    "*  Relación entre las variables oldbalanceOrg, newbalanceOrig, oldbalanceDest y newbalanceDest."
   ]
  },
  {
   "cell_type": "code",
   "execution_count": 5,
   "id": "56adcba5",
   "metadata": {},
   "outputs": [
    {
     "name": "stdout",
     "output_type": "stream",
     "text": [
      "Cantidad de registros con los cuatro balances en 0:  774275\n",
      "Cantidad de registros con al menos un balance distinto de 0:  5588345\n"
     ]
    }
   ],
   "source": [
    "# En una primera impresion notamos que hay varios casos en los que los cuatro balances de las cuentas de Origen y Destino son 0 (cero)\n",
    "frauds_balance_cero = frauds[\n",
    "                        (frauds['oldbalanceOrg'] == 0) &\n",
    "                        (frauds['newbalanceOrig'] == 0) &\n",
    "                        (frauds['oldbalanceDest'] == 0) &\n",
    "                        (frauds['newbalanceDest'] == 0)\n",
    "                      ]\n",
    "\n",
    "frauds_balance_not_cero = frauds[\n",
    "                        (frauds['oldbalanceOrg'] != 0) |\n",
    "                        (frauds['newbalanceOrig'] != 0) |\n",
    "                        (frauds['oldbalanceDest'] != 0) |\n",
    "                        (frauds['newbalanceDest'] != 0)\n",
    "                      ]\n",
    "\n",
    "print('Cantidad de registros con los cuatro balances en 0: ',(len(frauds_balance_cero)))\n",
    "print('Cantidad de registros con al menos un balance distinto de 0: ',(len(frauds_balance_not_cero)))"
   ]
  },
  {
   "cell_type": "markdown",
   "id": "f4f76be0",
   "metadata": {},
   "source": [
    "*  Relación entre el tipo de transacción (type) y el fraude (isFraud)\n",
    "\n",
    "Esta relacion muestra la cantidad de transacciones fraudulentas y no fraudulentas dentro de cada tipo de transacción, lo que permite una mejor comparación entre las categorías."
   ]
  },
  {
   "cell_type": "code",
   "execution_count": 7,
   "id": "be60ad74",
   "metadata": {},
   "outputs": [
    {
     "name": "stdout",
     "output_type": "stream",
     "text": [
      "Tipo de Transacción: CASH_IN\n",
      "  No Fraude: 1399284\n",
      "  Fraude: 0\n",
      "\n",
      "Tipo de Transacción: CASH_OUT\n",
      "  No Fraude: 2233384\n",
      "  Fraude: 4116\n",
      "\n",
      "Tipo de Transacción: DEBIT\n",
      "  No Fraude: 41432\n",
      "  Fraude: 0\n",
      "\n",
      "Tipo de Transacción: PAYMENT\n",
      "  No Fraude: 2151495\n",
      "  Fraude: 0\n",
      "\n",
      "Tipo de Transacción: TRANSFER\n",
      "  No Fraude: 528812\n",
      "  Fraude: 4097\n",
      "\n"
     ]
    }
   ],
   "source": [
    "transaction_count = frauds.groupby(['type', 'isFraud']).size().unstack(fill_value=0)\n",
    "transaction_count.columns = ['No Fraude', 'Fraude']\n",
    "\n",
    "for transaction_type in transaction_count.index:\n",
    "    no_fraud = transaction_count.loc[transaction_type, 'No Fraude']\n",
    "    fraud = transaction_count.loc[transaction_type, 'Fraude']\n",
    "    print(f\"Tipo de Transacción: {transaction_type}\")\n",
    "    print(f\"  No Fraude: {no_fraud}\")\n",
    "    print(f\"  Fraude: {fraud}\\n\")\n"
   ]
  },
  {
   "cell_type": "markdown",
   "id": "dc0c5e32",
   "metadata": {},
   "source": [
    "* Relación entre el importe de la transacción (amount) y el fraude (isFraud)\n",
    "<!--El objetivo acá es ver si los montos de las transacciones fraudulentas tienden a ser diferentes de los montos de las transacciones legítimas.\n",
    "\n",
    "-La línea en el centro de la caja: Representa la mediana del amount para cada categoría (isFraud = 0 o 1).\n",
    "\n",
    "-Los bordes de la caja: Representan el primer cuartil (Q1) y el tercer cuartil (Q3), lo que cubre el 50% de los valores centrales.-->"
   ]
  },
  {
   "cell_type": "code",
   "execution_count": 8,
   "id": "9ead9ffa",
   "metadata": {},
   "outputs": [],
   "source": [
    "# TODO: encontrar grafico para poder explicar la relación"
   ]
  },
  {
   "cell_type": "markdown",
   "id": "59671ecf",
   "metadata": {},
   "source": [
    "### Para cada una de las variables de entrada elegidas, explicar si se debería realizar o no alguna transformación para poder utilizarla como entrada de un modelo y por qué."
   ]
  },
  {
   "cell_type": "markdown",
   "id": "78d97a6e",
   "metadata": {},
   "source": [
    "* ⁠step: No necesita transformacion ya que es numérica y representa tiempo en unidades discretas (horas).\n",
    "\n",
    "* ⁠type: Si necesita transformacion, ya que es una variable categórica. La convertiremos en una representación numérica utilizando One-Hot Encoder creando una columna binaria para cada tipo de transacción. Luego de la ultima transformacion se agregaran 5 columnas (type_CASH_OUT, type_CASH_IN, type_PAYMENT, type_TRANSFER, type_DEBIT).\n",
    "\n",
    "* ⁠amount: En principio consideramos que no sera necesario aplicar trasnformación ya que es una variable numérica. En caso de notar una gran disperción entre los valores, podríamos optar por una transformación para reducir dicha variabilidad y lograr estabilizar en el modelo.\n",
    "\n",
    "* ⁠nameOrig: En principio esta columna no nos aporta información ya que creemos que es representativa del número de cuenta de cada cliente. Observamos que cada cuenta inicia con una letra diferente, lo que es representativo de un tipo de cliente. Como una Feature Engineering podríamos obtener que cantidad de veces participó en transacciones (sea de origen o destino) cada cliente. A modo de una mejor lectura se le cambiará el nombre por uno más estandarizado.\n",
    "\n",
    "* ⁠oldbalanceOrg: En principio consideramos que no sera necesario aplicar trasnformación ya que es una variable numérica. El motivo es el mismo que para la variable amount. A modo de una mejor lectura se le cambiará el nombre por uno más estandarizado.\n",
    "\n",
    "* ⁠newbalanceOrig: En principio consideramos que no sera necesario aplicar trasnformación ya que es una variable numérica. El motivo es el mismo que para la variable amount y oldbalanceOrg. A modo de una mejor lectura se le cambiará el nombre por uno más estandarizado.\n",
    "\n",
    "* ⁠nameDest: Realizaremos la misma transformacion de la variable nameOrigin. Con la particularidad de que el cliente destino sea partícipe de una transacción fraudulenta (no es lo mismo ser autor de un fraude que ser una víctima). A modo de una mejor lectura se le cambiará el nombre por uno más estandarizado.\n",
    "\n",
    "* ⁠oldbalanceDest: En principio consideramos que no sera necesario aplicar trasnformación ya que es una variable numérica. El motivo es el mismo que para la variable amount. A modo de una mejor lectura se le cambiará el nombre por uno más estandarizado.\n",
    "\n",
    "* ⁠newbalanceDest: En principio consideramos que no sera necesario aplicar trasnformación ya que es una variable numérica. El motivo es el mismo que para la variable amount y oldbalanceDest. A modo de una mejor lectura se le cambiará el nombre por uno más estandarizado."
   ]
  },
  {
   "cell_type": "code",
   "execution_count": 9,
   "id": "2a76014a",
   "metadata": {},
   "outputs": [
    {
     "data": {
      "text/html": [
       "<div>\n",
       "<style scoped>\n",
       "    .dataframe tbody tr th:only-of-type {\n",
       "        vertical-align: middle;\n",
       "    }\n",
       "\n",
       "    .dataframe tbody tr th {\n",
       "        vertical-align: top;\n",
       "    }\n",
       "\n",
       "    .dataframe thead th {\n",
       "        text-align: right;\n",
       "    }\n",
       "</style>\n",
       "<table border=\"1\" class=\"dataframe\">\n",
       "  <thead>\n",
       "    <tr style=\"text-align: right;\">\n",
       "      <th></th>\n",
       "      <th>step</th>\n",
       "      <th>type</th>\n",
       "      <th>amount</th>\n",
       "      <th>name_origin</th>\n",
       "      <th>old_origin</th>\n",
       "      <th>new_origin</th>\n",
       "      <th>name_destination</th>\n",
       "      <th>old_destination</th>\n",
       "      <th>new_destination</th>\n",
       "      <th>is_fraud</th>\n",
       "    </tr>\n",
       "  </thead>\n",
       "  <tbody>\n",
       "    <tr>\n",
       "      <th>6022453</th>\n",
       "      <td>469</td>\n",
       "      <td>TRANSFER</td>\n",
       "      <td>46926.99</td>\n",
       "      <td>C823468026</td>\n",
       "      <td>32987.00</td>\n",
       "      <td>0.00</td>\n",
       "      <td>C1632225461</td>\n",
       "      <td>0.00</td>\n",
       "      <td>46926.99</td>\n",
       "      <td>0</td>\n",
       "    </tr>\n",
       "    <tr>\n",
       "      <th>3286647</th>\n",
       "      <td>252</td>\n",
       "      <td>CASH_IN</td>\n",
       "      <td>287629.67</td>\n",
       "      <td>C1577743397</td>\n",
       "      <td>1076573.50</td>\n",
       "      <td>1364203.17</td>\n",
       "      <td>C1051579810</td>\n",
       "      <td>1568221.68</td>\n",
       "      <td>1280592.01</td>\n",
       "      <td>0</td>\n",
       "    </tr>\n",
       "    <tr>\n",
       "      <th>5004203</th>\n",
       "      <td>353</td>\n",
       "      <td>CASH_IN</td>\n",
       "      <td>400743.15</td>\n",
       "      <td>C430075650</td>\n",
       "      <td>7647965.52</td>\n",
       "      <td>8048708.67</td>\n",
       "      <td>C201995133</td>\n",
       "      <td>9018809.71</td>\n",
       "      <td>8618066.56</td>\n",
       "      <td>0</td>\n",
       "    </tr>\n",
       "    <tr>\n",
       "      <th>3307785</th>\n",
       "      <td>252</td>\n",
       "      <td>CASH_OUT</td>\n",
       "      <td>477182.97</td>\n",
       "      <td>C2084150972</td>\n",
       "      <td>0.00</td>\n",
       "      <td>0.00</td>\n",
       "      <td>C1943143838</td>\n",
       "      <td>910259.21</td>\n",
       "      <td>1387442.18</td>\n",
       "      <td>0</td>\n",
       "    </tr>\n",
       "    <tr>\n",
       "      <th>2115224</th>\n",
       "      <td>183</td>\n",
       "      <td>PAYMENT</td>\n",
       "      <td>6716.68</td>\n",
       "      <td>C1157302314</td>\n",
       "      <td>133295.00</td>\n",
       "      <td>126578.32</td>\n",
       "      <td>M2142046064</td>\n",
       "      <td>0.00</td>\n",
       "      <td>0.00</td>\n",
       "      <td>0</td>\n",
       "    </tr>\n",
       "  </tbody>\n",
       "</table>\n",
       "</div>"
      ],
      "text/plain": [
       "         step      type     amount  name_origin  old_origin  new_origin  \\\n",
       "6022453   469  TRANSFER   46926.99   C823468026    32987.00        0.00   \n",
       "3286647   252   CASH_IN  287629.67  C1577743397  1076573.50  1364203.17   \n",
       "5004203   353   CASH_IN  400743.15   C430075650  7647965.52  8048708.67   \n",
       "3307785   252  CASH_OUT  477182.97  C2084150972        0.00        0.00   \n",
       "2115224   183   PAYMENT    6716.68  C1157302314   133295.00   126578.32   \n",
       "\n",
       "        name_destination  old_destination  new_destination  is_fraud  \n",
       "6022453      C1632225461             0.00         46926.99         0  \n",
       "3286647      C1051579810       1568221.68       1280592.01         0  \n",
       "5004203       C201995133       9018809.71       8618066.56         0  \n",
       "3307785      C1943143838        910259.21       1387442.18         0  \n",
       "2115224      M2142046064             0.00             0.00         0  "
      ]
     },
     "execution_count": 9,
     "metadata": {},
     "output_type": "execute_result"
    }
   ],
   "source": [
    "# Renombramos las columnas\n",
    "BETTER_COLUMN_NAMES = {\n",
    "    'step': 'step',\n",
    "    'type': 'type',\n",
    "    'amount': 'amount',\n",
    "    'nameOrig': 'name_origin',\n",
    "    'oldbalanceOrg': 'old_origin',\n",
    "    'newbalanceOrig': 'new_origin',\n",
    "    'nameDest': 'name_destination',\n",
    "    'oldbalanceDest': 'old_destination',\n",
    "    'newbalanceDest': 'new_destination',\n",
    "    'isFraud': 'is_fraud',\n",
    "}\n",
    "\n",
    "frauds.rename(columns=BETTER_COLUMN_NAMES, inplace=True)\n",
    "\n",
    "frauds.sample(5)"
   ]
  },
  {
   "cell_type": "code",
   "execution_count": 10,
   "id": "f78dff0a",
   "metadata": {},
   "outputs": [],
   "source": [
    "# # Ahora aplicamos One-Hot Encoder para los tipos de transacciones\n",
    "# encoder = OneHotEncoder(dtype=int, sparse_output=False)\n",
    "\n",
    "# # Aplicamos OneHotEncoder a la columna 'type'\n",
    "# type_encoded = encoder.fit_transform(frauds[['type']])\n",
    "\n",
    "# type_encoded_df = pd.DataFrame(type_encoded, columns=encoder.get_feature_names_out(['type']))\n",
    "\n",
    "# # Eliminamos la columna 'type' para evitar datos redundantes\n",
    "# frauds = frauds.drop(columns=['type'])\n",
    "\n",
    "# # Y unimos las columnas nuevas al dataset original\n",
    "# frauds = frauds.join(type_encoded_df)\n",
    "\n",
    "# print(frauds.head())"
   ]
  },
  {
   "cell_type": "markdown",
   "id": "f4fb4d73",
   "metadata": {},
   "source": [
    "### Analizar si las variables de entrada seleccionadas presentan valores nulos y/o extremos. En caso de encontrar dichas condiciones, indicar qué tratamiento se podría darle a las mismas y por qué."
   ]
  },
  {
   "cell_type": "markdown",
   "id": "4d3901d0",
   "metadata": {},
   "source": [
    "* Comprobamos que no existen valores nulos en nuestro Data Set de la siguiente manera."
   ]
  },
  {
   "cell_type": "code",
   "execution_count": 11,
   "id": "aeeb19bf",
   "metadata": {},
   "outputs": [
    {
     "data": {
      "text/plain": [
       "step                0\n",
       "type                0\n",
       "amount              0\n",
       "name_origin         0\n",
       "old_origin          0\n",
       "new_origin          0\n",
       "name_destination    0\n",
       "old_destination     0\n",
       "new_destination     0\n",
       "is_fraud            0\n",
       "dtype: int64"
      ]
     },
     "execution_count": 11,
     "metadata": {},
     "output_type": "execute_result"
    }
   ],
   "source": [
    "frauds.isnull().sum()"
   ]
  },
  {
   "cell_type": "code",
   "execution_count": 12,
   "id": "76d42c96",
   "metadata": {},
   "outputs": [
    {
     "name": "stdout",
     "output_type": "stream",
     "text": [
      "Cantidad de valores extremos detectados en 'amount': 338078\n"
     ]
    }
   ],
   "source": [
    "# Calculamos los extremos utilizando IQR para la columna 'amount'\n",
    "Q1 = frauds['amount'].quantile(0.25)\n",
    "Q3 = frauds['amount'].quantile(0.75)\n",
    "IQR = Q3 - Q1\n",
    "\n",
    "lower_bound = Q1 - 1.5 * IQR\n",
    "upper_bound = Q3 + 1.5 * IQR\n",
    "\n",
    "outliers_amount = frauds[(frauds['amount'] < lower_bound) | (frauds['amount'] > upper_bound)]\n",
    "\n",
    "print(f\"Cantidad de valores extremos detectados en 'amount': {outliers_amount.shape[0]}\")"
   ]
  },
  {
   "cell_type": "markdown",
   "id": "e97e6c48",
   "metadata": {},
   "source": [
    "* En nuestro caso los valores extremos no deberían ser tratados de ninguna manera ya que son valores de transacciones que por el simple hecho de ser un monto transferido no se interpreta como una anomalía en los datos finales."
   ]
  },
  {
   "cell_type": "markdown",
   "id": "2629f911",
   "metadata": {},
   "source": [
    "### Verificar si existen variables altamente correlacionadas linealmente. En dicho caso, explicar por qué considera que esto pasa."
   ]
  },
  {
   "cell_type": "code",
   "execution_count": 13,
   "id": "b2817e45",
   "metadata": {},
   "outputs": [
    {
     "data": {
      "text/plain": [
       "<Axes: title={'center': 'Matriz de Correlación'}>"
      ]
     },
     "execution_count": 13,
     "metadata": {},
     "output_type": "execute_result"
    },
    {
     "data": {
      "image/png": "[encoded data removed]",
      "text/plain": [
       "<Figure size 432x288 with 2 Axes>"
      ]
     },
     "metadata": {
      "needs_background": "light"
     },
     "output_type": "display_data"
    }
   ],
   "source": [
    "# Lo hacemos con las variables que son de tipo numérica en nuestro dataset y serán utilizadas para el modelo.\n",
    "\n",
    "columnas_numericas = ['is_fraud', 'old_origin', 'new_origin', 'old_destination', 'new_destination' ]\n",
    "plt.title('Matriz de Correlación')\n",
    "sns.heatmap(frauds[columnas_numericas].corr(), annot=True, cmap='RdYlGn', linewidths=0.2)"
   ]
  },
  {
   "cell_type": "markdown",
   "id": "9620eac6",
   "metadata": {},
   "source": [
    "### Generar un listado de todas las posibles dudas/preguntas que quisieran realizarle al encargado de proveer los datos."
   ]
  },
  {
   "cell_type": "markdown",
   "id": "1089f846",
   "metadata": {},
   "source": [
    "Algunas dudas o preguntas que nos surgieron mientras analizábamos los datos son: \n",
    "\n",
    "* ⁠Que significan los id que aparecen en las columnas name_origin y name_destination.\n",
    "* ⁠Por que razón cuando se hace un cash_out la cuenta de origen y destino no es la misma.\n",
    "* ⁠En muchos casos notamos que cuando se hace una transferencia no siempre el valor que se tenia en la cuenta propia disminuye, y no siempre el valor que se tenia en la cuenta de destino aumenta, ¿Por qué ocurriría esto?.\n",
    "* ⁠En ciertos casos cuando el monto de la transferencia es mayor al valor que se tiene en la cuenta, se realiza la transferencia de todos modos y el valor en cuenta queda en 0.\n",
    "* La variable isFlaggedFraud no coincide con la documentación, realmente se utiliza para algo o se creó para algo que al final no se implementó?."
   ]
  },
  {
   "cell_type": "markdown",
   "id": "626d535c",
   "metadata": {},
   "source": [
    "# 3.⁠ ⁠Hipótesis sobre los datos"
   ]
  },
  {
   "cell_type": "markdown",
   "id": "e3b2665e",
   "metadata": {},
   "source": [
    "### Formular y describir de forma coloquial al menos una hipótesis sobre los datos que podría explicar el valor de la variable \"target\" bajo determinadas condiciones. Realizar un análisis para contrastar si dicha hipótesis se valida o, por el contrario, se refuta.\n",
    "\n",
    "* Hipótesis 1: \"Los registros en los que el saldo new_origin queda en 0 después de una transacción son propensos a ser fraudulentos.\"\n",
    "\n",
    "* Descripción coloquial:\n",
    "Se plantea que si el saldo del cliente que inició la transacción (new_origin) queda en 0 después de una transacción, es más probable que esa transacción sea fraudulenta. Esto podría deberse a que el supuesto atacante apunta a vaciar la cuenta del cliente."
   ]
  },
  {
   "cell_type": "code",
   "execution_count": 15,
   "id": "2b919c17",
   "metadata": {},
   "outputs": [
    {
     "data": {
      "text/html": [
       "<div>\n",
       "<style scoped>\n",
       "    .dataframe tbody tr th:only-of-type {\n",
       "        vertical-align: middle;\n",
       "    }\n",
       "\n",
       "    .dataframe tbody tr th {\n",
       "        vertical-align: top;\n",
       "    }\n",
       "\n",
       "    .dataframe thead th {\n",
       "        text-align: right;\n",
       "    }\n",
       "</style>\n",
       "<table border=\"1\" class=\"dataframe\">\n",
       "  <thead>\n",
       "    <tr style=\"text-align: right;\">\n",
       "      <th></th>\n",
       "      <th>step</th>\n",
       "      <th>type</th>\n",
       "      <th>amount</th>\n",
       "      <th>name_origin</th>\n",
       "      <th>old_origin</th>\n",
       "      <th>new_origin</th>\n",
       "      <th>name_destination</th>\n",
       "      <th>old_destination</th>\n",
       "      <th>new_destination</th>\n",
       "      <th>is_fraud</th>\n",
       "    </tr>\n",
       "  </thead>\n",
       "  <tbody>\n",
       "    <tr>\n",
       "      <th>5769250</th>\n",
       "      <td>400</td>\n",
       "      <td>TRANSFER</td>\n",
       "      <td>51113.00</td>\n",
       "      <td>C109032105</td>\n",
       "      <td>51113.00</td>\n",
       "      <td>0.00</td>\n",
       "      <td>C1072918822</td>\n",
       "      <td>0.00</td>\n",
       "      <td>0.00</td>\n",
       "      <td>1</td>\n",
       "    </tr>\n",
       "    <tr>\n",
       "      <th>6282922</th>\n",
       "      <td>656</td>\n",
       "      <td>CASH_OUT</td>\n",
       "      <td>110528.53</td>\n",
       "      <td>C2014517092</td>\n",
       "      <td>110528.53</td>\n",
       "      <td>0.00</td>\n",
       "      <td>C1002952732</td>\n",
       "      <td>600331.95</td>\n",
       "      <td>710860.48</td>\n",
       "      <td>1</td>\n",
       "    </tr>\n",
       "    <tr>\n",
       "      <th>6351250</th>\n",
       "      <td>704</td>\n",
       "      <td>CASH_OUT</td>\n",
       "      <td>158788.32</td>\n",
       "      <td>C1323122307</td>\n",
       "      <td>158788.32</td>\n",
       "      <td>0.00</td>\n",
       "      <td>C171435126</td>\n",
       "      <td>4995950.14</td>\n",
       "      <td>5154738.46</td>\n",
       "      <td>1</td>\n",
       "    </tr>\n",
       "    <tr>\n",
       "      <th>1030474</th>\n",
       "      <td>66</td>\n",
       "      <td>CASH_OUT</td>\n",
       "      <td>4631432.03</td>\n",
       "      <td>C2089741901</td>\n",
       "      <td>4631432.03</td>\n",
       "      <td>0.00</td>\n",
       "      <td>C434503423</td>\n",
       "      <td>122727.22</td>\n",
       "      <td>4754159.25</td>\n",
       "      <td>1</td>\n",
       "    </tr>\n",
       "    <tr>\n",
       "      <th>6281508</th>\n",
       "      <td>648</td>\n",
       "      <td>TRANSFER</td>\n",
       "      <td>1005346.72</td>\n",
       "      <td>C278258075</td>\n",
       "      <td>1005346.72</td>\n",
       "      <td>0.00</td>\n",
       "      <td>C28830193</td>\n",
       "      <td>0.00</td>\n",
       "      <td>0.00</td>\n",
       "      <td>1</td>\n",
       "    </tr>\n",
       "    <tr>\n",
       "      <th>6362544</th>\n",
       "      <td>737</td>\n",
       "      <td>TRANSFER</td>\n",
       "      <td>2194533.79</td>\n",
       "      <td>C871130115</td>\n",
       "      <td>2194533.79</td>\n",
       "      <td>0.00</td>\n",
       "      <td>C1027984317</td>\n",
       "      <td>0.00</td>\n",
       "      <td>0.00</td>\n",
       "      <td>1</td>\n",
       "    </tr>\n",
       "    <tr>\n",
       "      <th>5844471</th>\n",
       "      <td>402</td>\n",
       "      <td>CASH_OUT</td>\n",
       "      <td>127156.49</td>\n",
       "      <td>C1342244082</td>\n",
       "      <td>127156.49</td>\n",
       "      <td>0.00</td>\n",
       "      <td>C627190872</td>\n",
       "      <td>0.00</td>\n",
       "      <td>127156.49</td>\n",
       "      <td>1</td>\n",
       "    </tr>\n",
       "    <tr>\n",
       "      <th>1059504</th>\n",
       "      <td>99</td>\n",
       "      <td>TRANSFER</td>\n",
       "      <td>286670.90</td>\n",
       "      <td>C2005707747</td>\n",
       "      <td>286670.90</td>\n",
       "      <td>0.00</td>\n",
       "      <td>C1830145397</td>\n",
       "      <td>0.00</td>\n",
       "      <td>0.00</td>\n",
       "      <td>1</td>\n",
       "    </tr>\n",
       "    <tr>\n",
       "      <th>1059695</th>\n",
       "      <td>117</td>\n",
       "      <td>CASH_OUT</td>\n",
       "      <td>4032691.34</td>\n",
       "      <td>C1728211150</td>\n",
       "      <td>4032691.34</td>\n",
       "      <td>0.00</td>\n",
       "      <td>C1827237197</td>\n",
       "      <td>0.00</td>\n",
       "      <td>4032691.34</td>\n",
       "      <td>1</td>\n",
       "    </tr>\n",
       "    <tr>\n",
       "      <th>6362333</th>\n",
       "      <td>719</td>\n",
       "      <td>CASH_OUT</td>\n",
       "      <td>1842163.57</td>\n",
       "      <td>C1605541894</td>\n",
       "      <td>1842163.57</td>\n",
       "      <td>0.00</td>\n",
       "      <td>C2135177124</td>\n",
       "      <td>446897.67</td>\n",
       "      <td>2289061.24</td>\n",
       "      <td>1</td>\n",
       "    </tr>\n",
       "    <tr>\n",
       "      <th>6010872</th>\n",
       "      <td>444</td>\n",
       "      <td>CASH_OUT</td>\n",
       "      <td>541486.74</td>\n",
       "      <td>C1890301666</td>\n",
       "      <td>541486.74</td>\n",
       "      <td>0.00</td>\n",
       "      <td>C1690450684</td>\n",
       "      <td>0.00</td>\n",
       "      <td>541486.74</td>\n",
       "      <td>1</td>\n",
       "    </tr>\n",
       "    <tr>\n",
       "      <th>6272984</th>\n",
       "      <td>629</td>\n",
       "      <td>TRANSFER</td>\n",
       "      <td>19527.35</td>\n",
       "      <td>C1230919219</td>\n",
       "      <td>19527.35</td>\n",
       "      <td>0.00</td>\n",
       "      <td>C419372717</td>\n",
       "      <td>0.00</td>\n",
       "      <td>0.00</td>\n",
       "      <td>1</td>\n",
       "    </tr>\n",
       "    <tr>\n",
       "      <th>6008119</th>\n",
       "      <td>431</td>\n",
       "      <td>CASH_OUT</td>\n",
       "      <td>966389.93</td>\n",
       "      <td>C2016177370</td>\n",
       "      <td>966389.93</td>\n",
       "      <td>0.00</td>\n",
       "      <td>C232228089</td>\n",
       "      <td>0.00</td>\n",
       "      <td>966389.93</td>\n",
       "      <td>1</td>\n",
       "    </tr>\n",
       "    <tr>\n",
       "      <th>6259031</th>\n",
       "      <td>600</td>\n",
       "      <td>TRANSFER</td>\n",
       "      <td>612229.86</td>\n",
       "      <td>C191516415</td>\n",
       "      <td>612229.86</td>\n",
       "      <td>0.00</td>\n",
       "      <td>C278468625</td>\n",
       "      <td>0.00</td>\n",
       "      <td>0.00</td>\n",
       "      <td>1</td>\n",
       "    </tr>\n",
       "    <tr>\n",
       "      <th>1059530</th>\n",
       "      <td>102</td>\n",
       "      <td>TRANSFER</td>\n",
       "      <td>1076739.91</td>\n",
       "      <td>C936539159</td>\n",
       "      <td>1076739.91</td>\n",
       "      <td>0.00</td>\n",
       "      <td>C1057721506</td>\n",
       "      <td>0.00</td>\n",
       "      <td>0.00</td>\n",
       "      <td>1</td>\n",
       "    </tr>\n",
       "    <tr>\n",
       "      <th>6014703</th>\n",
       "      <td>450</td>\n",
       "      <td>TRANSFER</td>\n",
       "      <td>36267.62</td>\n",
       "      <td>C982513894</td>\n",
       "      <td>36267.62</td>\n",
       "      <td>0.00</td>\n",
       "      <td>C865044477</td>\n",
       "      <td>0.00</td>\n",
       "      <td>0.00</td>\n",
       "      <td>1</td>\n",
       "    </tr>\n",
       "    <tr>\n",
       "      <th>4388775</th>\n",
       "      <td>320</td>\n",
       "      <td>CASH_OUT</td>\n",
       "      <td>767879.02</td>\n",
       "      <td>C1778269666</td>\n",
       "      <td>767879.02</td>\n",
       "      <td>0.00</td>\n",
       "      <td>C340908219</td>\n",
       "      <td>302527.93</td>\n",
       "      <td>1070406.95</td>\n",
       "      <td>1</td>\n",
       "    </tr>\n",
       "    <tr>\n",
       "      <th>6281484</th>\n",
       "      <td>646</td>\n",
       "      <td>TRANSFER</td>\n",
       "      <td>399045.08</td>\n",
       "      <td>C724693370</td>\n",
       "      <td>10399045.08</td>\n",
       "      <td>10399045.08</td>\n",
       "      <td>C1909486199</td>\n",
       "      <td>0.00</td>\n",
       "      <td>0.00</td>\n",
       "      <td>1</td>\n",
       "    </tr>\n",
       "    <tr>\n",
       "      <th>6194200</th>\n",
       "      <td>572</td>\n",
       "      <td>TRANSFER</td>\n",
       "      <td>1068952.42</td>\n",
       "      <td>C2072964053</td>\n",
       "      <td>1068952.42</td>\n",
       "      <td>0.00</td>\n",
       "      <td>C1016759454</td>\n",
       "      <td>0.00</td>\n",
       "      <td>0.00</td>\n",
       "      <td>1</td>\n",
       "    </tr>\n",
       "    <tr>\n",
       "      <th>3933603</th>\n",
       "      <td>285</td>\n",
       "      <td>TRANSFER</td>\n",
       "      <td>1421665.98</td>\n",
       "      <td>C1217403648</td>\n",
       "      <td>1421665.98</td>\n",
       "      <td>0.00</td>\n",
       "      <td>C483706610</td>\n",
       "      <td>0.00</td>\n",
       "      <td>0.00</td>\n",
       "      <td>1</td>\n",
       "    </tr>\n",
       "  </tbody>\n",
       "</table>\n",
       "</div>"
      ],
      "text/plain": [
       "         step      type      amount  name_origin   old_origin   new_origin  \\\n",
       "5769250   400  TRANSFER    51113.00   C109032105     51113.00         0.00   \n",
       "6282922   656  CASH_OUT   110528.53  C2014517092    110528.53         0.00   \n",
       "6351250   704  CASH_OUT   158788.32  C1323122307    158788.32         0.00   \n",
       "1030474    66  CASH_OUT  4631432.03  C2089741901   4631432.03         0.00   \n",
       "6281508   648  TRANSFER  1005346.72   C278258075   1005346.72         0.00   \n",
       "6362544   737  TRANSFER  2194533.79   C871130115   2194533.79         0.00   \n",
       "5844471   402  CASH_OUT   127156.49  C1342244082    127156.49         0.00   \n",
       "1059504    99  TRANSFER   286670.90  C2005707747    286670.90         0.00   \n",
       "1059695   117  CASH_OUT  4032691.34  C1728211150   4032691.34         0.00   \n",
       "6362333   719  CASH_OUT  1842163.57  C1605541894   1842163.57         0.00   \n",
       "6010872   444  CASH_OUT   541486.74  C1890301666    541486.74         0.00   \n",
       "6272984   629  TRANSFER    19527.35  C1230919219     19527.35         0.00   \n",
       "6008119   431  CASH_OUT   966389.93  C2016177370    966389.93         0.00   \n",
       "6259031   600  TRANSFER   612229.86   C191516415    612229.86         0.00   \n",
       "1059530   102  TRANSFER  1076739.91   C936539159   1076739.91         0.00   \n",
       "6014703   450  TRANSFER    36267.62   C982513894     36267.62         0.00   \n",
       "4388775   320  CASH_OUT   767879.02  C1778269666    767879.02         0.00   \n",
       "6281484   646  TRANSFER   399045.08   C724693370  10399045.08  10399045.08   \n",
       "6194200   572  TRANSFER  1068952.42  C2072964053   1068952.42         0.00   \n",
       "3933603   285  TRANSFER  1421665.98  C1217403648   1421665.98         0.00   \n",
       "\n",
       "        name_destination  old_destination  new_destination  is_fraud  \n",
       "5769250      C1072918822             0.00             0.00         1  \n",
       "6282922      C1002952732        600331.95        710860.48         1  \n",
       "6351250       C171435126       4995950.14       5154738.46         1  \n",
       "1030474       C434503423        122727.22       4754159.25         1  \n",
       "6281508        C28830193             0.00             0.00         1  \n",
       "6362544      C1027984317             0.00             0.00         1  \n",
       "5844471       C627190872             0.00        127156.49         1  \n",
       "1059504      C1830145397             0.00             0.00         1  \n",
       "1059695      C1827237197             0.00       4032691.34         1  \n",
       "6362333      C2135177124        446897.67       2289061.24         1  \n",
       "6010872      C1690450684             0.00        541486.74         1  \n",
       "6272984       C419372717             0.00             0.00         1  \n",
       "6008119       C232228089             0.00        966389.93         1  \n",
       "6259031       C278468625             0.00             0.00         1  \n",
       "1059530      C1057721506             0.00             0.00         1  \n",
       "6014703       C865044477             0.00             0.00         1  \n",
       "4388775       C340908219        302527.93       1070406.95         1  \n",
       "6281484      C1909486199             0.00             0.00         1  \n",
       "6194200      C1016759454             0.00             0.00         1  \n",
       "3933603       C483706610             0.00             0.00         1  "
      ]
     },
     "execution_count": 15,
     "metadata": {},
     "output_type": "execute_result"
    }
   ],
   "source": [
    "frauds_new_origin_cero = frauds[(frauds['is_fraud'] == 1)]\n",
    "frauds_new_origin_cero.sample(20)"
   ]
  },
  {
   "cell_type": "markdown",
   "id": "7dc5fa31",
   "metadata": {},
   "source": [
    "Se puede apreciar que los 20 ejemplos de transacciones fraudulentas en el 100% de los mismos la columna 'new_origin' es 0, para apreciarlo en la totalidad de los datos mostramos la totalidad de los mismos"
   ]
  },
  {
   "cell_type": "code",
   "execution_count": 16,
   "id": "6455877e",
   "metadata": {},
   "outputs": [
    {
     "name": "stdout",
     "output_type": "stream",
     "text": [
      "Cantidad de registros con new_origin es 0 luego de una transacción fraudulenta:  8053\n"
     ]
    }
   ],
   "source": [
    "frauds_new_origin_cero = frauds[(frauds['is_fraud'] == 1) & (frauds['new_origin'] == 0)]\n",
    "print('Cantidad de registros con new_origin es 0 luego de una transacción fraudulenta: ',len(frauds_new_origin_cero))"
   ]
  },
  {
   "cell_type": "markdown",
   "id": "0a8d5fce",
   "metadata": {},
   "source": [
    "De esta manera demostramos que nuestra primera hipótesis es válida."
   ]
  },
  {
   "cell_type": "markdown",
   "id": "9416433e",
   "metadata": {},
   "source": [
    "* Hipótesis 2: \"Las transacciones con importes mayores a 300.000 tienen una mayor probabilidad de ser fraudulentas.\"\n",
    "\n",
    "* Descripción coloquial:\n",
    "La idea es que, si una transacción tiene un importe significativamente alto, podría ser más propensa a ser fraudulenta. Esto podría ser porque los delincuentes prefieren realizar transacciones grandes para obtener mayores beneficios."
   ]
  },
  {
   "cell_type": "code",
   "execution_count": 17,
   "id": "11cf67b3",
   "metadata": {},
   "outputs": [
    {
     "name": "stdout",
     "output_type": "stream",
     "text": [
      "Cantidad de transacciones con valor mayor a $300.000:  926257\n",
      "Cantidad de transacciones fraudulentas con valor mayor a $300.000:  4789\n"
     ]
    }
   ],
   "source": [
    "registers_high_amount = frauds[(frauds['amount'] > 300000)]\n",
    "print('Cantidad de transacciones con valor mayor a $300.000: ',len(registers_high_amount))\n",
    "\n",
    "frauds_high_amount = frauds[(frauds['amount'] > 300000) & (frauds['is_fraud'] == 1)]\n",
    "print('Cantidad de transacciones fraudulentas con valor mayor a $300.000: ',len(frauds_high_amount))"
   ]
  },
  {
   "cell_type": "markdown",
   "id": "3881298b",
   "metadata": {},
   "source": [
    "Con estos resultados comprobamos que nuestra hipótesis 2 no se cumple ya que solo tenemos un 0.5% de transacciones fraudulentas con montos mayores a $300.000."
   ]
  },
  {
   "cell_type": "markdown",
   "id": "e46e9ea6",
   "metadata": {},
   "source": [
    "### Describa y presente cualquier otro hallazgo que sea capaz de encontrar en los datos. Explique el impacto que podría tener en la creación de un modelo."
   ]
  },
  {
   "cell_type": "markdown",
   "id": "c212dbe7",
   "metadata": {},
   "source": [
    "* Análisis: Las transacciones fraudulentas se encuentran únicamente en los tipos CASH_OUT y TRANSFER. No se han detectado fraudes en las transacciones de tipo CASH_IN, DEBIT y PAYMENT.\n",
    "\n",
    "* Impacto en la creación del modelo: \n",
    "Como modificación del modelo podríamos eliminar las columnas de CASH_IN, DEBIT y PAYMENT ya que no existen casos donde el modelo podría aprender ejemplos de fraude. Esto no se hará ya que eliminar esos tres tipos implica reducir nuestro dataset a un 35% del original.\n"
   ]
  },
  {
   "cell_type": "markdown",
   "id": "95327f0d",
   "metadata": {},
   "source": [
    "##### Puntos que se tuvieron en cuenta a la hora de realizar este analisis\n",
    "* Análisis del Data Set.\n",
    "* Análisis de distribuciones.\n",
    "* Análisis de correlación.\n",
    "* Análisis de valores nulos.\n",
    "* Análisis de datos faltantes.\n",
    "* Exploración de variables categóricas.\n",
    "\n",
    "Los ítems nombrados fueron detallados anteriormente con ejemplos y/o gráficos a modo de demostración."
   ]
  },
  {
   "cell_type": "markdown",
   "id": "7b8e8d20",
   "metadata": {},
   "source": [
    "### Analice si la creación de nuevas variables a partir de los datos existentes puede ser beneficiosa para el problema presentado."
   ]
  },
  {
   "cell_type": "markdown",
   "id": "0c7f2725",
   "metadata": {},
   "source": [
    "Pensamos en generar una nueva columna llamada 'possible_fraud' que su posible valor sea 0 o 1 en nuestro data set y que tome el valor 1 para aquellos casos en el que la columna new_origin sea 0 y para aquellos casos en los que el new_origin sea distinto de 0 tome el valor 0."
   ]
  },
  {
   "cell_type": "code",
   "execution_count": 18,
   "id": "ed86f9ed",
   "metadata": {},
   "outputs": [
    {
     "name": "stdout",
     "output_type": "stream",
     "text": [
      "   new_origin  possible_fraud\n",
      "0   160296.36               0\n",
      "1    19384.72               0\n",
      "2        0.00               1\n",
      "3        0.00               1\n",
      "4    29885.86               0\n"
     ]
    }
   ],
   "source": [
    "frauds['possible_fraud'] = (frauds['new_origin'] == 0).astype(int)\n",
    "\n",
    "print(frauds[['new_origin', 'possible_fraud']].head())\n"
   ]
  },
  {
   "cell_type": "markdown",
   "id": "6f612897",
   "metadata": {},
   "source": [
    "Con esta nueva Feature Engineering podemos agregar peso a la hora de entrenar nuestro modelo debido a que anteriormente descubrimos que los registros donde new_origin = 0 en un >95% de los casos se tratan de transacciones fraudulentas."
   ]
  },
  {
   "cell_type": "markdown",
   "id": "6eb89f94",
   "metadata": {},
   "source": [
    "# 4.⁠ ⁠Modelado\n",
    "\n",
    "\n",
    "* Elegir una métrica de performance a utilizar para evaluar los modelos. Fundamentar la elección de la métrica.\n",
    "\n",
    "  La métrica que elegimos utilizar es F1 Score. Esta métrica es útil en contextos donde los datos están desbalanceados, como es en nuestro caso donde el número de transacciones fraudulentas suele ser mucho menor en comparación con las transacciones legítimas.\n",
    "    F1 Score combina la precision (fraudes detectadas correctamente / total fraudes detectados) y recall (fraudes detectados correctamente / fraudes reales), es importante esta técnica ya que es crucial detectar y  minimizar falsos positivos como falsos negativos. Tambien ésta métrica proporciona una visión más equilibrada al tener en cuenta tanto los falsos positivos como los falsos negativos.\n"
   ]
  },
  {
   "cell_type": "markdown",
   "id": "4521e903-3a92-47e7-a857-77ca9c4d3760",
   "metadata": {},
   "source": [
    "* Entrenar y evaluar al menos 3 algoritmos de machine learning distintos, realizando una exploración de hiper-parámetros mediante una búsqueda en grilla. Evaluar el comportamiento de cada modelo con los hiper-parámetros que mejores resultados ofrecen. En caso de ser posible, aporte conclusiones respecto a dicha comparación."
   ]
  },
  {
   "cell_type": "code",
   "execution_count": 19,
   "id": "f7409121-5a08-4de4-9036-e595ba27980a",
   "metadata": {},
   "outputs": [
    {
     "data": {
      "text/plain": [
       "(4924896, 11)"
      ]
     },
     "execution_count": 19,
     "metadata": {},
     "output_type": "execute_result"
    }
   ],
   "source": [
    "frauds = frauds[\n",
    "                        ((frauds['old_origin'] != 0) &\n",
    "                        (frauds['new_origin'] != 0)) |\n",
    "                        ((frauds['old_destination'] != 0) &\n",
    "                        (frauds['new_destination'] != 0))]\n",
    "\n",
    "frauds.shape"
   ]
  },
  {
   "cell_type": "code",
   "execution_count": 20,
   "id": "61b1ecb7-de12-42be-9f8c-91d0a27d65ea",
   "metadata": {},
   "outputs": [
    {
     "data": {
      "text/html": [
       "<div>\n",
       "<style scoped>\n",
       "    .dataframe tbody tr th:only-of-type {\n",
       "        vertical-align: middle;\n",
       "    }\n",
       "\n",
       "    .dataframe tbody tr th {\n",
       "        vertical-align: top;\n",
       "    }\n",
       "\n",
       "    .dataframe thead th {\n",
       "        text-align: right;\n",
       "    }\n",
       "</style>\n",
       "<table border=\"1\" class=\"dataframe\">\n",
       "  <thead>\n",
       "    <tr style=\"text-align: right;\">\n",
       "      <th></th>\n",
       "      <th>step</th>\n",
       "      <th>type</th>\n",
       "      <th>amount</th>\n",
       "      <th>old_origin</th>\n",
       "      <th>new_origin</th>\n",
       "      <th>old_destination</th>\n",
       "      <th>new_destination</th>\n",
       "      <th>is_fraud</th>\n",
       "    </tr>\n",
       "  </thead>\n",
       "  <tbody>\n",
       "    <tr>\n",
       "      <th>3085835</th>\n",
       "      <td>235</td>\n",
       "      <td>CASH_IN</td>\n",
       "      <td>19811.56</td>\n",
       "      <td>1428842.39</td>\n",
       "      <td>1448653.95</td>\n",
       "      <td>136859.90</td>\n",
       "      <td>117048.33</td>\n",
       "      <td>0</td>\n",
       "    </tr>\n",
       "    <tr>\n",
       "      <th>206870</th>\n",
       "      <td>13</td>\n",
       "      <td>PAYMENT</td>\n",
       "      <td>5258.21</td>\n",
       "      <td>556121.67</td>\n",
       "      <td>550863.46</td>\n",
       "      <td>0.00</td>\n",
       "      <td>0.00</td>\n",
       "      <td>0</td>\n",
       "    </tr>\n",
       "    <tr>\n",
       "      <th>4394758</th>\n",
       "      <td>321</td>\n",
       "      <td>CASH_OUT</td>\n",
       "      <td>370460.51</td>\n",
       "      <td>256.00</td>\n",
       "      <td>0.00</td>\n",
       "      <td>95903.95</td>\n",
       "      <td>466364.46</td>\n",
       "      <td>0</td>\n",
       "    </tr>\n",
       "  </tbody>\n",
       "</table>\n",
       "</div>"
      ],
      "text/plain": [
       "         step      type     amount  old_origin  new_origin  old_destination  \\\n",
       "3085835   235   CASH_IN   19811.56  1428842.39  1448653.95        136859.90   \n",
       "206870     13   PAYMENT    5258.21   556121.67   550863.46             0.00   \n",
       "4394758   321  CASH_OUT  370460.51      256.00        0.00         95903.95   \n",
       "\n",
       "         new_destination  is_fraud  \n",
       "3085835        117048.33         0  \n",
       "206870              0.00         0  \n",
       "4394758        466364.46         0  "
      ]
     },
     "execution_count": 20,
     "metadata": {},
     "output_type": "execute_result"
    }
   ],
   "source": [
    "#dropeamos algunas columnas\n",
    "\n",
    "frauds = frauds.drop(columns=[ \"possible_fraud\",\"name_origin\", \"name_destination\"])\n",
    "frauds.sample(3)"
   ]
  },
  {
   "cell_type": "code",
   "execution_count": 21,
   "id": "d122e378-a80e-498c-a6d3-f91efa0a68d8",
   "metadata": {},
   "outputs": [
    {
     "data": {
      "text/plain": [
       "((2954937, 8), (984979, 8), (984980, 8))"
      ]
     },
     "execution_count": 21,
     "metadata": {},
     "output_type": "execute_result"
    }
   ],
   "source": [
    "# 60% train, 20% test, 20% validation\n",
    "train, not_train = train_test_split(frauds, test_size=0.4, random_state=42)\n",
    "validation, test = train_test_split(not_train, test_size=0.5, random_state=42)\n",
    "\n",
    "train.shape, validation.shape, test.shape"
   ]
  },
  {
   "cell_type": "code",
   "execution_count": 22,
   "id": "840d1f6c-5b72-4c5c-aa88-ab39b5435eaa",
   "metadata": {},
   "outputs": [
    {
     "data": {
      "text/html": [
       "<style>#sk-container-id-1 {\n",
       "  /* Definition of color scheme common for light and dark mode */\n",
       "  --sklearn-color-text: black;\n",
       "  --sklearn-color-line: gray;\n",
       "  /* Definition of color scheme for unfitted estimators */\n",
       "  --sklearn-color-unfitted-level-0: #fff5e6;\n",
       "  --sklearn-color-unfitted-level-1: #f6e4d2;\n",
       "  --sklearn-color-unfitted-level-2: #ffe0b3;\n",
       "  --sklearn-color-unfitted-level-3: chocolate;\n",
       "  /* Definition of color scheme for fitted estimators */\n",
       "  --sklearn-color-fitted-level-0: #f0f8ff;\n",
       "  --sklearn-color-fitted-level-1: #d4ebff;\n",
       "  --sklearn-color-fitted-level-2: #b3dbfd;\n",
       "  --sklearn-color-fitted-level-3: cornflowerblue;\n",
       "\n",
       "  /* Specific color for light theme */\n",
       "  --sklearn-color-text-on-default-background: var(--sg-text-color, var(--theme-code-foreground, var(--jp-content-font-color1, black)));\n",
       "  --sklearn-color-background: var(--sg-background-color, var(--theme-background, var(--jp-layout-color0, white)));\n",
       "  --sklearn-color-border-box: var(--sg-text-color, var(--theme-code-foreground, var(--jp-content-font-color1, black)));\n",
       "  --sklearn-color-icon: #696969;\n",
       "\n",
       "  @media (prefers-color-scheme: dark) {\n",
       "    /* Redefinition of color scheme for dark theme */\n",
       "    --sklearn-color-text-on-default-background: var(--sg-text-color, var(--theme-code-foreground, var(--jp-content-font-color1, white)));\n",
       "    --sklearn-color-background: var(--sg-background-color, var(--theme-background, var(--jp-layout-color0, #111)));\n",
       "    --sklearn-color-border-box: var(--sg-text-color, var(--theme-code-foreground, var(--jp-content-font-color1, white)));\n",
       "    --sklearn-color-icon: #878787;\n",
       "  }\n",
       "}\n",
       "\n",
       "#sk-container-id-1 {\n",
       "  color: var(--sklearn-color-text);\n",
       "}\n",
       "\n",
       "#sk-container-id-1 pre {\n",
       "  padding: 0;\n",
       "}\n",
       "\n",
       "#sk-container-id-1 input.sk-hidden--visually {\n",
       "  border: 0;\n",
       "  clip: rect(1px 1px 1px 1px);\n",
       "  clip: rect(1px, 1px, 1px, 1px);\n",
       "  height: 1px;\n",
       "  margin: -1px;\n",
       "  overflow: hidden;\n",
       "  padding: 0;\n",
       "  position: absolute;\n",
       "  width: 1px;\n",
       "}\n",
       "\n",
       "#sk-container-id-1 div.sk-dashed-wrapped {\n",
       "  border: 1px dashed var(--sklearn-color-line);\n",
       "  margin: 0 0.4em 0.5em 0.4em;\n",
       "  box-sizing: border-box;\n",
       "  padding-bottom: 0.4em;\n",
       "  background-color: var(--sklearn-color-background);\n",
       "}\n",
       "\n",
       "#sk-container-id-1 div.sk-container {\n",
       "  /* jupyter's `normalize.less` sets `[hidden] { display: none; }`\n",
       "     but bootstrap.min.css set `[hidden] { display: none !important; }`\n",
       "     so we also need the `!important` here to be able to override the\n",
       "     default hidden behavior on the sphinx rendered scikit-learn.org.\n",
       "     See: https://github.com/scikit-learn/scikit-learn/issues/21755 */\n",
       "  display: inline-block !important;\n",
       "  position: relative;\n",
       "}\n",
       "\n",
       "#sk-container-id-1 div.sk-text-repr-fallback {\n",
       "  display: none;\n",
       "}\n",
       "\n",
       "div.sk-parallel-item,\n",
       "div.sk-serial,\n",
       "div.sk-item {\n",
       "  /* draw centered vertical line to link estimators */\n",
       "  background-image: linear-gradient(var(--sklearn-color-text-on-default-background), var(--sklearn-color-text-on-default-background));\n",
       "  background-size: 2px 100%;\n",
       "  background-repeat: no-repeat;\n",
       "  background-position: center center;\n",
       "}\n",
       "\n",
       "/* Parallel-specific style estimator block */\n",
       "\n",
       "#sk-container-id-1 div.sk-parallel-item::after {\n",
       "  content: \"\";\n",
       "  width: 100%;\n",
       "  border-bottom: 2px solid var(--sklearn-color-text-on-default-background);\n",
       "  flex-grow: 1;\n",
       "}\n",
       "\n",
       "#sk-container-id-1 div.sk-parallel {\n",
       "  display: flex;\n",
       "  align-items: stretch;\n",
       "  justify-content: center;\n",
       "  background-color: var(--sklearn-color-background);\n",
       "  position: relative;\n",
       "}\n",
       "\n",
       "#sk-container-id-1 div.sk-parallel-item {\n",
       "  display: flex;\n",
       "  flex-direction: column;\n",
       "}\n",
       "\n",
       "#sk-container-id-1 div.sk-parallel-item:first-child::after {\n",
       "  align-self: flex-end;\n",
       "  width: 50%;\n",
       "}\n",
       "\n",
       "#sk-container-id-1 div.sk-parallel-item:last-child::after {\n",
       "  align-self: flex-start;\n",
       "  width: 50%;\n",
       "}\n",
       "\n",
       "#sk-container-id-1 div.sk-parallel-item:only-child::after {\n",
       "  width: 0;\n",
       "}\n",
       "\n",
       "/* Serial-specific style estimator block */\n",
       "\n",
       "#sk-container-id-1 div.sk-serial {\n",
       "  display: flex;\n",
       "  flex-direction: column;\n",
       "  align-items: center;\n",
       "  background-color: var(--sklearn-color-background);\n",
       "  padding-right: 1em;\n",
       "  padding-left: 1em;\n",
       "}\n",
       "\n",
       "\n",
       "/* Toggleable style: style used for estimator/Pipeline/ColumnTransformer box that is\n",
       "clickable and can be expanded/collapsed.\n",
       "- Pipeline and ColumnTransformer use this feature and define the default style\n",
       "- Estimators will overwrite some part of the style using the `sk-estimator` class\n",
       "*/\n",
       "\n",
       "/* Pipeline and ColumnTransformer style (default) */\n",
       "\n",
       "#sk-container-id-1 div.sk-toggleable {\n",
       "  /* Default theme specific background. It is overwritten whether we have a\n",
       "  specific estimator or a Pipeline/ColumnTransformer */\n",
       "  background-color: var(--sklearn-color-background);\n",
       "}\n",
       "\n",
       "/* Toggleable label */\n",
       "#sk-container-id-1 label.sk-toggleable__label {\n",
       "  cursor: pointer;\n",
       "  display: block;\n",
       "  width: 100%;\n",
       "  margin-bottom: 0;\n",
       "  padding: 0.5em;\n",
       "  box-sizing: border-box;\n",
       "  text-align: center;\n",
       "}\n",
       "\n",
       "#sk-container-id-1 label.sk-toggleable__label-arrow:before {\n",
       "  /* Arrow on the left of the label */\n",
       "  content: \"▸\";\n",
       "  float: left;\n",
       "  margin-right: 0.25em;\n",
       "  color: var(--sklearn-color-icon);\n",
       "}\n",
       "\n",
       "#sk-container-id-1 label.sk-toggleable__label-arrow:hover:before {\n",
       "  color: var(--sklearn-color-text);\n",
       "}\n",
       "\n",
       "/* Toggleable content - dropdown */\n",
       "\n",
       "#sk-container-id-1 div.sk-toggleable__content {\n",
       "  max-height: 0;\n",
       "  max-width: 0;\n",
       "  overflow: hidden;\n",
       "  text-align: left;\n",
       "  /* unfitted */\n",
       "  background-color: var(--sklearn-color-unfitted-level-0);\n",
       "}\n",
       "\n",
       "#sk-container-id-1 div.sk-toggleable__content.fitted {\n",
       "  /* fitted */\n",
       "  background-color: var(--sklearn-color-fitted-level-0);\n",
       "}\n",
       "\n",
       "#sk-container-id-1 div.sk-toggleable__content pre {\n",
       "  margin: 0.2em;\n",
       "  border-radius: 0.25em;\n",
       "  color: var(--sklearn-color-text);\n",
       "  /* unfitted */\n",
       "  background-color: var(--sklearn-color-unfitted-level-0);\n",
       "}\n",
       "\n",
       "#sk-container-id-1 div.sk-toggleable__content.fitted pre {\n",
       "  /* unfitted */\n",
       "  background-color: var(--sklearn-color-fitted-level-0);\n",
       "}\n",
       "\n",
       "#sk-container-id-1 input.sk-toggleable__control:checked~div.sk-toggleable__content {\n",
       "  /* Expand drop-down */\n",
       "  max-height: 200px;\n",
       "  max-width: 100%;\n",
       "  overflow: auto;\n",
       "}\n",
       "\n",
       "#sk-container-id-1 input.sk-toggleable__control:checked~label.sk-toggleable__label-arrow:before {\n",
       "  content: \"▾\";\n",
       "}\n",
       "\n",
       "/* Pipeline/ColumnTransformer-specific style */\n",
       "\n",
       "#sk-container-id-1 div.sk-label input.sk-toggleable__control:checked~label.sk-toggleable__label {\n",
       "  color: var(--sklearn-color-text);\n",
       "  background-color: var(--sklearn-color-unfitted-level-2);\n",
       "}\n",
       "\n",
       "#sk-container-id-1 div.sk-label.fitted input.sk-toggleable__control:checked~label.sk-toggleable__label {\n",
       "  background-color: var(--sklearn-color-fitted-level-2);\n",
       "}\n",
       "\n",
       "/* Estimator-specific style */\n",
       "\n",
       "/* Colorize estimator box */\n",
       "#sk-container-id-1 div.sk-estimator input.sk-toggleable__control:checked~label.sk-toggleable__label {\n",
       "  /* unfitted */\n",
       "  background-color: var(--sklearn-color-unfitted-level-2);\n",
       "}\n",
       "\n",
       "#sk-container-id-1 div.sk-estimator.fitted input.sk-toggleable__control:checked~label.sk-toggleable__label {\n",
       "  /* fitted */\n",
       "  background-color: var(--sklearn-color-fitted-level-2);\n",
       "}\n",
       "\n",
       "#sk-container-id-1 div.sk-label label.sk-toggleable__label,\n",
       "#sk-container-id-1 div.sk-label label {\n",
       "  /* The background is the default theme color */\n",
       "  color: var(--sklearn-color-text-on-default-background);\n",
       "}\n",
       "\n",
       "/* On hover, darken the color of the background */\n",
       "#sk-container-id-1 div.sk-label:hover label.sk-toggleable__label {\n",
       "  color: var(--sklearn-color-text);\n",
       "  background-color: var(--sklearn-color-unfitted-level-2);\n",
       "}\n",
       "\n",
       "/* Label box, darken color on hover, fitted */\n",
       "#sk-container-id-1 div.sk-label.fitted:hover label.sk-toggleable__label.fitted {\n",
       "  color: var(--sklearn-color-text);\n",
       "  background-color: var(--sklearn-color-fitted-level-2);\n",
       "}\n",
       "\n",
       "/* Estimator label */\n",
       "\n",
       "#sk-container-id-1 div.sk-label label {\n",
       "  font-family: monospace;\n",
       "  font-weight: bold;\n",
       "  display: inline-block;\n",
       "  line-height: 1.2em;\n",
       "}\n",
       "\n",
       "#sk-container-id-1 div.sk-label-container {\n",
       "  text-align: center;\n",
       "}\n",
       "\n",
       "/* Estimator-specific */\n",
       "#sk-container-id-1 div.sk-estimator {\n",
       "  font-family: monospace;\n",
       "  border: 1px dotted var(--sklearn-color-border-box);\n",
       "  border-radius: 0.25em;\n",
       "  box-sizing: border-box;\n",
       "  margin-bottom: 0.5em;\n",
       "  /* unfitted */\n",
       "  background-color: var(--sklearn-color-unfitted-level-0);\n",
       "}\n",
       "\n",
       "#sk-container-id-1 div.sk-estimator.fitted {\n",
       "  /* fitted */\n",
       "  background-color: var(--sklearn-color-fitted-level-0);\n",
       "}\n",
       "\n",
       "/* on hover */\n",
       "#sk-container-id-1 div.sk-estimator:hover {\n",
       "  /* unfitted */\n",
       "  background-color: var(--sklearn-color-unfitted-level-2);\n",
       "}\n",
       "\n",
       "#sk-container-id-1 div.sk-estimator.fitted:hover {\n",
       "  /* fitted */\n",
       "  background-color: var(--sklearn-color-fitted-level-2);\n",
       "}\n",
       "\n",
       "/* Specification for estimator info (e.g. \"i\" and \"?\") */\n",
       "\n",
       "/* Common style for \"i\" and \"?\" */\n",
       "\n",
       ".sk-estimator-doc-link,\n",
       "a:link.sk-estimator-doc-link,\n",
       "a:visited.sk-estimator-doc-link {\n",
       "  float: right;\n",
       "  font-size: smaller;\n",
       "  line-height: 1em;\n",
       "  font-family: monospace;\n",
       "  background-color: var(--sklearn-color-background);\n",
       "  border-radius: 1em;\n",
       "  height: 1em;\n",
       "  width: 1em;\n",
       "  text-decoration: none !important;\n",
       "  margin-left: 1ex;\n",
       "  /* unfitted */\n",
       "  border: var(--sklearn-color-unfitted-level-1) 1pt solid;\n",
       "  color: var(--sklearn-color-unfitted-level-1);\n",
       "}\n",
       "\n",
       ".sk-estimator-doc-link.fitted,\n",
       "a:link.sk-estimator-doc-link.fitted,\n",
       "a:visited.sk-estimator-doc-link.fitted {\n",
       "  /* fitted */\n",
       "  border: var(--sklearn-color-fitted-level-1) 1pt solid;\n",
       "  color: var(--sklearn-color-fitted-level-1);\n",
       "}\n",
       "\n",
       "/* On hover */\n",
       "div.sk-estimator:hover .sk-estimator-doc-link:hover,\n",
       ".sk-estimator-doc-link:hover,\n",
       "div.sk-label-container:hover .sk-estimator-doc-link:hover,\n",
       ".sk-estimator-doc-link:hover {\n",
       "  /* unfitted */\n",
       "  background-color: var(--sklearn-color-unfitted-level-3);\n",
       "  color: var(--sklearn-color-background);\n",
       "  text-decoration: none;\n",
       "}\n",
       "\n",
       "div.sk-estimator.fitted:hover .sk-estimator-doc-link.fitted:hover,\n",
       ".sk-estimator-doc-link.fitted:hover,\n",
       "div.sk-label-container:hover .sk-estimator-doc-link.fitted:hover,\n",
       ".sk-estimator-doc-link.fitted:hover {\n",
       "  /* fitted */\n",
       "  background-color: var(--sklearn-color-fitted-level-3);\n",
       "  color: var(--sklearn-color-background);\n",
       "  text-decoration: none;\n",
       "}\n",
       "\n",
       "/* Span, style for the box shown on hovering the info icon */\n",
       ".sk-estimator-doc-link span {\n",
       "  display: none;\n",
       "  z-index: 9999;\n",
       "  position: relative;\n",
       "  font-weight: normal;\n",
       "  right: .2ex;\n",
       "  padding: .5ex;\n",
       "  margin: .5ex;\n",
       "  width: min-content;\n",
       "  min-width: 20ex;\n",
       "  max-width: 50ex;\n",
       "  color: var(--sklearn-color-text);\n",
       "  box-shadow: 2pt 2pt 4pt #999;\n",
       "  /* unfitted */\n",
       "  background: var(--sklearn-color-unfitted-level-0);\n",
       "  border: .5pt solid var(--sklearn-color-unfitted-level-3);\n",
       "}\n",
       "\n",
       ".sk-estimator-doc-link.fitted span {\n",
       "  /* fitted */\n",
       "  background: var(--sklearn-color-fitted-level-0);\n",
       "  border: var(--sklearn-color-fitted-level-3);\n",
       "}\n",
       "\n",
       ".sk-estimator-doc-link:hover span {\n",
       "  display: block;\n",
       "}\n",
       "\n",
       "/* \"?\"-specific style due to the `<a>` HTML tag */\n",
       "\n",
       "#sk-container-id-1 a.estimator_doc_link {\n",
       "  float: right;\n",
       "  font-size: 1rem;\n",
       "  line-height: 1em;\n",
       "  font-family: monospace;\n",
       "  background-color: var(--sklearn-color-background);\n",
       "  border-radius: 1rem;\n",
       "  height: 1rem;\n",
       "  width: 1rem;\n",
       "  text-decoration: none;\n",
       "  /* unfitted */\n",
       "  color: var(--sklearn-color-unfitted-level-1);\n",
       "  border: var(--sklearn-color-unfitted-level-1) 1pt solid;\n",
       "}\n",
       "\n",
       "#sk-container-id-1 a.estimator_doc_link.fitted {\n",
       "  /* fitted */\n",
       "  border: var(--sklearn-color-fitted-level-1) 1pt solid;\n",
       "  color: var(--sklearn-color-fitted-level-1);\n",
       "}\n",
       "\n",
       "/* On hover */\n",
       "#sk-container-id-1 a.estimator_doc_link:hover {\n",
       "  /* unfitted */\n",
       "  background-color: var(--sklearn-color-unfitted-level-3);\n",
       "  color: var(--sklearn-color-background);\n",
       "  text-decoration: none;\n",
       "}\n",
       "\n",
       "#sk-container-id-1 a.estimator_doc_link.fitted:hover {\n",
       "  /* fitted */\n",
       "  background-color: var(--sklearn-color-fitted-level-3);\n",
       "}\n",
       "</style><div id=\"sk-container-id-1\" class=\"sk-top-container\"><div class=\"sk-text-repr-fallback\"><pre>DataFrameMapper(drop_cols=[],\n",
       "                features=[([&#x27;step&#x27;], [StandardScaler()]),\n",
       "                          ([&#x27;amount&#x27;], [StandardScaler()]),\n",
       "                          ([&#x27;old_origin&#x27;], [StandardScaler()]),\n",
       "                          ([&#x27;new_origin&#x27;], [StandardScaler()]),\n",
       "                          ([&#x27;old_destination&#x27;], [StandardScaler()]),\n",
       "                          ([&#x27;new_destination&#x27;], [StandardScaler()]),\n",
       "                          ([&#x27;type&#x27;], [OneHotEncoder()])])</pre><b>In a Jupyter environment, please rerun this cell to show the HTML representation or trust the notebook. <br />On GitHub, the HTML representation is unable to render, please try loading this page with nbviewer.org.</b></div><div class=\"sk-container\" hidden><div class=\"sk-item\"><div class=\"sk-estimator fitted sk-toggleable\"><input class=\"sk-toggleable__control sk-hidden--visually\" id=\"sk-estimator-id-1\" type=\"checkbox\" checked><label for=\"sk-estimator-id-1\" class=\"sk-toggleable__label fitted sk-toggleable__label-arrow fitted\">&nbsp;DataFrameMapper<span class=\"sk-estimator-doc-link fitted\">i<span>Fitted</span></span></label><div class=\"sk-toggleable__content fitted\"><pre>DataFrameMapper(drop_cols=[],\n",
       "                features=[([&#x27;step&#x27;], [StandardScaler()]),\n",
       "                          ([&#x27;amount&#x27;], [StandardScaler()]),\n",
       "                          ([&#x27;old_origin&#x27;], [StandardScaler()]),\n",
       "                          ([&#x27;new_origin&#x27;], [StandardScaler()]),\n",
       "                          ([&#x27;old_destination&#x27;], [StandardScaler()]),\n",
       "                          ([&#x27;new_destination&#x27;], [StandardScaler()]),\n",
       "                          ([&#x27;type&#x27;], [OneHotEncoder()])])</pre></div> </div></div></div></div>"
      ],
      "text/plain": [
       "DataFrameMapper(drop_cols=[],\n",
       "                features=[(['step'], [StandardScaler()]),\n",
       "                          (['amount'], [StandardScaler()]),\n",
       "                          (['old_origin'], [StandardScaler()]),\n",
       "                          (['new_origin'], [StandardScaler()]),\n",
       "                          (['old_destination'], [StandardScaler()]),\n",
       "                          (['new_destination'], [StandardScaler()]),\n",
       "                          (['type'], [OneHotEncoder()])])"
      ]
     },
     "execution_count": 22,
     "metadata": {},
     "output_type": "execute_result"
    }
   ],
   "source": [
    "# Definimos el mapper. Recibe una lista de (columna/s, transformers)\n",
    "mapper = DataFrameMapper([\n",
    "    (['step'], [StandardScaler()]),\n",
    "    (['amount'], [StandardScaler()]),\n",
    "    (['old_origin'], [StandardScaler()]),\n",
    "    (['new_origin'], [StandardScaler()]),\n",
    "    (['old_destination'], [StandardScaler()]),\n",
    "    (['new_destination'], [StandardScaler()]),\n",
    "    (['type'], [OneHotEncoder()])\n",
    "])\n",
    "\n",
    "# Lo entrenamos con train\n",
    "mapper.fit(train)"
   ]
  },
  {
   "cell_type": "code",
   "execution_count": 23,
   "id": "f35f35f5-06e6-4df8-8f6b-4f8ecdfe07a0",
   "metadata": {},
   "outputs": [
    {
     "data": {
      "text/html": [
       "<div>\n",
       "<style scoped>\n",
       "    .dataframe tbody tr th:only-of-type {\n",
       "        vertical-align: middle;\n",
       "    }\n",
       "\n",
       "    .dataframe tbody tr th {\n",
       "        vertical-align: top;\n",
       "    }\n",
       "\n",
       "    .dataframe thead th {\n",
       "        text-align: right;\n",
       "    }\n",
       "</style>\n",
       "<table border=\"1\" class=\"dataframe\">\n",
       "  <thead>\n",
       "    <tr style=\"text-align: right;\">\n",
       "      <th></th>\n",
       "      <th>step</th>\n",
       "      <th>type</th>\n",
       "      <th>amount</th>\n",
       "      <th>old_origin</th>\n",
       "      <th>new_origin</th>\n",
       "      <th>old_destination</th>\n",
       "      <th>new_destination</th>\n",
       "      <th>is_fraud</th>\n",
       "    </tr>\n",
       "  </thead>\n",
       "  <tbody>\n",
       "    <tr>\n",
       "      <th>4382899</th>\n",
       "      <td>311</td>\n",
       "      <td>PAYMENT</td>\n",
       "      <td>17989.37</td>\n",
       "      <td>34286.00</td>\n",
       "      <td>16296.63</td>\n",
       "      <td>0.00</td>\n",
       "      <td>0.00</td>\n",
       "      <td>0</td>\n",
       "    </tr>\n",
       "    <tr>\n",
       "      <th>211058</th>\n",
       "      <td>13</td>\n",
       "      <td>CASH_OUT</td>\n",
       "      <td>367456.30</td>\n",
       "      <td>0.00</td>\n",
       "      <td>0.00</td>\n",
       "      <td>1177091.92</td>\n",
       "      <td>1544548.22</td>\n",
       "      <td>0</td>\n",
       "    </tr>\n",
       "    <tr>\n",
       "      <th>3943414</th>\n",
       "      <td>286</td>\n",
       "      <td>TRANSFER</td>\n",
       "      <td>1579719.20</td>\n",
       "      <td>39013.31</td>\n",
       "      <td>0.00</td>\n",
       "      <td>1643489.95</td>\n",
       "      <td>3223209.14</td>\n",
       "      <td>0</td>\n",
       "    </tr>\n",
       "    <tr>\n",
       "      <th>2330344</th>\n",
       "      <td>188</td>\n",
       "      <td>CASH_IN</td>\n",
       "      <td>87067.29</td>\n",
       "      <td>2286482.16</td>\n",
       "      <td>2373549.45</td>\n",
       "      <td>929605.52</td>\n",
       "      <td>842538.23</td>\n",
       "      <td>0</td>\n",
       "    </tr>\n",
       "    <tr>\n",
       "      <th>4653792</th>\n",
       "      <td>330</td>\n",
       "      <td>CASH_OUT</td>\n",
       "      <td>181633.11</td>\n",
       "      <td>0.00</td>\n",
       "      <td>0.00</td>\n",
       "      <td>1881460.67</td>\n",
       "      <td>2063093.78</td>\n",
       "      <td>0</td>\n",
       "    </tr>\n",
       "  </tbody>\n",
       "</table>\n",
       "</div>"
      ],
      "text/plain": [
       "         step      type      amount  old_origin  new_origin  old_destination  \\\n",
       "4382899   311   PAYMENT    17989.37    34286.00    16296.63             0.00   \n",
       "211058     13  CASH_OUT   367456.30        0.00        0.00       1177091.92   \n",
       "3943414   286  TRANSFER  1579719.20    39013.31        0.00       1643489.95   \n",
       "2330344   188   CASH_IN    87067.29  2286482.16  2373549.45        929605.52   \n",
       "4653792   330  CASH_OUT   181633.11        0.00        0.00       1881460.67   \n",
       "\n",
       "         new_destination  is_fraud  \n",
       "4382899             0.00         0  \n",
       "211058        1544548.22         0  \n",
       "3943414       3223209.14         0  \n",
       "2330344        842538.23         0  \n",
       "4653792       2063093.78         0  "
      ]
     },
     "execution_count": 23,
     "metadata": {},
     "output_type": "execute_result"
    }
   ],
   "source": [
    "sample = train.sample(5, random_state=42)\n",
    "sample"
   ]
  },
  {
   "cell_type": "code",
   "execution_count": 24,
   "id": "ee9a921e-8b1e-47f6-9703-85f547b015da",
   "metadata": {},
   "outputs": [
    {
     "data": {
      "text/plain": [
       "array([[ 0.48368828, -0.28342662, -0.32027867, -0.3316185 , -0.37375974,\n",
       "        -0.37912695,  0.        ,  0.        ,  0.        ,  1.        ,\n",
       "         0.        ],\n",
       "       [-1.6082247 ,  0.24406434, -0.33084813, -0.33658278, -0.06385618,\n",
       "        -0.00289891,  0.        ,  1.        ,  0.        ,  0.        ,\n",
       "         0.        ],\n",
       "       [ 0.30819222,  2.07387331, -0.31882136, -0.33658278,  0.05893661,\n",
       "         0.40599691,  0.        ,  0.        ,  0.        ,  0.        ,\n",
       "         1.        ],\n",
       "       [-0.37975231, -0.17915931,  0.37401372,  0.38644797, -0.12901415,\n",
       "        -0.17389768,  1.        ,  0.        ,  0.        ,  0.        ,\n",
       "         0.        ],\n",
       "       [ 0.61706528, -0.03642015, -0.33084813, -0.33658278,  0.1215893 ,\n",
       "         0.12341077,  0.        ,  1.        ,  0.        ,  0.        ,\n",
       "         0.        ]])"
      ]
     },
     "execution_count": 24,
     "metadata": {},
     "output_type": "execute_result"
    }
   ],
   "source": [
    "mapper.transform(sample)"
   ]
  },
  {
   "cell_type": "code",
   "execution_count": 25,
   "id": "4101b17d-25db-47b1-b7b3-a4623d297c76",
   "metadata": {},
   "outputs": [
    {
     "data": {
      "text/plain": [
       "['step',\n",
       " 'amount',\n",
       " 'old_origin',\n",
       " 'new_origin',\n",
       " 'old_destination',\n",
       " 'new_destination',\n",
       " 'type_0',\n",
       " 'type_1',\n",
       " 'type_2',\n",
       " 'type_3',\n",
       " 'type_4']"
      ]
     },
     "execution_count": 25,
     "metadata": {},
     "output_type": "execute_result"
    }
   ],
   "source": [
    "mapper.transformed_names_"
   ]
  },
  {
   "cell_type": "code",
   "execution_count": 26,
   "id": "09a85eef-c8be-4c0f-9130-06b70b733fc0",
   "metadata": {},
   "outputs": [],
   "source": [
    "def evaluate_model(model, set_names=('train', 'validation'), title='', show_cm=False):\n",
    "    if title:\n",
    "        display(title)\n",
    "        \n",
    "    final_metrics = {\n",
    "        'Accuracy': [],\n",
    "        'Precision': [],\n",
    "        'Recall': [],\n",
    "        'F1': [],        \n",
    "    }\n",
    "        \n",
    "    for i, frauds in enumerate(set_names):\n",
    "        assert frauds in ['train', 'validation', 'test']\n",
    "        set_data = globals()[frauds]  # <- hack feo...\n",
    "\n",
    "        y = set_data.is_fraud\n",
    "        y_pred = model.predict(set_data)\n",
    "        final_metrics['Accuracy'].append(metrics.accuracy_score(y, y_pred))\n",
    "        final_metrics['Precision'].append(metrics.precision_score(y, y_pred))\n",
    "        final_metrics['Recall'].append(metrics.recall_score(y, y_pred))\n",
    "        final_metrics['F1'].append(metrics.f1_score(y, y_pred))\n",
    "        \n",
    "        if show_cm:\n",
    "            cm = metrics.confusion_matrix(y, y_pred)\n",
    "            cm_plot = metrics.ConfusionMatrixDisplay(confusion_matrix=cm, \n",
    "                                                     display_labels=['no_fraud', 'fraud'])\n",
    "            cm_plot.plot(cmap=\"Blues\")\n",
    "            cm_plot.ax_.set_title(frauds)\n",
    "        \n",
    "    display(pd.DataFrame(final_metrics, index=set_names))"
   ]
  },
  {
   "cell_type": "markdown",
   "id": "4827e3e1-729c-4a0f-be9f-ebbab21ec9d1",
   "metadata": {},
   "source": [
    "### Modelo1: Regresión Logistica"
   ]
  },
  {
   "cell_type": "markdown",
   "id": "92a940a0-8189-42b2-9b27-2aaffb31481f",
   "metadata": {},
   "source": [
    "Para elegir los parametros que mejor se ajustan a nuestro algoritmo realizamos GridSearch obteniendo dicho valor. \n",
    "Esto nos permitirá evaluar el modelo con los hiperparametros que mejor se ajusten. "
   ]
  },
  {
   "cell_type": "code",
   "execution_count": 27,
   "id": "8dda1c65-71c3-4d28-8107-7bff71df5d79",
   "metadata": {},
   "outputs": [
    {
     "name": "stdout",
     "output_type": "stream",
     "text": [
      "Fitting 5 folds for each of 3 candidates, totalling 15 fits\n",
      "Mejores parámetros encontrados:\n",
      "{'C': 10.0, 'penalty': 'l2'}\n",
      "Puntuación media en el conjunto de validación:\n",
      "0.5221643930948051\n"
     ]
    }
   ],
   "source": [
    "lr_clf = LogisticRegression(random_state=42)\n",
    "parameters = {\n",
    "    'penalty': ['l2'],\n",
    "    'C': [0.1, 1.0, 10.0]\n",
    "}\n",
    "grid_search = GridSearchCV(lr_clf, parameters,scoring = 'f1', refit=True, verbose=1)\n",
    "lr_model_grid = Pipeline([\n",
    "    ('mapper', mapper),\n",
    "    ('classifier', grid_search),\n",
    "])\n",
    "\n",
    "lr_model_grid.fit(train, train.is_fraud)\n",
    "\n",
    "print(\"Mejores parámetros encontrados:\")\n",
    "print(grid_search.best_params_)\n",
    "print(\"Puntuación media en el conjunto de validación:\")\n",
    "print(grid_search.best_score_)"
   ]
  },
  {
   "cell_type": "code",
   "execution_count": 28,
   "id": "89c15ab5-764d-4b3a-9f0b-c5d9cbc023e4",
   "metadata": {},
   "outputs": [
    {
     "data": {
      "text/plain": [
       "'Logistic Regression'"
      ]
     },
     "metadata": {},
     "output_type": "display_data"
    },
    {
     "data": {
      "text/html": [
       "<div>\n",
       "<style scoped>\n",
       "    .dataframe tbody tr th:only-of-type {\n",
       "        vertical-align: middle;\n",
       "    }\n",
       "\n",
       "    .dataframe tbody tr th {\n",
       "        vertical-align: top;\n",
       "    }\n",
       "\n",
       "    .dataframe thead th {\n",
       "        text-align: right;\n",
       "    }\n",
       "</style>\n",
       "<table border=\"1\" class=\"dataframe\">\n",
       "  <thead>\n",
       "    <tr style=\"text-align: right;\">\n",
       "      <th></th>\n",
       "      <th>Accuracy</th>\n",
       "      <th>Precision</th>\n",
       "      <th>Recall</th>\n",
       "      <th>F1</th>\n",
       "    </tr>\n",
       "  </thead>\n",
       "  <tbody>\n",
       "    <tr>\n",
       "      <th>train</th>\n",
       "      <td>0.999618</td>\n",
       "      <td>0.955966</td>\n",
       "      <td>0.379797</td>\n",
       "      <td>0.543619</td>\n",
       "    </tr>\n",
       "    <tr>\n",
       "      <th>validation</th>\n",
       "      <td>0.999589</td>\n",
       "      <td>0.979920</td>\n",
       "      <td>0.378882</td>\n",
       "      <td>0.546473</td>\n",
       "    </tr>\n",
       "  </tbody>\n",
       "</table>\n",
       "</div>"
      ],
      "text/plain": [
       "            Accuracy  Precision    Recall        F1\n",
       "train       0.999618   0.955966  0.379797  0.543619\n",
       "validation  0.999589   0.979920  0.378882  0.546473"
      ]
     },
     "metadata": {},
     "output_type": "display_data"
    },
    {
     "data": {
      "image/png": "[encoded data removed]",
      "text/plain": [
       "<Figure size 432x288 with 2 Axes>"
      ]
     },
     "metadata": {
      "needs_background": "light"
     },
     "output_type": "display_data"
    },
    {
     "data": {
      "image/png": "[encoded data removed]",
      "text/plain": [
       "<Figure size 432x288 with 2 Axes>"
      ]
     },
     "metadata": {
      "needs_background": "light"
     },
     "output_type": "display_data"
    }
   ],
   "source": [
    "evaluate_model(lr_model_grid, title='Logistic Regression', show_cm=True)"
   ]
  },
  {
   "cell_type": "markdown",
   "id": "dc8f9622-412d-4503-9d94-ecb34af69b07",
   "metadata": {},
   "source": [
    "### Modelo 2: K Nearest Neighbors"
   ]
  },
  {
   "cell_type": "markdown",
   "id": "57df2796-7d87-444b-9a6a-c943460027b1",
   "metadata": {},
   "source": [
    "Para elegir los parametros que mejor se ajustan a nuestro algoritmo realizamos GridSearch obteniendo dicho valor. \n",
    "Esto nos permitirá evaluar el modelo con los hiperparámetros que mejor se ajusten al valor de k. "
   ]
  },
  {
   "cell_type": "code",
   "execution_count": 29,
   "id": "879bba80-fd5f-40d9-bcf2-eb9aa80866c6",
   "metadata": {},
   "outputs": [
    {
     "name": "stdout",
     "output_type": "stream",
     "text": [
      "Fitting 5 folds for each of 8 candidates, totalling 40 fits\n",
      "Mejores parámetros encontrados:\n",
      "{'n_neighbors': 5, 'p': 2, 'weights': 'distance'}\n",
      "Puntuación media en el conjunto de validación:\n",
      "0.999649738728257\n"
     ]
    }
   ],
   "source": [
    "knn_clf = KNeighborsClassifier(n_neighbors=1)\n",
    "parameters = {'n_neighbors': [3, 5, 7, 11],              \n",
    "              'weights': ['distance'],\n",
    "              'p': [1, 2]}\n",
    "\n",
    "knn_grid_search = GridSearchCV(knn_clf, parameters, refit=True, verbose=1)\n",
    "knn_model_grid = Pipeline([\n",
    "    ('mapper', mapper),\n",
    "    ('classifier', knn_grid_search),\n",
    "])\n",
    "\n",
    "knn_model_grid.fit(train, train.is_fraud)\n",
    "\n",
    "print(\"Mejores parámetros encontrados:\")\n",
    "print(knn_grid_search.best_params_)\n",
    "print(\"Puntuación media en el conjunto de validación:\")\n",
    "print(knn_grid_search.best_score_)"
   ]
  },
  {
   "cell_type": "code",
   "execution_count": 30,
   "id": "30de84d7-826f-4e25-90e3-6049a2d94067",
   "metadata": {},
   "outputs": [
    {
     "data": {
      "text/plain": [
       "'Knn'"
      ]
     },
     "metadata": {},
     "output_type": "display_data"
    },
    {
     "data": {
      "text/html": [
       "<div>\n",
       "<style scoped>\n",
       "    .dataframe tbody tr th:only-of-type {\n",
       "        vertical-align: middle;\n",
       "    }\n",
       "\n",
       "    .dataframe tbody tr th {\n",
       "        vertical-align: top;\n",
       "    }\n",
       "\n",
       "    .dataframe thead th {\n",
       "        text-align: right;\n",
       "    }\n",
       "</style>\n",
       "<table border=\"1\" class=\"dataframe\">\n",
       "  <thead>\n",
       "    <tr style=\"text-align: right;\">\n",
       "      <th></th>\n",
       "      <th>Accuracy</th>\n",
       "      <th>Precision</th>\n",
       "      <th>Recall</th>\n",
       "      <th>F1</th>\n",
       "    </tr>\n",
       "  </thead>\n",
       "  <tbody>\n",
       "    <tr>\n",
       "      <th>train</th>\n",
       "      <td>1.000000</td>\n",
       "      <td>1.000000</td>\n",
       "      <td>1.000000</td>\n",
       "      <td>1.00000</td>\n",
       "    </tr>\n",
       "    <tr>\n",
       "      <th>validation</th>\n",
       "      <td>0.999627</td>\n",
       "      <td>0.960133</td>\n",
       "      <td>0.448758</td>\n",
       "      <td>0.61164</td>\n",
       "    </tr>\n",
       "  </tbody>\n",
       "</table>\n",
       "</div>"
      ],
      "text/plain": [
       "            Accuracy  Precision    Recall       F1\n",
       "train       1.000000   1.000000  1.000000  1.00000\n",
       "validation  0.999627   0.960133  0.448758  0.61164"
      ]
     },
     "metadata": {},
     "output_type": "display_data"
    },
    {
     "data": {
      "image/png": "[encoded data removed]",
      "text/plain": [
       "<Figure size 432x288 with 2 Axes>"
      ]
     },
     "metadata": {
      "needs_background": "light"
     },
     "output_type": "display_data"
    },
    {
     "data": {
      "image/png": "[encoded data removed]",
      "text/plain": [
       "<Figure size 432x288 with 2 Axes>"
      ]
     },
     "metadata": {
      "needs_background": "light"
     },
     "output_type": "display_data"
    }
   ],
   "source": [
    "evaluate_model(knn_model_grid, title='Knn', show_cm=True)"
   ]
  },
  {
   "cell_type": "markdown",
   "id": "e0630cb9-d4d1-4c5b-b253-7fd35ae58599",
   "metadata": {},
   "source": [
    "### Modelo 3: Random Forest"
   ]
  },
  {
   "cell_type": "markdown",
   "id": "828a8529-a2b6-41c2-a7c5-d6af58c00051",
   "metadata": {},
   "source": [
    "Para elegir los parametros que mejor se ajustan a nuestro algoritmo realizamos GridSearch obteniendo dicho valor. \n",
    "Esto nos permitirá evaluar el modelo con los hiperparámetros que mejor se ajusten. "
   ]
  },
  {
   "cell_type": "code",
   "execution_count": 31,
   "id": "f50d0d1d-74e6-46e0-981b-6ebb59ef6061",
   "metadata": {},
   "outputs": [
    {
     "name": "stdout",
     "output_type": "stream",
     "text": [
      "Fitting 5 folds for each of 12 candidates, totalling 60 fits\n",
      "Mejores parámetros encontrados:\n",
      "{'max_depth': 20, 'max_features': 11, 'n_estimators': 10}\n",
      "Puntuación media en el conjunto de validación:\n",
      "0.7437995112045948\n"
     ]
    }
   ],
   "source": [
    "rf_clf = RandomForestClassifier(random_state=42)\n",
    "parameters = {'n_estimators': [10, 20], \n",
    "              'max_depth':[10, 15, 20],\n",
    "              'max_features': [7, 11]}\n",
    "\n",
    "rf_grid_search = GridSearchCV(rf_clf, parameters,scoring = 'f1' , refit=True, verbose=1)\n",
    "rf_model_grid = Pipeline([\n",
    "    ('mapper', mapper),\n",
    "    ('classifier', rf_grid_search),\n",
    "])\n",
    "\n",
    "rf_model_grid.fit(train, train.is_fraud)\n",
    "\n",
    "print(\"Mejores parámetros encontrados:\")\n",
    "print(rf_grid_search.best_params_)\n",
    "print(\"Puntuación media en el conjunto de validación:\")\n",
    "print(rf_grid_search.best_score_)"
   ]
  },
  {
   "cell_type": "code",
   "execution_count": 32,
   "id": "224ff648-8485-4705-b952-2bcc1e71d7bc",
   "metadata": {},
   "outputs": [
    {
     "data": {
      "text/plain": [
       "'Random Forest'"
      ]
     },
     "metadata": {},
     "output_type": "display_data"
    },
    {
     "data": {
      "text/html": [
       "<div>\n",
       "<style scoped>\n",
       "    .dataframe tbody tr th:only-of-type {\n",
       "        vertical-align: middle;\n",
       "    }\n",
       "\n",
       "    .dataframe tbody tr th {\n",
       "        vertical-align: top;\n",
       "    }\n",
       "\n",
       "    .dataframe thead th {\n",
       "        text-align: right;\n",
       "    }\n",
       "</style>\n",
       "<table border=\"1\" class=\"dataframe\">\n",
       "  <thead>\n",
       "    <tr style=\"text-align: right;\">\n",
       "      <th></th>\n",
       "      <th>Accuracy</th>\n",
       "      <th>Precision</th>\n",
       "      <th>Recall</th>\n",
       "      <th>F1</th>\n",
       "    </tr>\n",
       "  </thead>\n",
       "  <tbody>\n",
       "    <tr>\n",
       "      <th>train</th>\n",
       "      <td>0.999890</td>\n",
       "      <td>0.992512</td>\n",
       "      <td>0.822799</td>\n",
       "      <td>0.899722</td>\n",
       "    </tr>\n",
       "    <tr>\n",
       "      <th>validation</th>\n",
       "      <td>0.999741</td>\n",
       "      <td>0.927473</td>\n",
       "      <td>0.655280</td>\n",
       "      <td>0.767971</td>\n",
       "    </tr>\n",
       "  </tbody>\n",
       "</table>\n",
       "</div>"
      ],
      "text/plain": [
       "            Accuracy  Precision    Recall        F1\n",
       "train       0.999890   0.992512  0.822799  0.899722\n",
       "validation  0.999741   0.927473  0.655280  0.767971"
      ]
     },
     "metadata": {},
     "output_type": "display_data"
    },
    {
     "data": {
      "image/png": "[encoded data removed]",
      "text/plain": [
       "<Figure size 432x288 with 2 Axes>"
      ]
     },
     "metadata": {
      "needs_background": "light"
     },
     "output_type": "display_data"
    },
    {
     "data": {
      "image/png": "[encoded data removed]",
      "text/plain": [
       "<Figure size 432x288 with 2 Axes>"
      ]
     },
     "metadata": {
      "needs_background": "light"
     },
     "output_type": "display_data"
    }
   ],
   "source": [
    "evaluate_model(rf_model_grid, title='Random Forest', show_cm=True)"
   ]
  },
  {
   "cell_type": "markdown",
   "id": "e43fc7d8-63ab-414c-8e67-2c9a35acf957",
   "metadata": {},
   "source": [
    "Como nuestro GridSearch tenia como maximo 20 y nos dio 20, evaluamos que resultado tenia con max_depth en 25"
   ]
  },
  {
   "cell_type": "code",
   "execution_count": 34,
   "id": "71b67545-16d4-49c5-aff2-e83dadf2d521",
   "metadata": {},
   "outputs": [
    {
     "data": {
      "text/plain": [
       "'Random Forest'"
      ]
     },
     "metadata": {},
     "output_type": "display_data"
    },
    {
     "data": {
      "text/html": [
       "<div>\n",
       "<style scoped>\n",
       "    .dataframe tbody tr th:only-of-type {\n",
       "        vertical-align: middle;\n",
       "    }\n",
       "\n",
       "    .dataframe tbody tr th {\n",
       "        vertical-align: top;\n",
       "    }\n",
       "\n",
       "    .dataframe thead th {\n",
       "        text-align: right;\n",
       "    }\n",
       "</style>\n",
       "<table border=\"1\" class=\"dataframe\">\n",
       "  <thead>\n",
       "    <tr style=\"text-align: right;\">\n",
       "      <th></th>\n",
       "      <th>Accuracy</th>\n",
       "      <th>Precision</th>\n",
       "      <th>Recall</th>\n",
       "      <th>F1</th>\n",
       "    </tr>\n",
       "  </thead>\n",
       "  <tbody>\n",
       "    <tr>\n",
       "      <th>train</th>\n",
       "      <td>0.999963</td>\n",
       "      <td>0.997606</td>\n",
       "      <td>0.940745</td>\n",
       "      <td>0.968342</td>\n",
       "    </tr>\n",
       "    <tr>\n",
       "      <th>validation</th>\n",
       "      <td>0.999747</td>\n",
       "      <td>0.907216</td>\n",
       "      <td>0.683230</td>\n",
       "      <td>0.779451</td>\n",
       "    </tr>\n",
       "  </tbody>\n",
       "</table>\n",
       "</div>"
      ],
      "text/plain": [
       "            Accuracy  Precision    Recall        F1\n",
       "train       0.999963   0.997606  0.940745  0.968342\n",
       "validation  0.999747   0.907216  0.683230  0.779451"
      ]
     },
     "metadata": {},
     "output_type": "display_data"
    }
   ],
   "source": [
    "rf_best_params = {'max_depth': 25, 'max_features': 11, 'n_estimators': 10}\n",
    "rf_model_mayor_profundidad = Pipeline([\n",
    "    ('mapper', mapper),\n",
    "    ('classifier', RandomForestClassifier(**rf_best_params, random_state=42)),\n",
    "])\n",
    "rf_model_mayor_profundidad.fit(train, train.is_fraud)\n",
    "\n",
    "evaluate_model(rf_model_mayor_profundidad, title='Random Forest')"
   ]
  },
  {
   "cell_type": "markdown",
   "id": "a02e2c97-5cc2-45bf-98d6-3b25d5fa4aa8",
   "metadata": {},
   "source": [
    "Luego de entrenar y evaluar tres algoritmos  utilizando búsqueda de hiper-parámetros mediante grid search, se observan claras diferencias en el rendimiento de los modelos en base a su F1-score. El Random Forest es el de mejor valor en F1 (0,76) , siendo el modelo con mejor rendimiento en comparación con K-NN (F1 de 0,61) y Regresión Logística (F1 de 0,54).\n",
    "\n",
    "Estos resultados sugieren que Random Forest es el modelo más adecuado para el problema, probablemente debido a su capacidad para manejar la complejidad de los datos mediante la agregación de múltiples árboles de decisión. El Random Forest se posiciona como la mejor opción entre los modelos evaluados, debido a su balance entre capacidad de ajuste y complejidad"
   ]
  },
  {
   "cell_type": "markdown",
   "id": "bb38420d-24eb-443d-aef7-efe80095fd4d",
   "metadata": {},
   "source": [
    "* Realizar experimentos que utilicen como datos de entrada representaciones intermedias de los datos (generadas por técnicas de reducción de dimensiones como PCA). Compare los resultados obtenidos contra los casos previos, interprete y proponga conclusiones."
   ]
  },
  {
   "cell_type": "markdown",
   "id": "27e8e363-d0e5-4230-a182-fd64f1ef3586",
   "metadata": {},
   "source": [
    "### Regresion logística con PCA"
   ]
  },
  {
   "cell_type": "code",
   "execution_count": 47,
   "id": "9e6691ea-bf2f-453c-b9fd-dfc78ccc8655",
   "metadata": {},
   "outputs": [
    {
     "name": "stdout",
     "output_type": "stream",
     "text": [
      "LR Training time w/ PCA: 5.131383419036865s\n"
     ]
    }
   ],
   "source": [
    "import time\n",
    "lr_best_params = {'C': 10.0, 'penalty': 'l2'}\n",
    "\n",
    "lr_model_pca = LogisticRegression(**lr_best_params, random_state=42)\n",
    "lr_pipeline_pca = Pipeline([\n",
    "    ('mapper', mapper),\n",
    "    ('pca', PCA(n_components=0.95)),\n",
    "    ('classifier', lr_model_pca),\n",
    "])\n",
    "\n",
    "start = time.time()\n",
    "lr_pipeline_pca.fit(train, train.is_fraud)\n",
    "stop = time.time()\n",
    "print(f\"LR Training time w/ PCA: {stop - start}s\")"
   ]
  },
  {
   "cell_type": "code",
   "execution_count": 48,
   "id": "eac70d52-dd08-473c-aa49-328d02669a84",
   "metadata": {},
   "outputs": [
    {
     "data": {
      "text/plain": [
       "'Logistic Regression with PCA'"
      ]
     },
     "metadata": {},
     "output_type": "display_data"
    },
    {
     "data": {
      "text/html": [
       "<div>\n",
       "<style scoped>\n",
       "    .dataframe tbody tr th:only-of-type {\n",
       "        vertical-align: middle;\n",
       "    }\n",
       "\n",
       "    .dataframe tbody tr th {\n",
       "        vertical-align: top;\n",
       "    }\n",
       "\n",
       "    .dataframe thead th {\n",
       "        text-align: right;\n",
       "    }\n",
       "</style>\n",
       "<table border=\"1\" class=\"dataframe\">\n",
       "  <thead>\n",
       "    <tr style=\"text-align: right;\">\n",
       "      <th></th>\n",
       "      <th>Accuracy</th>\n",
       "      <th>Precision</th>\n",
       "      <th>Recall</th>\n",
       "      <th>F1</th>\n",
       "    </tr>\n",
       "  </thead>\n",
       "  <tbody>\n",
       "    <tr>\n",
       "      <th>train</th>\n",
       "      <td>0.999449</td>\n",
       "      <td>0.846890</td>\n",
       "      <td>0.099887</td>\n",
       "      <td>0.178698</td>\n",
       "    </tr>\n",
       "    <tr>\n",
       "      <th>validation</th>\n",
       "      <td>0.999417</td>\n",
       "      <td>0.926829</td>\n",
       "      <td>0.118012</td>\n",
       "      <td>0.209366</td>\n",
       "    </tr>\n",
       "  </tbody>\n",
       "</table>\n",
       "</div>"
      ],
      "text/plain": [
       "            Accuracy  Precision    Recall        F1\n",
       "train       0.999449   0.846890  0.099887  0.178698\n",
       "validation  0.999417   0.926829  0.118012  0.209366"
      ]
     },
     "metadata": {},
     "output_type": "display_data"
    },
    {
     "data": {
      "image/png": "[encoded data removed]",
      "text/plain": [
       "<Figure size 432x288 with 2 Axes>"
      ]
     },
     "metadata": {
      "needs_background": "light"
     },
     "output_type": "display_data"
    },
    {
     "data": {
      "image/png": "[encoded data removed]",
      "text/plain": [
       "<Figure size 432x288 with 2 Axes>"
      ]
     },
     "metadata": {
      "needs_background": "light"
     },
     "output_type": "display_data"
    }
   ],
   "source": [
    "evaluate_model(lr_pipeline_pca, title='Logistic Regression with PCA', show_cm=True)"
   ]
  },
  {
   "cell_type": "markdown",
   "id": "0cfc6e74-0cdd-4d83-9e04-5913b571949c",
   "metadata": {},
   "source": [
    "### Random Forest con PCA"
   ]
  },
  {
   "cell_type": "code",
   "execution_count": 49,
   "id": "56edcaf4-d611-43fa-905c-8946e599ea2a",
   "metadata": {},
   "outputs": [
    {
     "name": "stdout",
     "output_type": "stream",
     "text": [
      "RF Training time w/ PCA: 364.4684875011444s\n"
     ]
    }
   ],
   "source": [
    "rf_best_params = {'max_depth': 20, 'max_features': 11, 'n_estimators': 10}\n",
    "\n",
    "rf_model_pca = RandomForestClassifier(**rf_best_params, random_state=42)\n",
    "rf_pipeline_pca = Pipeline([\n",
    "    ('mapper', mapper),\n",
    "    ('pca', PCA(n_components=0.95)),\n",
    "    ('classifier', rf_model_pca),\n",
    "])\n",
    "\n",
    "start = time.time()\n",
    "rf_pipeline_pca.fit(train, train.is_fraud)\n",
    "stop = time.time()\n",
    "print(f\"RF Training time w/ PCA: {stop - start}s\")"
   ]
  },
  {
   "cell_type": "code",
   "execution_count": 50,
   "id": "54c99689-6830-40db-89f6-4ab55f086c59",
   "metadata": {},
   "outputs": [
    {
     "data": {
      "text/plain": [
       "'Random Forest with PCA'"
      ]
     },
     "metadata": {},
     "output_type": "display_data"
    },
    {
     "data": {
      "text/html": [
       "<div>\n",
       "<style scoped>\n",
       "    .dataframe tbody tr th:only-of-type {\n",
       "        vertical-align: middle;\n",
       "    }\n",
       "\n",
       "    .dataframe tbody tr th {\n",
       "        vertical-align: top;\n",
       "    }\n",
       "\n",
       "    .dataframe thead th {\n",
       "        text-align: right;\n",
       "    }\n",
       "</style>\n",
       "<table border=\"1\" class=\"dataframe\">\n",
       "  <thead>\n",
       "    <tr style=\"text-align: right;\">\n",
       "      <th></th>\n",
       "      <th>Accuracy</th>\n",
       "      <th>Precision</th>\n",
       "      <th>Recall</th>\n",
       "      <th>F1</th>\n",
       "    </tr>\n",
       "  </thead>\n",
       "  <tbody>\n",
       "    <tr>\n",
       "      <th>train</th>\n",
       "      <td>0.999726</td>\n",
       "      <td>0.998963</td>\n",
       "      <td>0.543454</td>\n",
       "      <td>0.703947</td>\n",
       "    </tr>\n",
       "    <tr>\n",
       "      <th>validation</th>\n",
       "      <td>0.999622</td>\n",
       "      <td>0.953333</td>\n",
       "      <td>0.444099</td>\n",
       "      <td>0.605932</td>\n",
       "    </tr>\n",
       "  </tbody>\n",
       "</table>\n",
       "</div>"
      ],
      "text/plain": [
       "            Accuracy  Precision    Recall        F1\n",
       "train       0.999726   0.998963  0.543454  0.703947\n",
       "validation  0.999622   0.953333  0.444099  0.605932"
      ]
     },
     "metadata": {},
     "output_type": "display_data"
    },
    {
     "data": {
      "image/png": "[encoded data removed]",
      "text/plain": [
       "<Figure size 432x288 with 2 Axes>"
      ]
     },
     "metadata": {
      "needs_background": "light"
     },
     "output_type": "display_data"
    },
    {
     "data": {
      "image/png": "[encoded data removed]",
      "text/plain": [
       "<Figure size 432x288 with 2 Axes>"
      ]
     },
     "metadata": {
      "needs_background": "light"
     },
     "output_type": "display_data"
    }
   ],
   "source": [
    "evaluate_model(rf_pipeline_pca, title='Random Forest with PCA', show_cm=True)"
   ]
  },
  {
   "cell_type": "markdown",
   "id": "017e3831-1e51-4148-a4e2-00acf84162d1",
   "metadata": {},
   "source": [
    "### K Nearest Neighbors con PCA"
   ]
  },
  {
   "cell_type": "code",
   "execution_count": 51,
   "id": "e142c0c2-a485-49c6-beea-ac510dedcc45",
   "metadata": {},
   "outputs": [
    {
     "name": "stdout",
     "output_type": "stream",
     "text": [
      "RF Training time w/ PCA: 362.6853516101837s\n"
     ]
    }
   ],
   "source": [
    "knn_best_params = {'n_neighbors': 5, 'p': 2, 'weights': 'distance'}\n",
    "\n",
    "knn_model_pca = KNeighborsClassifier(**knn_best_params)\n",
    "knn_pipeline_pca = Pipeline([\n",
    "    ('mapper', mapper),\n",
    "    ('pca', PCA(n_components=0.95)),\n",
    "    ('classifier', rf_model_pca),\n",
    "])\n",
    "\n",
    "start = time.time()\n",
    "knn_pipeline_pca.fit(train, train.is_fraud)\n",
    "stop = time.time()\n",
    "print(f\"RF Training time w/ PCA: {stop - start}s\")"
   ]
  },
  {
   "cell_type": "code",
   "execution_count": 52,
   "id": "6bcb4a59-8c46-487d-848a-b2f849a91e82",
   "metadata": {},
   "outputs": [
    {
     "data": {
      "text/plain": [
       "'KNN with PCA'"
      ]
     },
     "metadata": {},
     "output_type": "display_data"
    },
    {
     "data": {
      "text/html": [
       "<div>\n",
       "<style scoped>\n",
       "    .dataframe tbody tr th:only-of-type {\n",
       "        vertical-align: middle;\n",
       "    }\n",
       "\n",
       "    .dataframe tbody tr th {\n",
       "        vertical-align: top;\n",
       "    }\n",
       "\n",
       "    .dataframe thead th {\n",
       "        text-align: right;\n",
       "    }\n",
       "</style>\n",
       "<table border=\"1\" class=\"dataframe\">\n",
       "  <thead>\n",
       "    <tr style=\"text-align: right;\">\n",
       "      <th></th>\n",
       "      <th>Accuracy</th>\n",
       "      <th>Precision</th>\n",
       "      <th>Recall</th>\n",
       "      <th>F1</th>\n",
       "    </tr>\n",
       "  </thead>\n",
       "  <tbody>\n",
       "    <tr>\n",
       "      <th>train</th>\n",
       "      <td>0.999726</td>\n",
       "      <td>0.998963</td>\n",
       "      <td>0.543454</td>\n",
       "      <td>0.703947</td>\n",
       "    </tr>\n",
       "    <tr>\n",
       "      <th>validation</th>\n",
       "      <td>0.999622</td>\n",
       "      <td>0.953333</td>\n",
       "      <td>0.444099</td>\n",
       "      <td>0.605932</td>\n",
       "    </tr>\n",
       "  </tbody>\n",
       "</table>\n",
       "</div>"
      ],
      "text/plain": [
       "            Accuracy  Precision    Recall        F1\n",
       "train       0.999726   0.998963  0.543454  0.703947\n",
       "validation  0.999622   0.953333  0.444099  0.605932"
      ]
     },
     "metadata": {},
     "output_type": "display_data"
    },
    {
     "data": {
      "image/png": "[encoded data removed]",
      "text/plain": [
       "<Figure size 432x288 with 2 Axes>"
      ]
     },
     "metadata": {
      "needs_background": "light"
     },
     "output_type": "display_data"
    },
    {
     "data": {
      "image/png": "[encoded data removed]",
      "text/plain": [
       "<Figure size 432x288 with 2 Axes>"
      ]
     },
     "metadata": {
      "needs_background": "light"
     },
     "output_type": "display_data"
    }
   ],
   "source": [
    "evaluate_model(knn_pipeline_pca, title='KNN with PCA', show_cm=True)"
   ]
  },
  {
   "cell_type": "markdown",
   "id": "4abfba29-cf43-4792-9b33-efe8d8e771c0",
   "metadata": {},
   "source": [
    "Conclusión sobre el Impacto de PCA en el Rendimiento de los Modelos\n",
    "\n",
    "Al aplicar PCA con el 95% de varianza explicada, se observaron cambios significativos en el rendimiento de los modelos \n",
    "\n",
    "Regresión Logística: La aplicación de PCA resultó en un F1-score de 0,20 en validación, lo que representa una disminución considerable respecto al F1 de 0,54 obtenido sin PCA. La reducción de dimensiones suponemos eliminó características importantes que eran relevantes para la predicción, afectando negativamente el desempeño del modelo. \n",
    "\n",
    "Random Forest: mostró un F1-score de 0,60 con PCA, en comparación con 0,76 sin PCA. Si bien hubo una disminución en el rendimiento se mantiene un rendimiento alto en comparación con la Regresión Logística. Esto indica que el modelo es más robusto frente a la reducción de dimensiones y puede manejar de manera más efectiva la información comprimida.\n",
    "\n",
    "Interpretación y Propuestas\n",
    "\n",
    "La diferencia en los resultados sugiere que la técnica de reducción de dimensiones tiene menos en modelos que dependen fuertemente de características individuales, como la Regresión Logística, en comparación con modelos más complejos como Random Forest que pueden captar relaciones a través de un conjunto de características más reducido.\n",
    "\n",
    "Como conclusion podemos decir que para la Regresión Logística la reducción de dimensiones con PCA puede no ser adecuada, ya que la pérdida de características importantes está afectando significativamente el rendimiento. Para el Random Forest aunque el rendimiento también disminuya con PCA, el impacto es menos pronunciado, indicando que el modelo es más robusto en presencia de características reducidas.\n",
    "\n",
    "Vemos que la reducción de dimensiones mediante PCA puede ser beneficiosa en ciertos contextos, pero su impacto en los modelos varía."
   ]
  },
  {
   "cell_type": "markdown",
   "id": "221737ca-dcae-480a-8246-db7fd85c133f",
   "metadata": {},
   "source": [
    "* Aplicar alguna técnica de feature engineering para mejorar los datos de entrada a los modelos, y mostrar la comparativa de los resultados obtenidos en cada caso. Si no es posible o útil, fundamentar el motivo por el cual no se realizará."
   ]
  },
  {
   "cell_type": "code",
   "execution_count": 56,
   "id": "c821b736-b4ed-4b9c-9151-ff6965ee313f",
   "metadata": {},
   "outputs": [
    {
     "name": "stdout",
     "output_type": "stream",
     "text": [
      "   old_origin    amount  percentage_transferred\n",
      "0    170136.0   9839.64                0.057834\n",
      "1     21249.0   1864.28                0.087731\n",
      "4     41554.0  11668.14                0.280788\n",
      "5     53860.0   7817.71                0.145146\n",
      "6    183195.0   7107.77                0.038799\n"
     ]
    },
    {
     "data": {
      "text/html": [
       "<div>\n",
       "<style scoped>\n",
       "    .dataframe tbody tr th:only-of-type {\n",
       "        vertical-align: middle;\n",
       "    }\n",
       "\n",
       "    .dataframe tbody tr th {\n",
       "        vertical-align: top;\n",
       "    }\n",
       "\n",
       "    .dataframe thead th {\n",
       "        text-align: right;\n",
       "    }\n",
       "</style>\n",
       "<table border=\"1\" class=\"dataframe\">\n",
       "  <thead>\n",
       "    <tr style=\"text-align: right;\">\n",
       "      <th></th>\n",
       "      <th>step</th>\n",
       "      <th>type</th>\n",
       "      <th>amount</th>\n",
       "      <th>old_origin</th>\n",
       "      <th>new_origin</th>\n",
       "      <th>old_destination</th>\n",
       "      <th>new_destination</th>\n",
       "      <th>is_fraud</th>\n",
       "      <th>percentage_transferred</th>\n",
       "    </tr>\n",
       "  </thead>\n",
       "  <tbody>\n",
       "    <tr>\n",
       "      <th>840315</th>\n",
       "      <td>41</td>\n",
       "      <td>DEBIT</td>\n",
       "      <td>1078.54</td>\n",
       "      <td>0.00</td>\n",
       "      <td>0.00</td>\n",
       "      <td>3884.85</td>\n",
       "      <td>4963.38</td>\n",
       "      <td>0</td>\n",
       "      <td>0.000000</td>\n",
       "    </tr>\n",
       "    <tr>\n",
       "      <th>1546626</th>\n",
       "      <td>154</td>\n",
       "      <td>CASH_OUT</td>\n",
       "      <td>158355.33</td>\n",
       "      <td>0.00</td>\n",
       "      <td>0.00</td>\n",
       "      <td>1728443.03</td>\n",
       "      <td>1886798.36</td>\n",
       "      <td>0</td>\n",
       "      <td>0.000000</td>\n",
       "    </tr>\n",
       "    <tr>\n",
       "      <th>964133</th>\n",
       "      <td>44</td>\n",
       "      <td>CASH_OUT</td>\n",
       "      <td>38606.99</td>\n",
       "      <td>895.65</td>\n",
       "      <td>0.00</td>\n",
       "      <td>114701.94</td>\n",
       "      <td>153308.93</td>\n",
       "      <td>0</td>\n",
       "      <td>0.000000</td>\n",
       "    </tr>\n",
       "    <tr>\n",
       "      <th>817571</th>\n",
       "      <td>40</td>\n",
       "      <td>PAYMENT</td>\n",
       "      <td>13796.13</td>\n",
       "      <td>29976.00</td>\n",
       "      <td>16179.87</td>\n",
       "      <td>0.00</td>\n",
       "      <td>0.00</td>\n",
       "      <td>0</td>\n",
       "      <td>0.460224</td>\n",
       "    </tr>\n",
       "    <tr>\n",
       "      <th>502889</th>\n",
       "      <td>20</td>\n",
       "      <td>CASH_OUT</td>\n",
       "      <td>205747.34</td>\n",
       "      <td>3985.00</td>\n",
       "      <td>0.00</td>\n",
       "      <td>765359.91</td>\n",
       "      <td>1165697.39</td>\n",
       "      <td>0</td>\n",
       "      <td>0.000000</td>\n",
       "    </tr>\n",
       "  </tbody>\n",
       "</table>\n",
       "</div>"
      ],
      "text/plain": [
       "         step      type     amount  old_origin  new_origin  old_destination  \\\n",
       "840315     41     DEBIT    1078.54        0.00        0.00          3884.85   \n",
       "1546626   154  CASH_OUT  158355.33        0.00        0.00       1728443.03   \n",
       "964133     44  CASH_OUT   38606.99      895.65        0.00        114701.94   \n",
       "817571     40   PAYMENT   13796.13    29976.00    16179.87             0.00   \n",
       "502889     20  CASH_OUT  205747.34     3985.00        0.00        765359.91   \n",
       "\n",
       "         new_destination  is_fraud  percentage_transferred  \n",
       "840315           4963.38         0                0.000000  \n",
       "1546626       1886798.36         0                0.000000  \n",
       "964133         153308.93         0                0.000000  \n",
       "817571              0.00         0                0.460224  \n",
       "502889        1165697.39         0                0.000000  "
      ]
     },
     "execution_count": 56,
     "metadata": {},
     "output_type": "execute_result"
    }
   ],
   "source": [
    "frauds_fe = frauds\n",
    "frauds_fe['percentage_transferred'] = frauds_fe.apply(\n",
    "    lambda row: row['amount'] / (row['old_origin'] + 1) if row['amount'] <= row['old_origin'] else 0, axis=1\n",
    ")\n",
    "print(frauds[['old_origin', 'amount', 'percentage_transferred']].head())\n",
    "frauds_fe.sample(5)"
   ]
  },
  {
   "cell_type": "code",
   "execution_count": 57,
   "id": "fa425d52-c2fc-4a47-948d-e2603968ce37",
   "metadata": {},
   "outputs": [
    {
     "data": {
      "text/plain": [
       "((2954937, 9), (984979, 9), (984980, 9))"
      ]
     },
     "execution_count": 57,
     "metadata": {},
     "output_type": "execute_result"
    }
   ],
   "source": [
    "train_fe, not_train = train_test_split(frauds_fe, test_size=0.4, random_state=42)\n",
    "validation_fe, test_fe = train_test_split(not_train, test_size=0.5, random_state=42)\n",
    "\n",
    "train_fe.shape, validation_fe.shape, test_fe.shape"
   ]
  },
  {
   "cell_type": "code",
   "execution_count": 58,
   "id": "6cb45ba1-90a3-4983-a12f-ade4d301ca1c",
   "metadata": {},
   "outputs": [
    {
     "data": {
      "text/html": [
       "<style>#sk-container-id-2 {\n",
       "  /* Definition of color scheme common for light and dark mode */\n",
       "  --sklearn-color-text: black;\n",
       "  --sklearn-color-line: gray;\n",
       "  /* Definition of color scheme for unfitted estimators */\n",
       "  --sklearn-color-unfitted-level-0: #fff5e6;\n",
       "  --sklearn-color-unfitted-level-1: #f6e4d2;\n",
       "  --sklearn-color-unfitted-level-2: #ffe0b3;\n",
       "  --sklearn-color-unfitted-level-3: chocolate;\n",
       "  /* Definition of color scheme for fitted estimators */\n",
       "  --sklearn-color-fitted-level-0: #f0f8ff;\n",
       "  --sklearn-color-fitted-level-1: #d4ebff;\n",
       "  --sklearn-color-fitted-level-2: #b3dbfd;\n",
       "  --sklearn-color-fitted-level-3: cornflowerblue;\n",
       "\n",
       "  /* Specific color for light theme */\n",
       "  --sklearn-color-text-on-default-background: var(--sg-text-color, var(--theme-code-foreground, var(--jp-content-font-color1, black)));\n",
       "  --sklearn-color-background: var(--sg-background-color, var(--theme-background, var(--jp-layout-color0, white)));\n",
       "  --sklearn-color-border-box: var(--sg-text-color, var(--theme-code-foreground, var(--jp-content-font-color1, black)));\n",
       "  --sklearn-color-icon: #696969;\n",
       "\n",
       "  @media (prefers-color-scheme: dark) {\n",
       "    /* Redefinition of color scheme for dark theme */\n",
       "    --sklearn-color-text-on-default-background: var(--sg-text-color, var(--theme-code-foreground, var(--jp-content-font-color1, white)));\n",
       "    --sklearn-color-background: var(--sg-background-color, var(--theme-background, var(--jp-layout-color0, #111)));\n",
       "    --sklearn-color-border-box: var(--sg-text-color, var(--theme-code-foreground, var(--jp-content-font-color1, white)));\n",
       "    --sklearn-color-icon: #878787;\n",
       "  }\n",
       "}\n",
       "\n",
       "#sk-container-id-2 {\n",
       "  color: var(--sklearn-color-text);\n",
       "}\n",
       "\n",
       "#sk-container-id-2 pre {\n",
       "  padding: 0;\n",
       "}\n",
       "\n",
       "#sk-container-id-2 input.sk-hidden--visually {\n",
       "  border: 0;\n",
       "  clip: rect(1px 1px 1px 1px);\n",
       "  clip: rect(1px, 1px, 1px, 1px);\n",
       "  height: 1px;\n",
       "  margin: -1px;\n",
       "  overflow: hidden;\n",
       "  padding: 0;\n",
       "  position: absolute;\n",
       "  width: 1px;\n",
       "}\n",
       "\n",
       "#sk-container-id-2 div.sk-dashed-wrapped {\n",
       "  border: 1px dashed var(--sklearn-color-line);\n",
       "  margin: 0 0.4em 0.5em 0.4em;\n",
       "  box-sizing: border-box;\n",
       "  padding-bottom: 0.4em;\n",
       "  background-color: var(--sklearn-color-background);\n",
       "}\n",
       "\n",
       "#sk-container-id-2 div.sk-container {\n",
       "  /* jupyter's `normalize.less` sets `[hidden] { display: none; }`\n",
       "     but bootstrap.min.css set `[hidden] { display: none !important; }`\n",
       "     so we also need the `!important` here to be able to override the\n",
       "     default hidden behavior on the sphinx rendered scikit-learn.org.\n",
       "     See: https://github.com/scikit-learn/scikit-learn/issues/21755 */\n",
       "  display: inline-block !important;\n",
       "  position: relative;\n",
       "}\n",
       "\n",
       "#sk-container-id-2 div.sk-text-repr-fallback {\n",
       "  display: none;\n",
       "}\n",
       "\n",
       "div.sk-parallel-item,\n",
       "div.sk-serial,\n",
       "div.sk-item {\n",
       "  /* draw centered vertical line to link estimators */\n",
       "  background-image: linear-gradient(var(--sklearn-color-text-on-default-background), var(--sklearn-color-text-on-default-background));\n",
       "  background-size: 2px 100%;\n",
       "  background-repeat: no-repeat;\n",
       "  background-position: center center;\n",
       "}\n",
       "\n",
       "/* Parallel-specific style estimator block */\n",
       "\n",
       "#sk-container-id-2 div.sk-parallel-item::after {\n",
       "  content: \"\";\n",
       "  width: 100%;\n",
       "  border-bottom: 2px solid var(--sklearn-color-text-on-default-background);\n",
       "  flex-grow: 1;\n",
       "}\n",
       "\n",
       "#sk-container-id-2 div.sk-parallel {\n",
       "  display: flex;\n",
       "  align-items: stretch;\n",
       "  justify-content: center;\n",
       "  background-color: var(--sklearn-color-background);\n",
       "  position: relative;\n",
       "}\n",
       "\n",
       "#sk-container-id-2 div.sk-parallel-item {\n",
       "  display: flex;\n",
       "  flex-direction: column;\n",
       "}\n",
       "\n",
       "#sk-container-id-2 div.sk-parallel-item:first-child::after {\n",
       "  align-self: flex-end;\n",
       "  width: 50%;\n",
       "}\n",
       "\n",
       "#sk-container-id-2 div.sk-parallel-item:last-child::after {\n",
       "  align-self: flex-start;\n",
       "  width: 50%;\n",
       "}\n",
       "\n",
       "#sk-container-id-2 div.sk-parallel-item:only-child::after {\n",
       "  width: 0;\n",
       "}\n",
       "\n",
       "/* Serial-specific style estimator block */\n",
       "\n",
       "#sk-container-id-2 div.sk-serial {\n",
       "  display: flex;\n",
       "  flex-direction: column;\n",
       "  align-items: center;\n",
       "  background-color: var(--sklearn-color-background);\n",
       "  padding-right: 1em;\n",
       "  padding-left: 1em;\n",
       "}\n",
       "\n",
       "\n",
       "/* Toggleable style: style used for estimator/Pipeline/ColumnTransformer box that is\n",
       "clickable and can be expanded/collapsed.\n",
       "- Pipeline and ColumnTransformer use this feature and define the default style\n",
       "- Estimators will overwrite some part of the style using the `sk-estimator` class\n",
       "*/\n",
       "\n",
       "/* Pipeline and ColumnTransformer style (default) */\n",
       "\n",
       "#sk-container-id-2 div.sk-toggleable {\n",
       "  /* Default theme specific background. It is overwritten whether we have a\n",
       "  specific estimator or a Pipeline/ColumnTransformer */\n",
       "  background-color: var(--sklearn-color-background);\n",
       "}\n",
       "\n",
       "/* Toggleable label */\n",
       "#sk-container-id-2 label.sk-toggleable__label {\n",
       "  cursor: pointer;\n",
       "  display: block;\n",
       "  width: 100%;\n",
       "  margin-bottom: 0;\n",
       "  padding: 0.5em;\n",
       "  box-sizing: border-box;\n",
       "  text-align: center;\n",
       "}\n",
       "\n",
       "#sk-container-id-2 label.sk-toggleable__label-arrow:before {\n",
       "  /* Arrow on the left of the label */\n",
       "  content: \"▸\";\n",
       "  float: left;\n",
       "  margin-right: 0.25em;\n",
       "  color: var(--sklearn-color-icon);\n",
       "}\n",
       "\n",
       "#sk-container-id-2 label.sk-toggleable__label-arrow:hover:before {\n",
       "  color: var(--sklearn-color-text);\n",
       "}\n",
       "\n",
       "/* Toggleable content - dropdown */\n",
       "\n",
       "#sk-container-id-2 div.sk-toggleable__content {\n",
       "  max-height: 0;\n",
       "  max-width: 0;\n",
       "  overflow: hidden;\n",
       "  text-align: left;\n",
       "  /* unfitted */\n",
       "  background-color: var(--sklearn-color-unfitted-level-0);\n",
       "}\n",
       "\n",
       "#sk-container-id-2 div.sk-toggleable__content.fitted {\n",
       "  /* fitted */\n",
       "  background-color: var(--sklearn-color-fitted-level-0);\n",
       "}\n",
       "\n",
       "#sk-container-id-2 div.sk-toggleable__content pre {\n",
       "  margin: 0.2em;\n",
       "  border-radius: 0.25em;\n",
       "  color: var(--sklearn-color-text);\n",
       "  /* unfitted */\n",
       "  background-color: var(--sklearn-color-unfitted-level-0);\n",
       "}\n",
       "\n",
       "#sk-container-id-2 div.sk-toggleable__content.fitted pre {\n",
       "  /* unfitted */\n",
       "  background-color: var(--sklearn-color-fitted-level-0);\n",
       "}\n",
       "\n",
       "#sk-container-id-2 input.sk-toggleable__control:checked~div.sk-toggleable__content {\n",
       "  /* Expand drop-down */\n",
       "  max-height: 200px;\n",
       "  max-width: 100%;\n",
       "  overflow: auto;\n",
       "}\n",
       "\n",
       "#sk-container-id-2 input.sk-toggleable__control:checked~label.sk-toggleable__label-arrow:before {\n",
       "  content: \"▾\";\n",
       "}\n",
       "\n",
       "/* Pipeline/ColumnTransformer-specific style */\n",
       "\n",
       "#sk-container-id-2 div.sk-label input.sk-toggleable__control:checked~label.sk-toggleable__label {\n",
       "  color: var(--sklearn-color-text);\n",
       "  background-color: var(--sklearn-color-unfitted-level-2);\n",
       "}\n",
       "\n",
       "#sk-container-id-2 div.sk-label.fitted input.sk-toggleable__control:checked~label.sk-toggleable__label {\n",
       "  background-color: var(--sklearn-color-fitted-level-2);\n",
       "}\n",
       "\n",
       "/* Estimator-specific style */\n",
       "\n",
       "/* Colorize estimator box */\n",
       "#sk-container-id-2 div.sk-estimator input.sk-toggleable__control:checked~label.sk-toggleable__label {\n",
       "  /* unfitted */\n",
       "  background-color: var(--sklearn-color-unfitted-level-2);\n",
       "}\n",
       "\n",
       "#sk-container-id-2 div.sk-estimator.fitted input.sk-toggleable__control:checked~label.sk-toggleable__label {\n",
       "  /* fitted */\n",
       "  background-color: var(--sklearn-color-fitted-level-2);\n",
       "}\n",
       "\n",
       "#sk-container-id-2 div.sk-label label.sk-toggleable__label,\n",
       "#sk-container-id-2 div.sk-label label {\n",
       "  /* The background is the default theme color */\n",
       "  color: var(--sklearn-color-text-on-default-background);\n",
       "}\n",
       "\n",
       "/* On hover, darken the color of the background */\n",
       "#sk-container-id-2 div.sk-label:hover label.sk-toggleable__label {\n",
       "  color: var(--sklearn-color-text);\n",
       "  background-color: var(--sklearn-color-unfitted-level-2);\n",
       "}\n",
       "\n",
       "/* Label box, darken color on hover, fitted */\n",
       "#sk-container-id-2 div.sk-label.fitted:hover label.sk-toggleable__label.fitted {\n",
       "  color: var(--sklearn-color-text);\n",
       "  background-color: var(--sklearn-color-fitted-level-2);\n",
       "}\n",
       "\n",
       "/* Estimator label */\n",
       "\n",
       "#sk-container-id-2 div.sk-label label {\n",
       "  font-family: monospace;\n",
       "  font-weight: bold;\n",
       "  display: inline-block;\n",
       "  line-height: 1.2em;\n",
       "}\n",
       "\n",
       "#sk-container-id-2 div.sk-label-container {\n",
       "  text-align: center;\n",
       "}\n",
       "\n",
       "/* Estimator-specific */\n",
       "#sk-container-id-2 div.sk-estimator {\n",
       "  font-family: monospace;\n",
       "  border: 1px dotted var(--sklearn-color-border-box);\n",
       "  border-radius: 0.25em;\n",
       "  box-sizing: border-box;\n",
       "  margin-bottom: 0.5em;\n",
       "  /* unfitted */\n",
       "  background-color: var(--sklearn-color-unfitted-level-0);\n",
       "}\n",
       "\n",
       "#sk-container-id-2 div.sk-estimator.fitted {\n",
       "  /* fitted */\n",
       "  background-color: var(--sklearn-color-fitted-level-0);\n",
       "}\n",
       "\n",
       "/* on hover */\n",
       "#sk-container-id-2 div.sk-estimator:hover {\n",
       "  /* unfitted */\n",
       "  background-color: var(--sklearn-color-unfitted-level-2);\n",
       "}\n",
       "\n",
       "#sk-container-id-2 div.sk-estimator.fitted:hover {\n",
       "  /* fitted */\n",
       "  background-color: var(--sklearn-color-fitted-level-2);\n",
       "}\n",
       "\n",
       "/* Specification for estimator info (e.g. \"i\" and \"?\") */\n",
       "\n",
       "/* Common style for \"i\" and \"?\" */\n",
       "\n",
       ".sk-estimator-doc-link,\n",
       "a:link.sk-estimator-doc-link,\n",
       "a:visited.sk-estimator-doc-link {\n",
       "  float: right;\n",
       "  font-size: smaller;\n",
       "  line-height: 1em;\n",
       "  font-family: monospace;\n",
       "  background-color: var(--sklearn-color-background);\n",
       "  border-radius: 1em;\n",
       "  height: 1em;\n",
       "  width: 1em;\n",
       "  text-decoration: none !important;\n",
       "  margin-left: 1ex;\n",
       "  /* unfitted */\n",
       "  border: var(--sklearn-color-unfitted-level-1) 1pt solid;\n",
       "  color: var(--sklearn-color-unfitted-level-1);\n",
       "}\n",
       "\n",
       ".sk-estimator-doc-link.fitted,\n",
       "a:link.sk-estimator-doc-link.fitted,\n",
       "a:visited.sk-estimator-doc-link.fitted {\n",
       "  /* fitted */\n",
       "  border: var(--sklearn-color-fitted-level-1) 1pt solid;\n",
       "  color: var(--sklearn-color-fitted-level-1);\n",
       "}\n",
       "\n",
       "/* On hover */\n",
       "div.sk-estimator:hover .sk-estimator-doc-link:hover,\n",
       ".sk-estimator-doc-link:hover,\n",
       "div.sk-label-container:hover .sk-estimator-doc-link:hover,\n",
       ".sk-estimator-doc-link:hover {\n",
       "  /* unfitted */\n",
       "  background-color: var(--sklearn-color-unfitted-level-3);\n",
       "  color: var(--sklearn-color-background);\n",
       "  text-decoration: none;\n",
       "}\n",
       "\n",
       "div.sk-estimator.fitted:hover .sk-estimator-doc-link.fitted:hover,\n",
       ".sk-estimator-doc-link.fitted:hover,\n",
       "div.sk-label-container:hover .sk-estimator-doc-link.fitted:hover,\n",
       ".sk-estimator-doc-link.fitted:hover {\n",
       "  /* fitted */\n",
       "  background-color: var(--sklearn-color-fitted-level-3);\n",
       "  color: var(--sklearn-color-background);\n",
       "  text-decoration: none;\n",
       "}\n",
       "\n",
       "/* Span, style for the box shown on hovering the info icon */\n",
       ".sk-estimator-doc-link span {\n",
       "  display: none;\n",
       "  z-index: 9999;\n",
       "  position: relative;\n",
       "  font-weight: normal;\n",
       "  right: .2ex;\n",
       "  padding: .5ex;\n",
       "  margin: .5ex;\n",
       "  width: min-content;\n",
       "  min-width: 20ex;\n",
       "  max-width: 50ex;\n",
       "  color: var(--sklearn-color-text);\n",
       "  box-shadow: 2pt 2pt 4pt #999;\n",
       "  /* unfitted */\n",
       "  background: var(--sklearn-color-unfitted-level-0);\n",
       "  border: .5pt solid var(--sklearn-color-unfitted-level-3);\n",
       "}\n",
       "\n",
       ".sk-estimator-doc-link.fitted span {\n",
       "  /* fitted */\n",
       "  background: var(--sklearn-color-fitted-level-0);\n",
       "  border: var(--sklearn-color-fitted-level-3);\n",
       "}\n",
       "\n",
       ".sk-estimator-doc-link:hover span {\n",
       "  display: block;\n",
       "}\n",
       "\n",
       "/* \"?\"-specific style due to the `<a>` HTML tag */\n",
       "\n",
       "#sk-container-id-2 a.estimator_doc_link {\n",
       "  float: right;\n",
       "  font-size: 1rem;\n",
       "  line-height: 1em;\n",
       "  font-family: monospace;\n",
       "  background-color: var(--sklearn-color-background);\n",
       "  border-radius: 1rem;\n",
       "  height: 1rem;\n",
       "  width: 1rem;\n",
       "  text-decoration: none;\n",
       "  /* unfitted */\n",
       "  color: var(--sklearn-color-unfitted-level-1);\n",
       "  border: var(--sklearn-color-unfitted-level-1) 1pt solid;\n",
       "}\n",
       "\n",
       "#sk-container-id-2 a.estimator_doc_link.fitted {\n",
       "  /* fitted */\n",
       "  border: var(--sklearn-color-fitted-level-1) 1pt solid;\n",
       "  color: var(--sklearn-color-fitted-level-1);\n",
       "}\n",
       "\n",
       "/* On hover */\n",
       "#sk-container-id-2 a.estimator_doc_link:hover {\n",
       "  /* unfitted */\n",
       "  background-color: var(--sklearn-color-unfitted-level-3);\n",
       "  color: var(--sklearn-color-background);\n",
       "  text-decoration: none;\n",
       "}\n",
       "\n",
       "#sk-container-id-2 a.estimator_doc_link.fitted:hover {\n",
       "  /* fitted */\n",
       "  background-color: var(--sklearn-color-fitted-level-3);\n",
       "}\n",
       "</style><div id=\"sk-container-id-2\" class=\"sk-top-container\"><div class=\"sk-text-repr-fallback\"><pre>DataFrameMapper(drop_cols=[],\n",
       "                features=[([&#x27;step&#x27;], [StandardScaler()]),\n",
       "                          ([&#x27;amount&#x27;], [StandardScaler()]),\n",
       "                          ([&#x27;old_origin&#x27;], [StandardScaler()]),\n",
       "                          ([&#x27;new_origin&#x27;], [StandardScaler()]),\n",
       "                          ([&#x27;old_destination&#x27;], [StandardScaler()]),\n",
       "                          ([&#x27;new_destination&#x27;], [StandardScaler()]),\n",
       "                          ([&#x27;type&#x27;], [OneHotEncoder()]),\n",
       "                          ([&#x27;percentage_transferred&#x27;], [StandardScaler()])])</pre><b>In a Jupyter environment, please rerun this cell to show the HTML representation or trust the notebook. <br />On GitHub, the HTML representation is unable to render, please try loading this page with nbviewer.org.</b></div><div class=\"sk-container\" hidden><div class=\"sk-item\"><div class=\"sk-estimator fitted sk-toggleable\"><input class=\"sk-toggleable__control sk-hidden--visually\" id=\"sk-estimator-id-2\" type=\"checkbox\" checked><label for=\"sk-estimator-id-2\" class=\"sk-toggleable__label fitted sk-toggleable__label-arrow fitted\">&nbsp;DataFrameMapper<span class=\"sk-estimator-doc-link fitted\">i<span>Fitted</span></span></label><div class=\"sk-toggleable__content fitted\"><pre>DataFrameMapper(drop_cols=[],\n",
       "                features=[([&#x27;step&#x27;], [StandardScaler()]),\n",
       "                          ([&#x27;amount&#x27;], [StandardScaler()]),\n",
       "                          ([&#x27;old_origin&#x27;], [StandardScaler()]),\n",
       "                          ([&#x27;new_origin&#x27;], [StandardScaler()]),\n",
       "                          ([&#x27;old_destination&#x27;], [StandardScaler()]),\n",
       "                          ([&#x27;new_destination&#x27;], [StandardScaler()]),\n",
       "                          ([&#x27;type&#x27;], [OneHotEncoder()]),\n",
       "                          ([&#x27;percentage_transferred&#x27;], [StandardScaler()])])</pre></div> </div></div></div></div>"
      ],
      "text/plain": [
       "DataFrameMapper(drop_cols=[],\n",
       "                features=[(['step'], [StandardScaler()]),\n",
       "                          (['amount'], [StandardScaler()]),\n",
       "                          (['old_origin'], [StandardScaler()]),\n",
       "                          (['new_origin'], [StandardScaler()]),\n",
       "                          (['old_destination'], [StandardScaler()]),\n",
       "                          (['new_destination'], [StandardScaler()]),\n",
       "                          (['type'], [OneHotEncoder()]),\n",
       "                          (['percentage_transferred'], [StandardScaler()])])"
      ]
     },
     "execution_count": 58,
     "metadata": {},
     "output_type": "execute_result"
    }
   ],
   "source": [
    "mapper_fe = DataFrameMapper([\n",
    "    (['step'], [StandardScaler()]),\n",
    "    (['amount'], [StandardScaler()]),\n",
    "    (['old_origin'], [StandardScaler()]),\n",
    "    (['new_origin'], [StandardScaler()]),\n",
    "    (['old_destination'], [StandardScaler()]),\n",
    "    (['new_destination'], [StandardScaler()]),\n",
    "    (['type'], [OneHotEncoder()]),\n",
    "    (['percentage_transferred'], [StandardScaler()])\n",
    "])\n",
    "\n",
    "# Lo entrenamos con train\n",
    "mapper_fe.fit(train_fe)"
   ]
  },
  {
   "cell_type": "code",
   "execution_count": 86,
   "id": "5bd70c34-deec-43a9-8826-2fedd13502f1",
   "metadata": {},
   "outputs": [],
   "source": [
    "def evaluate_model_fe(model, set_names=('train_fe', 'validation_fe'), title='', show_cm=False):\n",
    "    if title:\n",
    "        display(title)\n",
    "        \n",
    "    final_metrics = {\n",
    "        'Accuracy': [],\n",
    "        'Precision': [],\n",
    "        'Recall': [],\n",
    "        'F1': [],        \n",
    "    }\n",
    "        \n",
    "    for i, frauds_fe in enumerate(set_names):\n",
    "        assert frauds_fe in ['train_fe', 'validation_fe', 'test_fe']\n",
    "        set_data = globals()[frauds_fe]  # <- hack feo...\n",
    "\n",
    "        y = set_data.is_fraud\n",
    "        y_pred = model.predict(set_data)\n",
    "        final_metrics['Accuracy'].append(metrics.accuracy_score(y, y_pred))\n",
    "        final_metrics['Precision'].append(metrics.precision_score(y, y_pred))\n",
    "        final_metrics['Recall'].append(metrics.recall_score(y, y_pred))\n",
    "        final_metrics['F1'].append(metrics.f1_score(y, y_pred))\n",
    "        \n",
    "        if show_cm:\n",
    "            cm = metrics.confusion_matrix(y, y_pred)\n",
    "            cm_plot = metrics.ConfusionMatrixDisplay(confusion_matrix=cm, \n",
    "                                                     display_labels=['no_fraud', 'fraud'])\n",
    "            cm_plot.plot(cmap=\"Blues\")\n",
    "            cm_plot.ax_.set_title(frauds_fe)\n",
    "        \n",
    "    display(pd.DataFrame(final_metrics, index=set_names))"
   ]
  },
  {
   "cell_type": "markdown",
   "id": "850b2b28-deee-4964-86ba-b90cd4fd407c",
   "metadata": {},
   "source": [
    "### Logistic Regression con FE"
   ]
  },
  {
   "cell_type": "code",
   "execution_count": 61,
   "id": "2dcdef85-13a8-4bcb-b891-09f703136344",
   "metadata": {},
   "outputs": [
    {
     "name": "stdout",
     "output_type": "stream",
     "text": [
      "LR Training time w/ PCA: 4.862622976303101s\n"
     ]
    }
   ],
   "source": [
    "lr_best_params = {'C': 10.0, 'penalty': 'l2'}\n",
    "\n",
    "lr_model_fe = LogisticRegression(**lr_best_params, random_state=42)\n",
    "lr_pipeline_fe = Pipeline([\n",
    "    ('mapper', mapper_fe),\n",
    "    ('classifier', lr_model_fe),\n",
    "])\n",
    "\n",
    "start = time.time()\n",
    "lr_pipeline_fe.fit(train_fe, train_fe.is_fraud)\n",
    "stop = time.time()\n",
    "print(f\"LR Training time w/ PCA: {stop - start}s\")"
   ]
  },
  {
   "cell_type": "code",
   "execution_count": 88,
   "id": "6cf81954-5d5d-4d2a-bbb9-8c5bb6f61c13",
   "metadata": {},
   "outputs": [
    {
     "data": {
      "text/plain": [
       "'Logistic Regression with PCA'"
      ]
     },
     "metadata": {},
     "output_type": "display_data"
    },
    {
     "data": {
      "text/html": [
       "<div>\n",
       "<style scoped>\n",
       "    .dataframe tbody tr th:only-of-type {\n",
       "        vertical-align: middle;\n",
       "    }\n",
       "\n",
       "    .dataframe tbody tr th {\n",
       "        vertical-align: top;\n",
       "    }\n",
       "\n",
       "    .dataframe thead th {\n",
       "        text-align: right;\n",
       "    }\n",
       "</style>\n",
       "<table border=\"1\" class=\"dataframe\">\n",
       "  <thead>\n",
       "    <tr style=\"text-align: right;\">\n",
       "      <th></th>\n",
       "      <th>Accuracy</th>\n",
       "      <th>Precision</th>\n",
       "      <th>Recall</th>\n",
       "      <th>F1</th>\n",
       "    </tr>\n",
       "  </thead>\n",
       "  <tbody>\n",
       "    <tr>\n",
       "      <th>train_fe</th>\n",
       "      <td>0.999627</td>\n",
       "      <td>0.989766</td>\n",
       "      <td>0.382054</td>\n",
       "      <td>0.551303</td>\n",
       "    </tr>\n",
       "    <tr>\n",
       "      <th>validation_fe</th>\n",
       "      <td>0.999583</td>\n",
       "      <td>1.000000</td>\n",
       "      <td>0.361801</td>\n",
       "      <td>0.531357</td>\n",
       "    </tr>\n",
       "  </tbody>\n",
       "</table>\n",
       "</div>"
      ],
      "text/plain": [
       "               Accuracy  Precision    Recall        F1\n",
       "train_fe       0.999627   0.989766  0.382054  0.551303\n",
       "validation_fe  0.999583   1.000000  0.361801  0.531357"
      ]
     },
     "metadata": {},
     "output_type": "display_data"
    },
    {
     "data": {
      "image/png": "[encoded data removed]",
      "text/plain": [
       "<Figure size 432x288 with 2 Axes>"
      ]
     },
     "metadata": {
      "needs_background": "light"
     },
     "output_type": "display_data"
    },
    {
     "data": {
      "image/png": "[encoded data removed]",
      "text/plain": [
       "<Figure size 432x288 with 2 Axes>"
      ]
     },
     "metadata": {
      "needs_background": "light"
     },
     "output_type": "display_data"
    }
   ],
   "source": [
    "evaluate_model_fe(lr_pipeline_fe, title='Logistic Regression with PCA', show_cm=True)"
   ]
  },
  {
   "cell_type": "markdown",
   "id": "89c40e72-b4f9-433f-91a2-eb8e5968e51a",
   "metadata": {},
   "source": [
    "### Random Forest con FE"
   ]
  },
  {
   "cell_type": "code",
   "execution_count": 91,
   "id": "a61c850c-e3d6-4a6c-9fd0-c50aae12b5e4",
   "metadata": {},
   "outputs": [
    {
     "name": "stdout",
     "output_type": "stream",
     "text": [
      "RF Training time w/ PCA: 299.55037689208984s\n"
     ]
    }
   ],
   "source": [
    "rf_best_params = {'max_depth': 20, 'max_features': 11, 'n_estimators': 10}\n",
    "\n",
    "rf_model_fe = RandomForestClassifier(**rf_best_params, random_state=42)\n",
    "rf_pipeline_fe = Pipeline([\n",
    "    ('mapper', mapper_fe),\n",
    "    ('classifier', rf_model_fe),\n",
    "])\n",
    "\n",
    "start = time.time()\n",
    "rf_pipeline_fe.fit(train_fe, train_fe.is_fraud)\n",
    "stop = time.time()\n",
    "print(f\"RF Training time w/ PCA: {stop - start}s\")"
   ]
  },
  {
   "cell_type": "code",
   "execution_count": 92,
   "id": "40f8b29a-f7dc-4517-a857-1e682718d4d9",
   "metadata": {},
   "outputs": [
    {
     "data": {
      "text/plain": [
       "'Random Forest with FE'"
      ]
     },
     "metadata": {},
     "output_type": "display_data"
    },
    {
     "data": {
      "text/html": [
       "<div>\n",
       "<style scoped>\n",
       "    .dataframe tbody tr th:only-of-type {\n",
       "        vertical-align: middle;\n",
       "    }\n",
       "\n",
       "    .dataframe tbody tr th {\n",
       "        vertical-align: top;\n",
       "    }\n",
       "\n",
       "    .dataframe thead th {\n",
       "        text-align: right;\n",
       "    }\n",
       "</style>\n",
       "<table border=\"1\" class=\"dataframe\">\n",
       "  <thead>\n",
       "    <tr style=\"text-align: right;\">\n",
       "      <th></th>\n",
       "      <th>Accuracy</th>\n",
       "      <th>Precision</th>\n",
       "      <th>Recall</th>\n",
       "      <th>F1</th>\n",
       "    </tr>\n",
       "  </thead>\n",
       "  <tbody>\n",
       "    <tr>\n",
       "      <th>train_fe</th>\n",
       "      <td>0.999998</td>\n",
       "      <td>1.0</td>\n",
       "      <td>0.996614</td>\n",
       "      <td>0.998304</td>\n",
       "    </tr>\n",
       "    <tr>\n",
       "      <th>validation_fe</th>\n",
       "      <td>0.999997</td>\n",
       "      <td>1.0</td>\n",
       "      <td>0.995342</td>\n",
       "      <td>0.997665</td>\n",
       "    </tr>\n",
       "  </tbody>\n",
       "</table>\n",
       "</div>"
      ],
      "text/plain": [
       "               Accuracy  Precision    Recall        F1\n",
       "train_fe       0.999998        1.0  0.996614  0.998304\n",
       "validation_fe  0.999997        1.0  0.995342  0.997665"
      ]
     },
     "metadata": {},
     "output_type": "display_data"
    },
    {
     "data": {
      "image/png": "[encoded data removed]",
      "text/plain": [
       "<Figure size 432x288 with 2 Axes>"
      ]
     },
     "metadata": {
      "needs_background": "light"
     },
     "output_type": "display_data"
    },
    {
     "data": {
      "image/png": "[encoded data removed]",
      "text/plain": [
       "<Figure size 432x288 with 2 Axes>"
      ]
     },
     "metadata": {
      "needs_background": "light"
     },
     "output_type": "display_data"
    }
   ],
   "source": [
    "evaluate_model_fe(rf_pipeline_fe, title='Random Forest with FE', show_cm=True)"
   ]
  },
  {
   "cell_type": "markdown",
   "id": "ff898792-6c2d-49a7-b9ff-6750f1780239",
   "metadata": {},
   "source": [
    "#### Evitando el overfiting "
   ]
  },
  {
   "cell_type": "code",
   "execution_count": 72,
   "id": "0d29a663-9b5a-411f-a3cc-af77bb0a9073",
   "metadata": {},
   "outputs": [
    {
     "data": {
      "image/png": "[encoded data removed]",
      "text/plain": [
       "<Figure size 432x288 with 1 Axes>"
      ]
     },
     "metadata": {
      "needs_background": "light"
     },
     "output_type": "display_data"
    }
   ],
   "source": [
    "train_f1 =  []\n",
    "eval_f1 = []\n",
    "max_deep_list = list(range(5, 20,5))\n",
    "\n",
    "for deep in max_deep_list:\n",
    "    \n",
    "    model_rf_maxdepth_curva = Pipeline([\n",
    "    ('mapper', mapper_fe),\n",
    "    ('classifier', RandomForestClassifier(n_estimators=10, max_depth=deep, random_state=42)),\n",
    "    ])\n",
    "    \n",
    "    arbol_rf=model_rf_maxdepth_curva    \n",
    "    arbol_rf=arbol_rf.fit(train_fe, train_fe.is_fraud)\n",
    "    y_train_pred = model_rf_maxdepth_curva.predict(train_fe.drop(columns=['is_fraud']))\n",
    "    y_val_pred = model_rf_maxdepth_curva.predict(validation_fe.drop(columns=['is_fraud']))\n",
    "    train_f1.append(metrics.f1_score( train_fe.is_fraud, y_train_pred))\n",
    "    eval_f1.append(metrics.f1_score(validation_fe.is_fraud, y_val_pred))\n",
    "\n",
    "# graficar los resultados.\n",
    "plt.plot(max_deep_list, train_f1, color='r', label='Train')\n",
    "plt.plot(max_deep_list, eval_f1, color='b', label='Validation')\n",
    "plt.title('Grafico Random Forest')\n",
    "plt.legend()\n",
    "plt.ylabel('f1-score')\n",
    "plt.xlabel('nivel de profundidad')\n",
    "plt.show()"
   ]
  },
  {
   "cell_type": "code",
   "execution_count": 114,
   "id": "d648f618-809f-42f1-a407-db8c28d96df7",
   "metadata": {},
   "outputs": [
    {
     "name": "stdout",
     "output_type": "stream",
     "text": [
      "RF Training time w/ PCA: 247.53214931488037s\n"
     ]
    }
   ],
   "source": [
    "rf_best_params = {'max_depth': 9, 'max_features': 11, 'n_estimators': 10}\n",
    "\n",
    "rf_model_fe = RandomForestClassifier(**rf_best_params, random_state=42)\n",
    "rf_pipeline_fe_9 = Pipeline([\n",
    "    ('mapper', mapper_fe),\n",
    "    ('classifier', rf_model_fe),\n",
    "])\n",
    "\n",
    "start = time.time()\n",
    "rf_pipeline_fe_9.fit(train_fe, train_fe.is_fraud)\n",
    "stop = time.time()\n",
    "print(f\"RF Training time w/ PCA: {stop - start}s\")"
   ]
  },
  {
   "cell_type": "code",
   "execution_count": 115,
   "id": "c0d0ad7f-fbdb-4b08-b800-64826b0ab99e",
   "metadata": {},
   "outputs": [
    {
     "data": {
      "text/plain": [
       "'Random Forest with FE'"
      ]
     },
     "metadata": {},
     "output_type": "display_data"
    },
    {
     "data": {
      "text/html": [
       "<div>\n",
       "<style scoped>\n",
       "    .dataframe tbody tr th:only-of-type {\n",
       "        vertical-align: middle;\n",
       "    }\n",
       "\n",
       "    .dataframe tbody tr th {\n",
       "        vertical-align: top;\n",
       "    }\n",
       "\n",
       "    .dataframe thead th {\n",
       "        text-align: right;\n",
       "    }\n",
       "</style>\n",
       "<table border=\"1\" class=\"dataframe\">\n",
       "  <thead>\n",
       "    <tr style=\"text-align: right;\">\n",
       "      <th></th>\n",
       "      <th>Accuracy</th>\n",
       "      <th>Precision</th>\n",
       "      <th>Recall</th>\n",
       "      <th>F1</th>\n",
       "    </tr>\n",
       "  </thead>\n",
       "  <tbody>\n",
       "    <tr>\n",
       "      <th>train_fe</th>\n",
       "      <td>0.999995</td>\n",
       "      <td>1.0</td>\n",
       "      <td>0.991535</td>\n",
       "      <td>0.995750</td>\n",
       "    </tr>\n",
       "    <tr>\n",
       "      <th>validation_fe</th>\n",
       "      <td>0.999997</td>\n",
       "      <td>1.0</td>\n",
       "      <td>0.995342</td>\n",
       "      <td>0.997665</td>\n",
       "    </tr>\n",
       "  </tbody>\n",
       "</table>\n",
       "</div>"
      ],
      "text/plain": [
       "               Accuracy  Precision    Recall        F1\n",
       "train_fe       0.999995        1.0  0.991535  0.995750\n",
       "validation_fe  0.999997        1.0  0.995342  0.997665"
      ]
     },
     "metadata": {},
     "output_type": "display_data"
    },
    {
     "data": {
      "image/png": "[encoded data removed]",
      "text/plain": [
       "<Figure size 432x288 with 2 Axes>"
      ]
     },
     "metadata": {
      "needs_background": "light"
     },
     "output_type": "display_data"
    },
    {
     "data": {
      "image/png": "[encoded data removed]",
      "text/plain": [
       "<Figure size 432x288 with 2 Axes>"
      ]
     },
     "metadata": {
      "needs_background": "light"
     },
     "output_type": "display_data"
    }
   ],
   "source": [
    "evaluate_model_fe(rf_pipeline_fe_9, title='Random Forest with FE', show_cm=True)"
   ]
  },
  {
   "cell_type": "markdown",
   "id": "25a53ca1-74de-4938-b128-6a59d5e3e93c",
   "metadata": {},
   "source": [
    "### KNN con FE"
   ]
  },
  {
   "cell_type": "code",
   "execution_count": 69,
   "id": "cd1c17a1-7575-424b-8490-ce288f69617f",
   "metadata": {},
   "outputs": [
    {
     "name": "stdout",
     "output_type": "stream",
     "text": [
      "RF Training time w/ PCA: 521.0861239433289s\n"
     ]
    }
   ],
   "source": [
    "knn_best_params = {'n_neighbors': 5, 'p': 2, 'weights': 'distance'}\n",
    "\n",
    "knn_model_fe = KNeighborsClassifier(**knn_best_params)\n",
    "knn_pipeline_fe = Pipeline([\n",
    "    ('mapper', mapper_fe),\n",
    "    ('pca', PCA(n_components=0.95)),\n",
    "    ('classifier', rf_model_fe),\n",
    "])\n",
    "\n",
    "start = time.time()\n",
    "knn_pipeline_fe.fit(train_fe, train_fe.is_fraud)\n",
    "stop = time.time()\n",
    "print(f\"RF Training time w/ PCA: {stop - start}s\")"
   ]
  },
  {
   "cell_type": "code",
   "execution_count": 96,
   "id": "31b22a60-c78d-42c8-bee9-50e62a3ac4f4",
   "metadata": {},
   "outputs": [
    {
     "data": {
      "text/plain": [
       "'KNN with FE'"
      ]
     },
     "metadata": {},
     "output_type": "display_data"
    },
    {
     "data": {
      "text/html": [
       "<div>\n",
       "<style scoped>\n",
       "    .dataframe tbody tr th:only-of-type {\n",
       "        vertical-align: middle;\n",
       "    }\n",
       "\n",
       "    .dataframe tbody tr th {\n",
       "        vertical-align: top;\n",
       "    }\n",
       "\n",
       "    .dataframe thead th {\n",
       "        text-align: right;\n",
       "    }\n",
       "</style>\n",
       "<table border=\"1\" class=\"dataframe\">\n",
       "  <thead>\n",
       "    <tr style=\"text-align: right;\">\n",
       "      <th></th>\n",
       "      <th>Accuracy</th>\n",
       "      <th>Precision</th>\n",
       "      <th>Recall</th>\n",
       "      <th>F1</th>\n",
       "    </tr>\n",
       "  </thead>\n",
       "  <tbody>\n",
       "    <tr>\n",
       "      <th>train_fe</th>\n",
       "      <td>0.999979</td>\n",
       "      <td>0.998251</td>\n",
       "      <td>0.966140</td>\n",
       "      <td>0.981933</td>\n",
       "    </tr>\n",
       "    <tr>\n",
       "      <th>validation_fe</th>\n",
       "      <td>0.999802</td>\n",
       "      <td>0.910420</td>\n",
       "      <td>0.773292</td>\n",
       "      <td>0.836272</td>\n",
       "    </tr>\n",
       "  </tbody>\n",
       "</table>\n",
       "</div>"
      ],
      "text/plain": [
       "               Accuracy  Precision    Recall        F1\n",
       "train_fe       0.999979   0.998251  0.966140  0.981933\n",
       "validation_fe  0.999802   0.910420  0.773292  0.836272"
      ]
     },
     "metadata": {},
     "output_type": "display_data"
    },
    {
     "data": {
      "image/png": "[encoded data removed]",
      "text/plain": [
       "<Figure size 432x288 with 2 Axes>"
      ]
     },
     "metadata": {
      "needs_background": "light"
     },
     "output_type": "display_data"
    },
    {
     "data": {
      "image/png": "[encoded data removed]",
      "text/plain": [
       "<Figure size 432x288 with 2 Axes>"
      ]
     },
     "metadata": {
      "needs_background": "light"
     },
     "output_type": "display_data"
    }
   ],
   "source": [
    "evaluate_model_fe(knn_pipeline_fe, title='KNN with FE', show_cm=True)"
   ]
  },
  {
   "cell_type": "markdown",
   "id": "59fcfb4a-0b1e-471c-839b-414308cc92e3",
   "metadata": {},
   "source": [
    "### Medición de todos los modelos entrenados"
   ]
  },
  {
   "cell_type": "code",
   "execution_count": 124,
   "id": "86c356f0-efc8-4a87-ae8d-1dc22743f964",
   "metadata": {},
   "outputs": [
    {
     "name": "stdout",
     "output_type": "stream",
     "text": [
      "Grid Search\n"
     ]
    },
    {
     "data": {
      "text/plain": [
       "'Logistic Regression'"
      ]
     },
     "metadata": {},
     "output_type": "display_data"
    },
    {
     "data": {
      "text/html": [
       "<div>\n",
       "<style scoped>\n",
       "    .dataframe tbody tr th:only-of-type {\n",
       "        vertical-align: middle;\n",
       "    }\n",
       "\n",
       "    .dataframe tbody tr th {\n",
       "        vertical-align: top;\n",
       "    }\n",
       "\n",
       "    .dataframe thead th {\n",
       "        text-align: right;\n",
       "    }\n",
       "</style>\n",
       "<table border=\"1\" class=\"dataframe\">\n",
       "  <thead>\n",
       "    <tr style=\"text-align: right;\">\n",
       "      <th></th>\n",
       "      <th>Accuracy</th>\n",
       "      <th>Precision</th>\n",
       "      <th>Recall</th>\n",
       "      <th>F1</th>\n",
       "    </tr>\n",
       "  </thead>\n",
       "  <tbody>\n",
       "    <tr>\n",
       "      <th>train</th>\n",
       "      <td>0.999618</td>\n",
       "      <td>0.955966</td>\n",
       "      <td>0.379797</td>\n",
       "      <td>0.543619</td>\n",
       "    </tr>\n",
       "    <tr>\n",
       "      <th>validation</th>\n",
       "      <td>0.999589</td>\n",
       "      <td>0.979920</td>\n",
       "      <td>0.378882</td>\n",
       "      <td>0.546473</td>\n",
       "    </tr>\n",
       "  </tbody>\n",
       "</table>\n",
       "</div>"
      ],
      "text/plain": [
       "            Accuracy  Precision    Recall        F1\n",
       "train       0.999618   0.955966  0.379797  0.543619\n",
       "validation  0.999589   0.979920  0.378882  0.546473"
      ]
     },
     "metadata": {},
     "output_type": "display_data"
    },
    {
     "data": {
      "text/plain": [
       "'Knn'"
      ]
     },
     "metadata": {},
     "output_type": "display_data"
    },
    {
     "data": {
      "text/html": [
       "<div>\n",
       "<style scoped>\n",
       "    .dataframe tbody tr th:only-of-type {\n",
       "        vertical-align: middle;\n",
       "    }\n",
       "\n",
       "    .dataframe tbody tr th {\n",
       "        vertical-align: top;\n",
       "    }\n",
       "\n",
       "    .dataframe thead th {\n",
       "        text-align: right;\n",
       "    }\n",
       "</style>\n",
       "<table border=\"1\" class=\"dataframe\">\n",
       "  <thead>\n",
       "    <tr style=\"text-align: right;\">\n",
       "      <th></th>\n",
       "      <th>Accuracy</th>\n",
       "      <th>Precision</th>\n",
       "      <th>Recall</th>\n",
       "      <th>F1</th>\n",
       "    </tr>\n",
       "  </thead>\n",
       "  <tbody>\n",
       "    <tr>\n",
       "      <th>train</th>\n",
       "      <td>1.000000</td>\n",
       "      <td>1.000000</td>\n",
       "      <td>1.000000</td>\n",
       "      <td>1.00000</td>\n",
       "    </tr>\n",
       "    <tr>\n",
       "      <th>validation</th>\n",
       "      <td>0.999627</td>\n",
       "      <td>0.960133</td>\n",
       "      <td>0.448758</td>\n",
       "      <td>0.61164</td>\n",
       "    </tr>\n",
       "  </tbody>\n",
       "</table>\n",
       "</div>"
      ],
      "text/plain": [
       "            Accuracy  Precision    Recall       F1\n",
       "train       1.000000   1.000000  1.000000  1.00000\n",
       "validation  0.999627   0.960133  0.448758  0.61164"
      ]
     },
     "metadata": {},
     "output_type": "display_data"
    },
    {
     "data": {
      "text/plain": [
       "'Random Forest'"
      ]
     },
     "metadata": {},
     "output_type": "display_data"
    },
    {
     "data": {
      "text/html": [
       "<div>\n",
       "<style scoped>\n",
       "    .dataframe tbody tr th:only-of-type {\n",
       "        vertical-align: middle;\n",
       "    }\n",
       "\n",
       "    .dataframe tbody tr th {\n",
       "        vertical-align: top;\n",
       "    }\n",
       "\n",
       "    .dataframe thead th {\n",
       "        text-align: right;\n",
       "    }\n",
       "</style>\n",
       "<table border=\"1\" class=\"dataframe\">\n",
       "  <thead>\n",
       "    <tr style=\"text-align: right;\">\n",
       "      <th></th>\n",
       "      <th>Accuracy</th>\n",
       "      <th>Precision</th>\n",
       "      <th>Recall</th>\n",
       "      <th>F1</th>\n",
       "    </tr>\n",
       "  </thead>\n",
       "  <tbody>\n",
       "    <tr>\n",
       "      <th>train</th>\n",
       "      <td>0.999890</td>\n",
       "      <td>0.992512</td>\n",
       "      <td>0.822799</td>\n",
       "      <td>0.899722</td>\n",
       "    </tr>\n",
       "    <tr>\n",
       "      <th>validation</th>\n",
       "      <td>0.999741</td>\n",
       "      <td>0.927473</td>\n",
       "      <td>0.655280</td>\n",
       "      <td>0.767971</td>\n",
       "    </tr>\n",
       "  </tbody>\n",
       "</table>\n",
       "</div>"
      ],
      "text/plain": [
       "            Accuracy  Precision    Recall        F1\n",
       "train       0.999890   0.992512  0.822799  0.899722\n",
       "validation  0.999741   0.927473  0.655280  0.767971"
      ]
     },
     "metadata": {},
     "output_type": "display_data"
    },
    {
     "data": {
      "text/plain": [
       "'Random Forest'"
      ]
     },
     "metadata": {},
     "output_type": "display_data"
    },
    {
     "data": {
      "text/html": [
       "<div>\n",
       "<style scoped>\n",
       "    .dataframe tbody tr th:only-of-type {\n",
       "        vertical-align: middle;\n",
       "    }\n",
       "\n",
       "    .dataframe tbody tr th {\n",
       "        vertical-align: top;\n",
       "    }\n",
       "\n",
       "    .dataframe thead th {\n",
       "        text-align: right;\n",
       "    }\n",
       "</style>\n",
       "<table border=\"1\" class=\"dataframe\">\n",
       "  <thead>\n",
       "    <tr style=\"text-align: right;\">\n",
       "      <th></th>\n",
       "      <th>Accuracy</th>\n",
       "      <th>Precision</th>\n",
       "      <th>Recall</th>\n",
       "      <th>F1</th>\n",
       "    </tr>\n",
       "  </thead>\n",
       "  <tbody>\n",
       "    <tr>\n",
       "      <th>train</th>\n",
       "      <td>0.999963</td>\n",
       "      <td>0.997606</td>\n",
       "      <td>0.940745</td>\n",
       "      <td>0.968342</td>\n",
       "    </tr>\n",
       "    <tr>\n",
       "      <th>validation</th>\n",
       "      <td>0.999747</td>\n",
       "      <td>0.907216</td>\n",
       "      <td>0.683230</td>\n",
       "      <td>0.779451</td>\n",
       "    </tr>\n",
       "  </tbody>\n",
       "</table>\n",
       "</div>"
      ],
      "text/plain": [
       "            Accuracy  Precision    Recall        F1\n",
       "train       0.999963   0.997606  0.940745  0.968342\n",
       "validation  0.999747   0.907216  0.683230  0.779451"
      ]
     },
     "metadata": {},
     "output_type": "display_data"
    },
    {
     "name": "stdout",
     "output_type": "stream",
     "text": [
      "Feature Engineering\n"
     ]
    },
    {
     "data": {
      "text/plain": [
       "'Logistic Regression with FE'"
      ]
     },
     "metadata": {},
     "output_type": "display_data"
    },
    {
     "data": {
      "text/html": [
       "<div>\n",
       "<style scoped>\n",
       "    .dataframe tbody tr th:only-of-type {\n",
       "        vertical-align: middle;\n",
       "    }\n",
       "\n",
       "    .dataframe tbody tr th {\n",
       "        vertical-align: top;\n",
       "    }\n",
       "\n",
       "    .dataframe thead th {\n",
       "        text-align: right;\n",
       "    }\n",
       "</style>\n",
       "<table border=\"1\" class=\"dataframe\">\n",
       "  <thead>\n",
       "    <tr style=\"text-align: right;\">\n",
       "      <th></th>\n",
       "      <th>Accuracy</th>\n",
       "      <th>Precision</th>\n",
       "      <th>Recall</th>\n",
       "      <th>F1</th>\n",
       "    </tr>\n",
       "  </thead>\n",
       "  <tbody>\n",
       "    <tr>\n",
       "      <th>train_fe</th>\n",
       "      <td>0.999627</td>\n",
       "      <td>0.989766</td>\n",
       "      <td>0.382054</td>\n",
       "      <td>0.551303</td>\n",
       "    </tr>\n",
       "    <tr>\n",
       "      <th>validation_fe</th>\n",
       "      <td>0.999583</td>\n",
       "      <td>1.000000</td>\n",
       "      <td>0.361801</td>\n",
       "      <td>0.531357</td>\n",
       "    </tr>\n",
       "  </tbody>\n",
       "</table>\n",
       "</div>"
      ],
      "text/plain": [
       "               Accuracy  Precision    Recall        F1\n",
       "train_fe       0.999627   0.989766  0.382054  0.551303\n",
       "validation_fe  0.999583   1.000000  0.361801  0.531357"
      ]
     },
     "metadata": {},
     "output_type": "display_data"
    },
    {
     "data": {
      "text/plain": [
       "'Random Forest with FE'"
      ]
     },
     "metadata": {},
     "output_type": "display_data"
    },
    {
     "data": {
      "text/html": [
       "<div>\n",
       "<style scoped>\n",
       "    .dataframe tbody tr th:only-of-type {\n",
       "        vertical-align: middle;\n",
       "    }\n",
       "\n",
       "    .dataframe tbody tr th {\n",
       "        vertical-align: top;\n",
       "    }\n",
       "\n",
       "    .dataframe thead th {\n",
       "        text-align: right;\n",
       "    }\n",
       "</style>\n",
       "<table border=\"1\" class=\"dataframe\">\n",
       "  <thead>\n",
       "    <tr style=\"text-align: right;\">\n",
       "      <th></th>\n",
       "      <th>Accuracy</th>\n",
       "      <th>Precision</th>\n",
       "      <th>Recall</th>\n",
       "      <th>F1</th>\n",
       "    </tr>\n",
       "  </thead>\n",
       "  <tbody>\n",
       "    <tr>\n",
       "      <th>train_fe</th>\n",
       "      <td>0.999998</td>\n",
       "      <td>1.0</td>\n",
       "      <td>0.996614</td>\n",
       "      <td>0.998304</td>\n",
       "    </tr>\n",
       "    <tr>\n",
       "      <th>validation_fe</th>\n",
       "      <td>0.999997</td>\n",
       "      <td>1.0</td>\n",
       "      <td>0.995342</td>\n",
       "      <td>0.997665</td>\n",
       "    </tr>\n",
       "  </tbody>\n",
       "</table>\n",
       "</div>"
      ],
      "text/plain": [
       "               Accuracy  Precision    Recall        F1\n",
       "train_fe       0.999998        1.0  0.996614  0.998304\n",
       "validation_fe  0.999997        1.0  0.995342  0.997665"
      ]
     },
     "metadata": {},
     "output_type": "display_data"
    },
    {
     "data": {
      "text/plain": [
       "'KNN with FE'"
      ]
     },
     "metadata": {},
     "output_type": "display_data"
    },
    {
     "data": {
      "text/html": [
       "<div>\n",
       "<style scoped>\n",
       "    .dataframe tbody tr th:only-of-type {\n",
       "        vertical-align: middle;\n",
       "    }\n",
       "\n",
       "    .dataframe tbody tr th {\n",
       "        vertical-align: top;\n",
       "    }\n",
       "\n",
       "    .dataframe thead th {\n",
       "        text-align: right;\n",
       "    }\n",
       "</style>\n",
       "<table border=\"1\" class=\"dataframe\">\n",
       "  <thead>\n",
       "    <tr style=\"text-align: right;\">\n",
       "      <th></th>\n",
       "      <th>Accuracy</th>\n",
       "      <th>Precision</th>\n",
       "      <th>Recall</th>\n",
       "      <th>F1</th>\n",
       "    </tr>\n",
       "  </thead>\n",
       "  <tbody>\n",
       "    <tr>\n",
       "      <th>train_fe</th>\n",
       "      <td>0.999979</td>\n",
       "      <td>0.998251</td>\n",
       "      <td>0.966140</td>\n",
       "      <td>0.981933</td>\n",
       "    </tr>\n",
       "    <tr>\n",
       "      <th>validation_fe</th>\n",
       "      <td>0.999802</td>\n",
       "      <td>0.910420</td>\n",
       "      <td>0.773292</td>\n",
       "      <td>0.836272</td>\n",
       "    </tr>\n",
       "  </tbody>\n",
       "</table>\n",
       "</div>"
      ],
      "text/plain": [
       "               Accuracy  Precision    Recall        F1\n",
       "train_fe       0.999979   0.998251  0.966140  0.981933\n",
       "validation_fe  0.999802   0.910420  0.773292  0.836272"
      ]
     },
     "metadata": {},
     "output_type": "display_data"
    }
   ],
   "source": [
    "print(\"Grid Search\")\n",
    "evaluate_model(lr_model_grid, title='Logistic Regression')\n",
    "evaluate_model(knn_model_grid, title='Knn')\n",
    "evaluate_model(rf_model_grid, title='Random Forest')\n",
    "evaluate_model(rf_model_mayor_profundidad, title='Random Forest')\n",
    "\n",
    "print(\"Feature Engineering\")\n",
    "evaluate_model_fe(lr_pipeline_fe, title='Logistic Regression with FE')\n",
    "evaluate_model_fe(rf_pipeline_fe, title='Random Forest with FE')\n",
    "evaluate_model_fe(knn_pipeline_fe, title='KNN with FE')"
   ]
  },
  {
   "cell_type": "code",
   "execution_count": 126,
   "id": "1c522192-65bd-49fb-b751-e030e1067e5c",
   "metadata": {},
   "outputs": [
    {
     "name": "stdout",
     "output_type": "stream",
     "text": [
      "PCA\n",
      "Logistic Regression with PCA: 0.209366\n",
      "Random Forest with PCA: 0.605932\n",
      "KNN with PCA 0.605932\n"
     ]
    }
   ],
   "source": [
    "print(\"PCA\")\n",
    "print(\"Logistic Regression with PCA: 0.209366\")\n",
    "print('Random Forest with PCA: 0.605932')\n",
    "print('KNN with PCA 0.605932')"
   ]
  },
  {
   "cell_type": "markdown",
   "id": "7ca8c6d2-f742-4fb7-beea-b0839123e1bd",
   "metadata": {},
   "source": [
    "* En todo momento, se deben utilizar técnicas que garanticen que los modelos no están sobreentrenando."
   ]
  },
  {
   "cell_type": "markdown",
   "id": "22efbb24-f899-4f0a-a3fd-2eb9c3dcd7a5",
   "metadata": {},
   "source": [
    "En modelos como Random Forest, se han ajustado parámetros como max_depth y n_estimators para controlar la complejidad del modelo. Al limitar la profundidad de los árboles se impide que los árboles se ajusten demasiado a datos específicos de entrenamiento, lo que ayuda a mejorar la generalización.\n",
    "\n",
    "La reducción de dimensionalidad mediante PCA también se ha utilizado para eliminar características redundantes o menos relevantes. Al reducir el número de características, se disminuye el riesgo de que el modelo sobreentrene aprendiendo patrones.\n",
    "\n",
    "El rendimiento de los modelos se evaluó utilizando un conjunto de datos de validación y nos permitió observar cómo los modelos generalizan a datos no vistos durante el entrenamiento.\n",
    "\n",
    "Utilizamos pipeline para encadenar los pasos del preprocesamiento de los datos y el modelo de clasificación. Esto asegura que todas las transformaciones (como el mapeo y PCA) se apliquen consistentemente tanto en el conjunto de entrenamiento como en el de validación.\n",
    "\n",
    "Con GridSearchCV realizamos búsquedas en grilla de hiperparámetros y nos permitió elegir los mejores parámetros basados en el F1-score."
   ]
  },
  {
   "cell_type": "markdown",
   "id": "4a154905-c2f3-464b-855b-a7b2f4ea63c6",
   "metadata": {},
   "source": [
    "* Determinar el valor final de la métrica que podría ser informado a un posible \"cliente\", utilizando técnicas que permitan obtener un valor lo más realista posible. Fundamentar y considerar no solo el rendimiento del modelo en su elección, sino también cuestiones como interpretabilidad, tiempos de entrenamiento, etc."
   ]
  },
  {
   "cell_type": "code",
   "execution_count": 127,
   "id": "fa67b339-5cdf-460e-b382-2dd1ba165892",
   "metadata": {},
   "outputs": [
    {
     "data": {
      "text/plain": [
       "'Random Forest'"
      ]
     },
     "metadata": {},
     "output_type": "display_data"
    },
    {
     "data": {
      "text/html": [
       "<div>\n",
       "<style scoped>\n",
       "    .dataframe tbody tr th:only-of-type {\n",
       "        vertical-align: middle;\n",
       "    }\n",
       "\n",
       "    .dataframe tbody tr th {\n",
       "        vertical-align: top;\n",
       "    }\n",
       "\n",
       "    .dataframe thead th {\n",
       "        text-align: right;\n",
       "    }\n",
       "</style>\n",
       "<table border=\"1\" class=\"dataframe\">\n",
       "  <thead>\n",
       "    <tr style=\"text-align: right;\">\n",
       "      <th></th>\n",
       "      <th>Accuracy</th>\n",
       "      <th>Precision</th>\n",
       "      <th>Recall</th>\n",
       "      <th>F1</th>\n",
       "    </tr>\n",
       "  </thead>\n",
       "  <tbody>\n",
       "    <tr>\n",
       "      <th>train</th>\n",
       "      <td>0.999890</td>\n",
       "      <td>0.992512</td>\n",
       "      <td>0.822799</td>\n",
       "      <td>0.899722</td>\n",
       "    </tr>\n",
       "    <tr>\n",
       "      <th>validation</th>\n",
       "      <td>0.999741</td>\n",
       "      <td>0.927473</td>\n",
       "      <td>0.655280</td>\n",
       "      <td>0.767971</td>\n",
       "    </tr>\n",
       "    <tr>\n",
       "      <th>test</th>\n",
       "      <td>0.999718</td>\n",
       "      <td>0.871122</td>\n",
       "      <td>0.619694</td>\n",
       "      <td>0.724206</td>\n",
       "    </tr>\n",
       "  </tbody>\n",
       "</table>\n",
       "</div>"
      ],
      "text/plain": [
       "            Accuracy  Precision    Recall        F1\n",
       "train       0.999890   0.992512  0.822799  0.899722\n",
       "validation  0.999741   0.927473  0.655280  0.767971\n",
       "test        0.999718   0.871122  0.619694  0.724206"
      ]
     },
     "metadata": {},
     "output_type": "display_data"
    },
    {
     "data": {
      "image/png": "[encoded data removed]",
      "text/plain": [
       "<Figure size 432x288 with 2 Axes>"
      ]
     },
     "metadata": {
      "needs_background": "light"
     },
     "output_type": "display_data"
    },
    {
     "data": {
      "image/png": "[encoded data removed]",
      "text/plain": [
       "<Figure size 432x288 with 2 Axes>"
      ]
     },
     "metadata": {
      "needs_background": "light"
     },
     "output_type": "display_data"
    },
    {
     "data": {
      "image/png": "[encoded data removed]",
      "text/plain": [
       "<Figure size 432x288 with 2 Axes>"
      ]
     },
     "metadata": {
      "needs_background": "light"
     },
     "output_type": "display_data"
    }
   ],
   "source": [
    "evaluate_model(rf_model_grid, title='Random Forest', set_names=('train', 'validation', 'test'), show_cm=True)"
   ]
  },
  {
   "cell_type": "markdown",
   "id": "61e4772f-d3bf-4adb-a65c-ea24bcbaf6b4",
   "metadata": {},
   "source": [
    "* Para el algoritmo seleccionado como \"ganador\", y para distintos pares de variables, genere diagramas de dispersión donde se visualicen los aciertos y errores del mismo. Discuta si existen patrones o conocimiento que se pueda obtener a partir de dichos errores. En caso de ser posible, evalúe la importancia que asigna el método a las variables de entrada y genere conclusiones al respecto."
   ]
  },
  {
   "cell_type": "code",
   "execution_count": 128,
   "id": "4085e489-ba0c-4450-8bcb-e101264c820c",
   "metadata": {},
   "outputs": [
    {
     "data": {
      "text/html": [
       "<div>\n",
       "<style scoped>\n",
       "    .dataframe tbody tr th:only-of-type {\n",
       "        vertical-align: middle;\n",
       "    }\n",
       "\n",
       "    .dataframe tbody tr th {\n",
       "        vertical-align: top;\n",
       "    }\n",
       "\n",
       "    .dataframe thead th {\n",
       "        text-align: right;\n",
       "    }\n",
       "</style>\n",
       "<table border=\"1\" class=\"dataframe\">\n",
       "  <thead>\n",
       "    <tr style=\"text-align: right;\">\n",
       "      <th></th>\n",
       "      <th>step</th>\n",
       "      <th>type</th>\n",
       "      <th>amount</th>\n",
       "      <th>old_origin</th>\n",
       "      <th>new_origin</th>\n",
       "      <th>old_destination</th>\n",
       "      <th>new_destination</th>\n",
       "      <th>is_fraud</th>\n",
       "    </tr>\n",
       "  </thead>\n",
       "  <tbody>\n",
       "    <tr>\n",
       "      <th>2894496</th>\n",
       "      <td>228</td>\n",
       "      <td>TRANSFER</td>\n",
       "      <td>116609.55</td>\n",
       "      <td>0.0</td>\n",
       "      <td>0.0</td>\n",
       "      <td>805989.92</td>\n",
       "      <td>922599.47</td>\n",
       "      <td>0</td>\n",
       "    </tr>\n",
       "  </tbody>\n",
       "</table>\n",
       "</div>"
      ],
      "text/plain": [
       "         step      type     amount  old_origin  new_origin  old_destination  \\\n",
       "2894496   228  TRANSFER  116609.55         0.0         0.0        805989.92   \n",
       "\n",
       "         new_destination  is_fraud  \n",
       "2894496        922599.47         0  "
      ]
     },
     "execution_count": 128,
     "metadata": {},
     "output_type": "execute_result"
    }
   ],
   "source": [
    "frauds.sample(1)"
   ]
  },
  {
   "cell_type": "code",
   "execution_count": 134,
   "id": "e7632803-388a-4b0f-9c58-7015b4577019",
   "metadata": {},
   "outputs": [
    {
     "data": {
      "image/png": "[encoded data removed]",
      "text/plain": [
       "<Figure size 720x432 with 1 Axes>"
      ]
     },
     "metadata": {
      "needs_background": "light"
     },
     "output_type": "display_data"
    }
   ],
   "source": [
    "y_pred = rf_model_grid.predict(test)\n",
    "X_test = test.drop(columns=['is_fraud'])\n",
    "y_test = test['is_fraud']\n",
    "# Crear un DataFrame con los datos relevantes\n",
    "results = pd.DataFrame({\n",
    "    'old_origin': X_test['old_origin'],\n",
    "    'old_destination': X_test['old_destination'],\n",
    "    'actual': y_test,\n",
    "    'predicted': y_pred\n",
    "})\n",
    "\n",
    "results['correct'] = results['actual'] == results['predicted']\n",
    "\n",
    "# Visualizar el scatter plot con colores para aciertos y errores\n",
    "plt.figure(figsize=(10, 6))\n",
    "sns.scatterplot(x='old_origin', y='old_destination', hue='correct', data=results, palette={True: 'green', False: 'red'})\n",
    "plt.title('Aciertos vs Errores en el Modelo Random Forest')\n",
    "plt.xlabel('Old Origin')\n",
    "plt.ylabel('Old Destination')\n",
    "plt.show()"
   ]
  }
 ],
 "metadata": {
  "kernelspec": {
   "display_name": "Python 3 (ipykernel)",
   "language": "python",
   "name": "python3"
  },
  "language_info": {
   "codemirror_mode": {
    "name": "ipython",
    "version": 3
   },
   "file_extension": ".py",
   "mimetype": "text/x-python",
   "name": "python",
   "nbconvert_exporter": "python",
   "pygments_lexer": "ipython3",
   "version": "3.9.6"
  }
 },
 "nbformat": 4,
 "nbformat_minor": 5
}
