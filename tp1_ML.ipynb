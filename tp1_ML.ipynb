{
 "cells": [
  {
   "cell_type": "code",
   "execution_count": 2,
   "id": "fd48baf1",
   "metadata": {},
   "outputs": [
    {
     "name": "stdout",
     "output_type": "stream",
     "text": [
      "Se importó correctamente\n"
     ]
    }
   ],
   "source": [
    "try:\n",
    "    import pandas as pd\n",
    "    import numpy as np\n",
    "    import matplotlib.pyplot as plt\n",
    "    import seaborn as sns\n",
    "    from sklearn.preprocessing import OneHotEncoder\n",
    "    from sklearn.linear_model import LogisticRegression\n",
    "    from sklearn.preprocessing import OneHotEncoder, StandardScaler\n",
    "    from sklearn.pipeline import Pipeline\n",
    "    from sklearn.model_selection import train_test_split\n",
    "    from sklearn_pandas import DataFrameMapper\n",
    "    from sklearn import metrics\n",
    "    from sklearn.neighbors import KNeighborsClassifier\n",
    "    from sklearn.tree import DecisionTreeClassifier\n",
    "    from sklearn.preprocessing import LabelBinarizer\n",
    "    from sklearn.ensemble import GradientBoostingClassifier, RandomForestClassifier\n",
    "    from sklearn.decomposition import PCA\n",
    "    from sklearn.model_selection import GridSearchCV\n",
    "    import warnings\n",
    "    warnings.filterwarnings(\"ignore\", category=FutureWarning, module=\"sklearn.*\")\n",
    "    print(\"Se importó correctamente\")\n",
    "except Exception as e:\n",
    "    print(f\"Error al importar dependencias: {e}\")"
   ]
  },
  {
   "cell_type": "markdown",
   "id": "91c850a2-e595-487d-b473-5be8e1243039",
   "metadata": {},
   "source": [
    "* Al tener el Data Set repartido en 5 partes debemos unificar todo en un mismo DataFrame"
   ]
  },
  {
   "cell_type": "code",
   "execution_count": 3,
   "id": "4ae74123",
   "metadata": {},
   "outputs": [
    {
     "data": {
      "text/html": [
       "<div>\n",
       "<style scoped>\n",
       "    .dataframe tbody tr th:only-of-type {\n",
       "        vertical-align: middle;\n",
       "    }\n",
       "\n",
       "    .dataframe tbody tr th {\n",
       "        vertical-align: top;\n",
       "    }\n",
       "\n",
       "    .dataframe thead th {\n",
       "        text-align: right;\n",
       "    }\n",
       "</style>\n",
       "<table border=\"1\" class=\"dataframe\">\n",
       "  <thead>\n",
       "    <tr style=\"text-align: right;\">\n",
       "      <th></th>\n",
       "      <th>step</th>\n",
       "      <th>type</th>\n",
       "      <th>amount</th>\n",
       "      <th>nameOrig</th>\n",
       "      <th>oldbalanceOrg</th>\n",
       "      <th>newbalanceOrig</th>\n",
       "      <th>nameDest</th>\n",
       "      <th>oldbalanceDest</th>\n",
       "      <th>newbalanceDest</th>\n",
       "      <th>isFraud</th>\n",
       "      <th>isFlaggedFraud</th>\n",
       "    </tr>\n",
       "  </thead>\n",
       "  <tbody>\n",
       "    <tr>\n",
       "      <th>965636</th>\n",
       "      <td>44</td>\n",
       "      <td>TRANSFER</td>\n",
       "      <td>741596.98</td>\n",
       "      <td>C683958004</td>\n",
       "      <td>0.0</td>\n",
       "      <td>0.00</td>\n",
       "      <td>C686652833</td>\n",
       "      <td>1698793.12</td>\n",
       "      <td>2440390.10</td>\n",
       "      <td>0</td>\n",
       "      <td>0</td>\n",
       "    </tr>\n",
       "    <tr>\n",
       "      <th>3062412</th>\n",
       "      <td>234</td>\n",
       "      <td>CASH_OUT</td>\n",
       "      <td>192593.87</td>\n",
       "      <td>C1040714624</td>\n",
       "      <td>0.0</td>\n",
       "      <td>0.00</td>\n",
       "      <td>C1480872147</td>\n",
       "      <td>2343170.40</td>\n",
       "      <td>2535764.27</td>\n",
       "      <td>0</td>\n",
       "      <td>0</td>\n",
       "    </tr>\n",
       "    <tr>\n",
       "      <th>4213956</th>\n",
       "      <td>305</td>\n",
       "      <td>CASH_IN</td>\n",
       "      <td>378121.68</td>\n",
       "      <td>C670902813</td>\n",
       "      <td>1118.0</td>\n",
       "      <td>379239.68</td>\n",
       "      <td>C80575703</td>\n",
       "      <td>0.00</td>\n",
       "      <td>0.00</td>\n",
       "      <td>0</td>\n",
       "      <td>0</td>\n",
       "    </tr>\n",
       "    <tr>\n",
       "      <th>5771126</th>\n",
       "      <td>400</td>\n",
       "      <td>CASH_OUT</td>\n",
       "      <td>542401.55</td>\n",
       "      <td>C153913473</td>\n",
       "      <td>0.0</td>\n",
       "      <td>0.00</td>\n",
       "      <td>C1602318602</td>\n",
       "      <td>23490077.17</td>\n",
       "      <td>24032478.72</td>\n",
       "      <td>0</td>\n",
       "      <td>0</td>\n",
       "    </tr>\n",
       "    <tr>\n",
       "      <th>802801</th>\n",
       "      <td>40</td>\n",
       "      <td>CASH_IN</td>\n",
       "      <td>292036.00</td>\n",
       "      <td>C1872666530</td>\n",
       "      <td>45365.0</td>\n",
       "      <td>337401.00</td>\n",
       "      <td>C1903815642</td>\n",
       "      <td>3317454.11</td>\n",
       "      <td>3025418.11</td>\n",
       "      <td>0</td>\n",
       "      <td>0</td>\n",
       "    </tr>\n",
       "  </tbody>\n",
       "</table>\n",
       "</div>"
      ],
      "text/plain": [
       "         step      type     amount     nameOrig  oldbalanceOrg  \\\n",
       "965636     44  TRANSFER  741596.98   C683958004            0.0   \n",
       "3062412   234  CASH_OUT  192593.87  C1040714624            0.0   \n",
       "4213956   305   CASH_IN  378121.68   C670902813         1118.0   \n",
       "5771126   400  CASH_OUT  542401.55   C153913473            0.0   \n",
       "802801     40   CASH_IN  292036.00  C1872666530        45365.0   \n",
       "\n",
       "         newbalanceOrig     nameDest  oldbalanceDest  newbalanceDest  isFraud  \\\n",
       "965636             0.00   C686652833      1698793.12      2440390.10        0   \n",
       "3062412            0.00  C1480872147      2343170.40      2535764.27        0   \n",
       "4213956       379239.68    C80575703            0.00            0.00        0   \n",
       "5771126            0.00  C1602318602     23490077.17     24032478.72        0   \n",
       "802801        337401.00  C1903815642      3317454.11      3025418.11        0   \n",
       "\n",
       "         isFlaggedFraud  \n",
       "965636                0  \n",
       "3062412               0  \n",
       "4213956               0  \n",
       "5771126               0  \n",
       "802801                0  "
      ]
     },
     "execution_count": 3,
     "metadata": {},
     "output_type": "execute_result"
    }
   ],
   "source": [
    "# Leemos las 5 partes\n",
    "dfs = [pd.read_csv(f'parte_{i}.csv') for i in range(1, 6)]\n",
    "\n",
    "# Y las concatenamos en una unica variable \"frauds\"\n",
    "frauds = pd.concat(dfs, ignore_index=True)\n",
    "\n",
    "# Realizamos un chequeo de prueba\n",
    "frauds.sample(5)"
   ]
  },
  {
   "cell_type": "markdown",
   "id": "219aa6e2",
   "metadata": {},
   "source": [
    "# 1. Listado de variables y selección\n",
    "### Variables de entrada:\n",
    "\n",
    "* step : representa una unidad de tiempo en el mundo real. En este caso, 1 paso equivale a 1 hora de tiempo. El total de pasos es 744 (simulación de 30 días).\n",
    "\n",
    "* type : ENTRADA, SALIDA, DÉBITO, PAGO y TRANSFERENCIA.\n",
    "\n",
    "* amount : importe de la transacción en moneda local.\n",
    "\n",
    "* nameOrig : cliente que inició la transacción\n",
    "\n",
    "* oldbalanceOrg : saldo inicial antes de la transacción\n",
    "\n",
    "* newbalanceOrig : new balance después de la transacción\n",
    "\n",
    "* nameDest : cliente que es el destinatario de la transacción\n",
    "\n",
    "* oldbalanceDest : destinatario del saldo inicial antes de la transacción. No hay información para los clientes que comienzan con M (comerciantes).\n",
    "\n",
    "* newbalanceDest : destinatario del nuevo saldo después de la transacción. No hay información para los clientes que comienzan con M (comerciantes).\n",
    "\n",
    "### Variable de salida:\n",
    "\n",
    "* isFraud : son las transacciones realizadas por agentes fraudulentos dentro de la simulación. En este conjunto de datos específico, el comportamiento fraudulento de los agentes tiene como objetivo obtener ganancias tomando el control de las cuentas de los clientes e intentar vaciar los fondos transfiriéndolos a otra cuenta y luego sacándolos del sistema. Los valores posibles para esta variable son 0 y 1.\n",
    "\n",
    "### Variable que no será utilizada:\n",
    "\n",
    "* isFlaggedFraud : variable que intenta detectar intentos ilegales, existen solo 16 registros positivos en la misma por lo cual decidimos no utilizarla ya que no nos aporta ningun valor agregado. A continuación haremos una representacion de los valores donde esta variable es 1 para demostrar que la cantidad de registros es la anteriormente mencionada.\n"
   ]
  },
  {
   "cell_type": "code",
   "execution_count": 4,
   "id": "a4a82d70",
   "metadata": {},
   "outputs": [
    {
     "name": "stdout",
     "output_type": "stream",
     "text": [
      "Número de transacciones marcadas como intento ilegal de transacciones: 16\n",
      "Número de transacciones NO marcadas como intento ilegal de transacciones: 6362604\n"
     ]
    }
   ],
   "source": [
    "# Demostracion con valores en 1 con la variable isFlaggedFraud\n",
    "frauds_isfraud = frauds[frauds['isFlaggedFraud'] > 0]\n",
    "\n",
    "isfraudF = (frauds['isFlaggedFraud'] > 0).sum()\n",
    "notfraudF = (frauds['isFlaggedFraud'] == 0).sum()\n",
    "\n",
    "print(f'Número de transacciones marcadas como intento ilegal de transacciones: {isfraudF}')\n",
    "print(f'Número de transacciones NO marcadas como intento ilegal de transacciones: {notfraudF}')\n",
    "\n",
    "# Por lo que se procece a la eliminacion de la columna\n",
    "frauds.drop('isFlaggedFraud', axis=1, inplace=True)"
   ]
  },
  {
   "cell_type": "markdown",
   "id": "45e15fed",
   "metadata": {},
   "source": [
    "# 2. Análisis detallado de un conjunto de variables\n"
   ]
  },
  {
   "cell_type": "markdown",
   "id": "90f6ca73",
   "metadata": {},
   "source": [
    "### Para la variable de salida, explicar y graficar su distribución. Analizar posibles consecuencias o consideraciones a tener en cuenta."
   ]
  },
  {
   "cell_type": "code",
   "execution_count": 5,
   "id": "4a3ec2d8",
   "metadata": {},
   "outputs": [
    {
     "name": "stdout",
     "output_type": "stream",
     "text": [
      "Número de transacciones que son fraude: 8213\n",
      "Número de transacciones que NO son fraude: 6354407\n"
     ]
    },
    {
     "data": {
      "image/png": "[encoded data removed]",
      "text/plain": [
       "<Figure size 360x360 with 1 Axes>"
      ]
     },
     "metadata": {},
     "output_type": "display_data"
    }
   ],
   "source": [
    "\n",
    "# tenemos la cantidad de registros con valores fraudes y la cantidad que no son fraude. Posteriormente reamos un gráfico de torta de la distribución de los valores positivos y negativos de nuestra variable de salida, mostrando los porcentajes con tres decimales para verificar el balanceo del dataset.\n",
    "isfraud = (frauds['isFraud'] != 0).sum()\n",
    "notfraud = (frauds['isFraud'] == 0).sum()\n",
    "\n",
    "print(f'Número de transacciones que son fraude: {isfraud}')\n",
    "print(f'Número de transacciones que NO son fraude: {notfraud}')\n",
    "\n",
    "plt.figure(figsize=(5, 5))\n",
    "plt.pie([isfraud, notfraud], labels=['Es fraude', 'No es fraude'], autopct='%1.3f%%')\n",
    "plt.title('Distribución de la variable de salida')\n",
    "\n",
    "plt.show()"
   ]
  },
  {
   "cell_type": "markdown",
   "id": "53d51bb5",
   "metadata": {},
   "source": [
    "El gráfico muestra el desbalanceo de la variable de salida \"fraude\" en el conjunto de datos. Como se puede observar, el número de transacciones fraudulentas (8213 instancias) es significativamente menor en comparación con el número de transacciones no fraudulentas (6,354,407 instancias). Esto indica un desbalance notable en el dataset, con una proporción muy baja de fraudes respecto al total de transacciones.\n",
    "\n",
    "### Realizar un análisis individual de cada variable de entrada que será utilizada. A partir del mismo debería poder conocerse la distribución de los datos, si existen valores raros, su relación con la variable de salida, etc."
   ]
  },
  {
   "cell_type": "markdown",
   "id": "fd4951e3",
   "metadata": {},
   "source": [
    "*  Relación entre las variables oldbalanceOrg, newbalanceOrig, oldbalanceDest y newbalanceDest."
   ]
  },
  {
   "cell_type": "code",
   "execution_count": 6,
   "id": "56adcba5",
   "metadata": {},
   "outputs": [
    {
     "name": "stdout",
     "output_type": "stream",
     "text": [
      "Cantidad de registros con los cuatro balances en 0:  774275\n",
      "Cantidad de registros con al menos un balance distinto de 0:  5588345\n"
     ]
    }
   ],
   "source": [
    "# En una primera impresion notamos que hay varios casos en los que los cuatro balances de las cuentas de Origen y Destino son 0 (cero)\n",
    "frauds_balance_cero = frauds[\n",
    "                        (frauds['oldbalanceOrg'] == 0) &\n",
    "                        (frauds['newbalanceOrig'] == 0) &\n",
    "                        (frauds['oldbalanceDest'] == 0) &\n",
    "                        (frauds['newbalanceDest'] == 0)\n",
    "                      ]\n",
    "\n",
    "frauds_balance_not_cero = frauds[\n",
    "                        (frauds['oldbalanceOrg'] != 0) |\n",
    "                        (frauds['newbalanceOrig'] != 0) |\n",
    "                        (frauds['oldbalanceDest'] != 0) |\n",
    "                        (frauds['newbalanceDest'] != 0)\n",
    "                      ]\n",
    "\n",
    "print('Cantidad de registros con los cuatro balances en 0: ',(len(frauds_balance_cero)))\n",
    "print('Cantidad de registros con al menos un balance distinto de 0: ',(len(frauds_balance_not_cero)))"
   ]
  },
  {
   "cell_type": "markdown",
   "id": "f4f76be0",
   "metadata": {},
   "source": [
    "*  Relación entre el tipo de transacción (type) y el fraude (isFraud)\n",
    "\n",
    "Esta relacion muestra la cantidad de transacciones fraudulentas y no fraudulentas dentro de cada tipo de transacción, lo que permite una mejor comparación entre las categorías."
   ]
  },
  {
   "cell_type": "code",
   "execution_count": 7,
   "id": "be60ad74",
   "metadata": {},
   "outputs": [
    {
     "name": "stdout",
     "output_type": "stream",
     "text": [
      "Tipo de Transacción: CASH_IN\n",
      "  No Fraude: 1399284\n",
      "  Fraude: 0\n",
      "\n",
      "Tipo de Transacción: CASH_OUT\n",
      "  No Fraude: 2233384\n",
      "  Fraude: 4116\n",
      "\n",
      "Tipo de Transacción: DEBIT\n",
      "  No Fraude: 41432\n",
      "  Fraude: 0\n",
      "\n",
      "Tipo de Transacción: PAYMENT\n",
      "  No Fraude: 2151495\n",
      "  Fraude: 0\n",
      "\n",
      "Tipo de Transacción: TRANSFER\n",
      "  No Fraude: 528812\n",
      "  Fraude: 4097\n",
      "\n"
     ]
    }
   ],
   "source": [
    "# TODO: encontrar algun grafico que refleje bien esta relación sino dejar la comparativa sola\n",
    "#transaction_count = frauds.groupby(['type', 'isFraud']).size().unstack(fill_value=0)\n",
    "\n",
    "# Renombramos las columnas para mayor claridad\n",
    "#transaction_count.columns = ['No Fraude', 'Fraude']\n",
    "\n",
    "#transaction_count.plot(kind='bar', stacked=True, color=['#1f77b4', '#ff7f0e'])\n",
    "\n",
    "#plt.title('Cantidad de Transacciones por Tipo y Estado de Fraude')\n",
    "#plt.xlabel('Tipo de Transacción')\n",
    "#plt.ylabel('Cantidad de Transacciones')\n",
    "#plt.legend(['No Fraude', 'Fraude'], loc='upper right')\n",
    "\n",
    "#plt.show()\n",
    "\n",
    "# Contabilizamos la cantidad de transacciones fraudulentas y no fraudulentas por tipo\n",
    "transaction_count = frauds.groupby(['type', 'isFraud']).size().unstack(fill_value=0)\n",
    "transaction_count.columns = ['No Fraude', 'Fraude']\n",
    "\n",
    "for transaction_type in transaction_count.index:\n",
    "    no_fraud = transaction_count.loc[transaction_type, 'No Fraude']\n",
    "    fraud = transaction_count.loc[transaction_type, 'Fraude']\n",
    "    print(f\"Tipo de Transacción: {transaction_type}\")\n",
    "    print(f\"  No Fraude: {no_fraud}\")\n",
    "    print(f\"  Fraude: {fraud}\\n\")\n"
   ]
  },
  {
   "cell_type": "markdown",
   "id": "dc0c5e32",
   "metadata": {},
   "source": [
    "* Relación entre el importe de la transacción (amount) y el fraude (isFraud)\n",
    "<!--El objetivo acá es ver si los montos de las transacciones fraudulentas tienden a ser diferentes de los montos de las transacciones legítimas.\n",
    "\n",
    "-La línea en el centro de la caja: Representa la mediana del amount para cada categoría (isFraud = 0 o 1).\n",
    "\n",
    "-Los bordes de la caja: Representan el primer cuartil (Q1) y el tercer cuartil (Q3), lo que cubre el 50% de los valores centrales.-->"
   ]
  },
  {
   "cell_type": "code",
   "execution_count": 8,
   "id": "9ead9ffa",
   "metadata": {},
   "outputs": [],
   "source": [
    "# TODO: encontrar grafico para poder explicar la relación"
   ]
  },
  {
   "cell_type": "markdown",
   "id": "59671ecf",
   "metadata": {},
   "source": [
    "### Para cada una de las variables de entrada elegidas, explicar si se debería realizar o no alguna transformación para poder utilizarla como entrada de un modelo y por qué."
   ]
  },
  {
   "cell_type": "markdown",
   "id": "78d97a6e",
   "metadata": {},
   "source": [
    "* ⁠step: No necesita transformacion ya que es numérica y representa tiempo en unidades discretas (horas).\n",
    "\n",
    "* ⁠type: Si necesita transformacion, ya que es una variable categórica. La convertiremos en una representación numérica utilizando One-Hot Encoder creando una columna binaria para cada tipo de transacción. Luego de la ultima transformacion se agregaran 5 columnas (type_CASH_OUT, type_CASH_IN, type_PAYMENT, type_TRANSFER, type_DEBIT).\n",
    "\n",
    "* ⁠amount: En principio consideramos que no sera necesario aplicar trasnformación ya que es una variable numérica. En caso de notar una gran disperción entre los valores, podríamos optar por una transformación para reducir dicha variabilidad y lograr estabilizar en el modelo.\n",
    "\n",
    "* ⁠nameOrig: En principio esta columna no nos aporta información ya que creemos que es representativa del número de cuenta de cada cliente. Observamos que cada cuenta inicia con una letra diferente, lo que es representativo de un tipo de cliente. Como una Feature Engineering podríamos obtener que cantidad de veces participó en transacciones (sea de origen o destino) cada cliente. A modo de una mejor lectura se le cambiará el nombre por uno más estandarizado.\n",
    "\n",
    "* ⁠oldbalanceOrg: En principio consideramos que no sera necesario aplicar trasnformación ya que es una variable numérica. El motivo es el mismo que para la variable amount. A modo de una mejor lectura se le cambiará el nombre por uno más estandarizado.\n",
    "\n",
    "* ⁠newbalanceOrig: En principio consideramos que no sera necesario aplicar trasnformación ya que es una variable numérica. El motivo es el mismo que para la variable amount y oldbalanceOrg. A modo de una mejor lectura se le cambiará el nombre por uno más estandarizado.\n",
    "\n",
    "* ⁠nameDest: Realizaremos la misma transformacion de la variable nameOrigin. Con la particularidad de que el cliente destino sea partícipe de una transacción fraudulenta (no es lo mismo ser autor de un fraude que ser una víctima). A modo de una mejor lectura se le cambiará el nombre por uno más estandarizado.\n",
    "\n",
    "* ⁠oldbalanceDest: En principio consideramos que no sera necesario aplicar trasnformación ya que es una variable numérica. El motivo es el mismo que para la variable amount. A modo de una mejor lectura se le cambiará el nombre por uno más estandarizado.\n",
    "\n",
    "* ⁠newbalanceDest: En principio consideramos que no sera necesario aplicar trasnformación ya que es una variable numérica. El motivo es el mismo que para la variable amount y oldbalanceDest. A modo de una mejor lectura se le cambiará el nombre por uno más estandarizado."
   ]
  },
  {
   "cell_type": "code",
   "execution_count": 9,
   "id": "2a76014a",
   "metadata": {},
   "outputs": [
    {
     "data": {
      "text/html": [
       "<div>\n",
       "<style scoped>\n",
       "    .dataframe tbody tr th:only-of-type {\n",
       "        vertical-align: middle;\n",
       "    }\n",
       "\n",
       "    .dataframe tbody tr th {\n",
       "        vertical-align: top;\n",
       "    }\n",
       "\n",
       "    .dataframe thead th {\n",
       "        text-align: right;\n",
       "    }\n",
       "</style>\n",
       "<table border=\"1\" class=\"dataframe\">\n",
       "  <thead>\n",
       "    <tr style=\"text-align: right;\">\n",
       "      <th></th>\n",
       "      <th>step</th>\n",
       "      <th>type</th>\n",
       "      <th>amount</th>\n",
       "      <th>name_origin</th>\n",
       "      <th>old_origin</th>\n",
       "      <th>new_origin</th>\n",
       "      <th>name_destination</th>\n",
       "      <th>old_destination</th>\n",
       "      <th>new_destination</th>\n",
       "      <th>is_fraud</th>\n",
       "    </tr>\n",
       "  </thead>\n",
       "  <tbody>\n",
       "    <tr>\n",
       "      <th>5758717</th>\n",
       "      <td>400</td>\n",
       "      <td>CASH_OUT</td>\n",
       "      <td>235875.01</td>\n",
       "      <td>C1032188899</td>\n",
       "      <td>2701.37</td>\n",
       "      <td>0.0</td>\n",
       "      <td>C232520531</td>\n",
       "      <td>2487632.08</td>\n",
       "      <td>2723507.09</td>\n",
       "      <td>0</td>\n",
       "    </tr>\n",
       "    <tr>\n",
       "      <th>4179263</th>\n",
       "      <td>304</td>\n",
       "      <td>CASH_OUT</td>\n",
       "      <td>92294.75</td>\n",
       "      <td>C1787651697</td>\n",
       "      <td>0.00</td>\n",
       "      <td>0.0</td>\n",
       "      <td>C1423245103</td>\n",
       "      <td>1120711.14</td>\n",
       "      <td>1213005.89</td>\n",
       "      <td>0</td>\n",
       "    </tr>\n",
       "    <tr>\n",
       "      <th>4491171</th>\n",
       "      <td>324</td>\n",
       "      <td>CASH_OUT</td>\n",
       "      <td>252426.03</td>\n",
       "      <td>C1396836577</td>\n",
       "      <td>0.00</td>\n",
       "      <td>0.0</td>\n",
       "      <td>C695277331</td>\n",
       "      <td>2127718.54</td>\n",
       "      <td>2380144.58</td>\n",
       "      <td>0</td>\n",
       "    </tr>\n",
       "    <tr>\n",
       "      <th>1924690</th>\n",
       "      <td>167</td>\n",
       "      <td>CASH_OUT</td>\n",
       "      <td>148510.94</td>\n",
       "      <td>C1694638319</td>\n",
       "      <td>109702.00</td>\n",
       "      <td>0.0</td>\n",
       "      <td>C424062754</td>\n",
       "      <td>0.00</td>\n",
       "      <td>148510.94</td>\n",
       "      <td>0</td>\n",
       "    </tr>\n",
       "    <tr>\n",
       "      <th>1243095</th>\n",
       "      <td>134</td>\n",
       "      <td>PAYMENT</td>\n",
       "      <td>8575.28</td>\n",
       "      <td>C1082886729</td>\n",
       "      <td>0.00</td>\n",
       "      <td>0.0</td>\n",
       "      <td>M1893583282</td>\n",
       "      <td>0.00</td>\n",
       "      <td>0.00</td>\n",
       "      <td>0</td>\n",
       "    </tr>\n",
       "  </tbody>\n",
       "</table>\n",
       "</div>"
      ],
      "text/plain": [
       "         step      type     amount  name_origin  old_origin  new_origin  \\\n",
       "5758717   400  CASH_OUT  235875.01  C1032188899     2701.37         0.0   \n",
       "4179263   304  CASH_OUT   92294.75  C1787651697        0.00         0.0   \n",
       "4491171   324  CASH_OUT  252426.03  C1396836577        0.00         0.0   \n",
       "1924690   167  CASH_OUT  148510.94  C1694638319   109702.00         0.0   \n",
       "1243095   134   PAYMENT    8575.28  C1082886729        0.00         0.0   \n",
       "\n",
       "        name_destination  old_destination  new_destination  is_fraud  \n",
       "5758717       C232520531       2487632.08       2723507.09         0  \n",
       "4179263      C1423245103       1120711.14       1213005.89         0  \n",
       "4491171       C695277331       2127718.54       2380144.58         0  \n",
       "1924690       C424062754             0.00        148510.94         0  \n",
       "1243095      M1893583282             0.00             0.00         0  "
      ]
     },
     "execution_count": 9,
     "metadata": {},
     "output_type": "execute_result"
    }
   ],
   "source": [
    "# Renombramos las columnas\n",
    "BETTER_COLUMN_NAMES = {\n",
    "    'step': 'step',\n",
    "    'type': 'type',\n",
    "    'amount': 'amount',\n",
    "    'nameOrig': 'name_origin',\n",
    "    'oldbalanceOrg': 'old_origin',\n",
    "    'newbalanceOrig': 'new_origin',\n",
    "    'nameDest': 'name_destination',\n",
    "    'oldbalanceDest': 'old_destination',\n",
    "    'newbalanceDest': 'new_destination',\n",
    "    'isFraud': 'is_fraud',\n",
    "}\n",
    "\n",
    "frauds.rename(columns=BETTER_COLUMN_NAMES, inplace=True)\n",
    "\n",
    "frauds.sample(5)"
   ]
  },
  {
   "cell_type": "code",
   "execution_count": 10,
   "id": "f78dff0a",
   "metadata": {},
   "outputs": [],
   "source": [
    "# # Ahora aplicamos One-Hot Encoder para los tipos de transacciones\n",
    "# encoder = OneHotEncoder(dtype=int, sparse_output=False)\n",
    "\n",
    "# # Aplicamos OneHotEncoder a la columna 'type'\n",
    "# type_encoded = encoder.fit_transform(frauds[['type']])\n",
    "\n",
    "# type_encoded_df = pd.DataFrame(type_encoded, columns=encoder.get_feature_names_out(['type']))\n",
    "\n",
    "# # Eliminamos la columna 'type' para evitar datos redundantes\n",
    "# frauds = frauds.drop(columns=['type'])\n",
    "\n",
    "# # Y unimos las columnas nuevas al dataset original\n",
    "# frauds = frauds.join(type_encoded_df)\n",
    "\n",
    "# print(frauds.head())"
   ]
  },
  {
   "cell_type": "markdown",
   "id": "f4fb4d73",
   "metadata": {},
   "source": [
    "### Analizar si las variables de entrada seleccionadas presentan valores nulos y/o extremos. En caso de encontrar dichas condiciones, indicar qué tratamiento se podría darle a las mismas y por qué."
   ]
  },
  {
   "cell_type": "markdown",
   "id": "4d3901d0",
   "metadata": {},
   "source": [
    "* Comprobamos que no existen valores nulos en nuestro Data Set de la siguiente manera."
   ]
  },
  {
   "cell_type": "code",
   "execution_count": 11,
   "id": "aeeb19bf",
   "metadata": {},
   "outputs": [
    {
     "data": {
      "text/plain": [
       "step                0\n",
       "type                0\n",
       "amount              0\n",
       "name_origin         0\n",
       "old_origin          0\n",
       "new_origin          0\n",
       "name_destination    0\n",
       "old_destination     0\n",
       "new_destination     0\n",
       "is_fraud            0\n",
       "dtype: int64"
      ]
     },
     "execution_count": 11,
     "metadata": {},
     "output_type": "execute_result"
    }
   ],
   "source": [
    "frauds.isnull().sum()"
   ]
  },
  {
   "cell_type": "code",
   "execution_count": 12,
   "id": "76d42c96",
   "metadata": {},
   "outputs": [
    {
     "name": "stdout",
     "output_type": "stream",
     "text": [
      "Cantidad de valores extremos detectados en 'amount': 338078\n"
     ]
    }
   ],
   "source": [
    "# Calculamos los extremos utilizando IQR para la columna 'amount'\n",
    "Q1 = frauds['amount'].quantile(0.25)\n",
    "Q3 = frauds['amount'].quantile(0.75)\n",
    "IQR = Q3 - Q1\n",
    "\n",
    "lower_bound = Q1 - 1.5 * IQR\n",
    "upper_bound = Q3 + 1.5 * IQR\n",
    "\n",
    "outliers_amount = frauds[(frauds['amount'] < lower_bound) | (frauds['amount'] > upper_bound)]\n",
    "\n",
    "print(f\"Cantidad de valores extremos detectados en 'amount': {outliers_amount.shape[0]}\")"
   ]
  },
  {
   "cell_type": "markdown",
   "id": "e97e6c48",
   "metadata": {},
   "source": [
    "* En nuestro caso los valores extremos no deberían ser tratados de ninguna manera ya que son valores de transacciones que por el simple hecho de ser un monto transferido no se interpreta como una anomalía en los datos finales."
   ]
  },
  {
   "cell_type": "markdown",
   "id": "2629f911",
   "metadata": {},
   "source": [
    "### Verificar si existen variables altamente correlacionadas linealmente. En dicho caso, explicar por qué considera que esto pasa."
   ]
  },
  {
   "cell_type": "code",
   "execution_count": 13,
   "id": "b2817e45",
   "metadata": {},
   "outputs": [
    {
     "data": {
      "text/plain": [
       "<Axes: title={'center': 'Matriz de Correlación'}>"
      ]
     },
     "execution_count": 13,
     "metadata": {},
     "output_type": "execute_result"
    },
    {
     "data": {
      "image/png": "[encoded data removed]",
      "text/plain": [
       "<Figure size 432x288 with 2 Axes>"
      ]
     },
     "metadata": {
      "needs_background": "light"
     },
     "output_type": "display_data"
    }
   ],
   "source": [
    "# Lo hacemos con las variables que son de tipo numérica en nuestro dataset y serán utilizadas para el modelo.\n",
    "\n",
    "columnas_numericas = ['is_fraud', 'old_origin', 'new_origin', 'old_destination', 'new_destination' ]\n",
    "plt.title('Matriz de Correlación')\n",
    "sns.heatmap(frauds[columnas_numericas].corr(), annot=True, cmap='RdYlGn', linewidths=0.2)"
   ]
  },
  {
   "cell_type": "code",
   "execution_count": 14,
   "id": "4f7e2864",
   "metadata": {},
   "outputs": [],
   "source": [
    "# TODO: revisar relacion 1:1 con new_origin y old_origin"
   ]
  },
  {
   "cell_type": "markdown",
   "id": "9620eac6",
   "metadata": {},
   "source": [
    "### Generar un listado de todas las posibles dudas/preguntas que quisieran realizarle al encargado de proveer los datos."
   ]
  },
  {
   "cell_type": "markdown",
   "id": "1089f846",
   "metadata": {},
   "source": [
    "Algunas dudas o preguntas que nos surgieron mientras analizábamos los datos son: \n",
    "\n",
    "* ⁠Que significan los id que aparecen en las columnas name_origin y name_destination.\n",
    "* ⁠Por que razón cuando se hace un cash_out la cuenta de origen y destino no es la misma.\n",
    "* ⁠En muchos casos notamos que cuando se hace una transferencia no siempre el valor que se tenia en la cuenta propia disminuye, y no siempre el valor que se tenia en la cuenta de destino aumenta, ¿Por qué ocurriría esto?.\n",
    "* ⁠En ciertos casos cuando el monto de la transferencia es mayor al valor que se tiene en la cuenta, se realiza la transferencia de todos modos y el valor en cuenta queda en 0.\n",
    "* La variable isFlaggedFraud no coincide con la documentación, realmente se utiliza para algo o se creó para algo que al final no se implementó?."
   ]
  },
  {
   "cell_type": "markdown",
   "id": "626d535c",
   "metadata": {},
   "source": [
    "# 3.⁠ ⁠Hipótesis sobre los datos"
   ]
  },
  {
   "cell_type": "markdown",
   "id": "e3b2665e",
   "metadata": {},
   "source": [
    "### Formular y describir de forma coloquial al menos una hipótesis sobre los datos que podría explicar el valor de la variable \"target\" bajo determinadas condiciones. Realizar un análisis para contrastar si dicha hipótesis se valida o, por el contrario, se refuta.\n",
    "\n",
    "* Hipótesis 1: \"Los registros en los que el saldo new_origin queda en 0 después de una transacción son propensos a ser fraudulentos.\"\n",
    "\n",
    "* Descripción coloquial:\n",
    "Se plantea que si el saldo del cliente que inició la transacción (new_origin) queda en 0 después de una transacción, es más probable que esa transacción sea fraudulenta. Esto podría deberse a que el supuesto atacante apunta a vaciar la cuenta del cliente."
   ]
  },
  {
   "cell_type": "code",
   "execution_count": 16,
   "id": "2b919c17",
   "metadata": {},
   "outputs": [
    {
     "data": {
      "text/html": [
       "<div>\n",
       "<style scoped>\n",
       "    .dataframe tbody tr th:only-of-type {\n",
       "        vertical-align: middle;\n",
       "    }\n",
       "\n",
       "    .dataframe tbody tr th {\n",
       "        vertical-align: top;\n",
       "    }\n",
       "\n",
       "    .dataframe thead th {\n",
       "        text-align: right;\n",
       "    }\n",
       "</style>\n",
       "<table border=\"1\" class=\"dataframe\">\n",
       "  <thead>\n",
       "    <tr style=\"text-align: right;\">\n",
       "      <th></th>\n",
       "      <th>step</th>\n",
       "      <th>type</th>\n",
       "      <th>amount</th>\n",
       "      <th>name_origin</th>\n",
       "      <th>old_origin</th>\n",
       "      <th>new_origin</th>\n",
       "      <th>name_destination</th>\n",
       "      <th>old_destination</th>\n",
       "      <th>new_destination</th>\n",
       "      <th>is_fraud</th>\n",
       "    </tr>\n",
       "  </thead>\n",
       "  <tbody>\n",
       "    <tr>\n",
       "      <th>6065042</th>\n",
       "      <td>509</td>\n",
       "      <td>CASH_OUT</td>\n",
       "      <td>23413.67</td>\n",
       "      <td>C1100198651</td>\n",
       "      <td>23413.67</td>\n",
       "      <td>0.00</td>\n",
       "      <td>C247352056</td>\n",
       "      <td>0.00</td>\n",
       "      <td>23413.67</td>\n",
       "      <td>1</td>\n",
       "    </tr>\n",
       "    <tr>\n",
       "      <th>4784096</th>\n",
       "      <td>336</td>\n",
       "      <td>TRANSFER</td>\n",
       "      <td>9207.38</td>\n",
       "      <td>C1777315934</td>\n",
       "      <td>9207.38</td>\n",
       "      <td>0.00</td>\n",
       "      <td>C44566269</td>\n",
       "      <td>0.00</td>\n",
       "      <td>0.00</td>\n",
       "      <td>1</td>\n",
       "    </tr>\n",
       "    <tr>\n",
       "      <th>6201899</th>\n",
       "      <td>581</td>\n",
       "      <td>TRANSFER</td>\n",
       "      <td>155002.83</td>\n",
       "      <td>C1691713014</td>\n",
       "      <td>155002.83</td>\n",
       "      <td>0.00</td>\n",
       "      <td>C71357990</td>\n",
       "      <td>0.00</td>\n",
       "      <td>0.00</td>\n",
       "      <td>1</td>\n",
       "    </tr>\n",
       "    <tr>\n",
       "      <th>6061807</th>\n",
       "      <td>501</td>\n",
       "      <td>TRANSFER</td>\n",
       "      <td>705647.68</td>\n",
       "      <td>C2091895045</td>\n",
       "      <td>705647.68</td>\n",
       "      <td>0.00</td>\n",
       "      <td>C1852963634</td>\n",
       "      <td>0.00</td>\n",
       "      <td>0.00</td>\n",
       "      <td>1</td>\n",
       "    </tr>\n",
       "    <tr>\n",
       "      <th>6020168</th>\n",
       "      <td>459</td>\n",
       "      <td>TRANSFER</td>\n",
       "      <td>1153156.00</td>\n",
       "      <td>C1788207069</td>\n",
       "      <td>1153156.00</td>\n",
       "      <td>0.00</td>\n",
       "      <td>C2113625922</td>\n",
       "      <td>0.00</td>\n",
       "      <td>0.00</td>\n",
       "      <td>1</td>\n",
       "    </tr>\n",
       "    <tr>\n",
       "      <th>5563740</th>\n",
       "      <td>388</td>\n",
       "      <td>CASH_OUT</td>\n",
       "      <td>680224.41</td>\n",
       "      <td>C2094995286</td>\n",
       "      <td>680224.41</td>\n",
       "      <td>0.00</td>\n",
       "      <td>C1259079602</td>\n",
       "      <td>1058527.77</td>\n",
       "      <td>1738752.19</td>\n",
       "      <td>1</td>\n",
       "    </tr>\n",
       "    <tr>\n",
       "      <th>6019704</th>\n",
       "      <td>456</td>\n",
       "      <td>TRANSFER</td>\n",
       "      <td>10000000.00</td>\n",
       "      <td>C1807237119</td>\n",
       "      <td>10585396.14</td>\n",
       "      <td>585396.14</td>\n",
       "      <td>C1910239392</td>\n",
       "      <td>0.00</td>\n",
       "      <td>0.00</td>\n",
       "      <td>1</td>\n",
       "    </tr>\n",
       "    <tr>\n",
       "      <th>584084</th>\n",
       "      <td>33</td>\n",
       "      <td>CASH_OUT</td>\n",
       "      <td>214975.90</td>\n",
       "      <td>C6796051</td>\n",
       "      <td>214975.90</td>\n",
       "      <td>0.00</td>\n",
       "      <td>C677541710</td>\n",
       "      <td>152331.28</td>\n",
       "      <td>374513.69</td>\n",
       "      <td>1</td>\n",
       "    </tr>\n",
       "    <tr>\n",
       "      <th>4718137</th>\n",
       "      <td>332</td>\n",
       "      <td>TRANSFER</td>\n",
       "      <td>19226.25</td>\n",
       "      <td>C56751982</td>\n",
       "      <td>19226.25</td>\n",
       "      <td>0.00</td>\n",
       "      <td>C2138523923</td>\n",
       "      <td>0.00</td>\n",
       "      <td>0.00</td>\n",
       "      <td>1</td>\n",
       "    </tr>\n",
       "    <tr>\n",
       "      <th>4388758</th>\n",
       "      <td>317</td>\n",
       "      <td>TRANSFER</td>\n",
       "      <td>681007.64</td>\n",
       "      <td>C1124786108</td>\n",
       "      <td>681007.64</td>\n",
       "      <td>0.00</td>\n",
       "      <td>C1894579301</td>\n",
       "      <td>0.00</td>\n",
       "      <td>0.00</td>\n",
       "      <td>1</td>\n",
       "    </tr>\n",
       "    <tr>\n",
       "      <th>1533289</th>\n",
       "      <td>154</td>\n",
       "      <td>TRANSFER</td>\n",
       "      <td>1581441.80</td>\n",
       "      <td>C1665891733</td>\n",
       "      <td>1581441.80</td>\n",
       "      <td>0.00</td>\n",
       "      <td>C1915924384</td>\n",
       "      <td>0.00</td>\n",
       "      <td>0.00</td>\n",
       "      <td>1</td>\n",
       "    </tr>\n",
       "    <tr>\n",
       "      <th>4785662</th>\n",
       "      <td>342</td>\n",
       "      <td>TRANSFER</td>\n",
       "      <td>348952.97</td>\n",
       "      <td>C929585215</td>\n",
       "      <td>348952.97</td>\n",
       "      <td>0.00</td>\n",
       "      <td>C634016277</td>\n",
       "      <td>0.00</td>\n",
       "      <td>0.00</td>\n",
       "      <td>1</td>\n",
       "    </tr>\n",
       "    <tr>\n",
       "      <th>4589637</th>\n",
       "      <td>328</td>\n",
       "      <td>CASH_OUT</td>\n",
       "      <td>337810.17</td>\n",
       "      <td>C206355745</td>\n",
       "      <td>337810.17</td>\n",
       "      <td>0.00</td>\n",
       "      <td>C1521769124</td>\n",
       "      <td>2016352.07</td>\n",
       "      <td>2354162.24</td>\n",
       "      <td>1</td>\n",
       "    </tr>\n",
       "    <tr>\n",
       "      <th>6064528</th>\n",
       "      <td>505</td>\n",
       "      <td>CASH_OUT</td>\n",
       "      <td>2979972.78</td>\n",
       "      <td>C1670945356</td>\n",
       "      <td>2979972.78</td>\n",
       "      <td>0.00</td>\n",
       "      <td>C788738425</td>\n",
       "      <td>267407.43</td>\n",
       "      <td>3247380.20</td>\n",
       "      <td>1</td>\n",
       "    </tr>\n",
       "    <tr>\n",
       "      <th>6238419</th>\n",
       "      <td>594</td>\n",
       "      <td>CASH_OUT</td>\n",
       "      <td>217357.58</td>\n",
       "      <td>C543137338</td>\n",
       "      <td>217357.58</td>\n",
       "      <td>0.00</td>\n",
       "      <td>C1467736806</td>\n",
       "      <td>8844811.88</td>\n",
       "      <td>9062169.46</td>\n",
       "      <td>1</td>\n",
       "    </tr>\n",
       "    <tr>\n",
       "      <th>2877602</th>\n",
       "      <td>227</td>\n",
       "      <td>CASH_OUT</td>\n",
       "      <td>2815893.17</td>\n",
       "      <td>C716780385</td>\n",
       "      <td>2815893.17</td>\n",
       "      <td>0.00</td>\n",
       "      <td>C2047944461</td>\n",
       "      <td>104430.53</td>\n",
       "      <td>2920323.70</td>\n",
       "      <td>1</td>\n",
       "    </tr>\n",
       "    <tr>\n",
       "      <th>5188052</th>\n",
       "      <td>367</td>\n",
       "      <td>TRANSFER</td>\n",
       "      <td>972009.75</td>\n",
       "      <td>C397472180</td>\n",
       "      <td>972009.75</td>\n",
       "      <td>0.00</td>\n",
       "      <td>C85938481</td>\n",
       "      <td>0.00</td>\n",
       "      <td>0.00</td>\n",
       "      <td>1</td>\n",
       "    </tr>\n",
       "    <tr>\n",
       "      <th>576166</th>\n",
       "      <td>26</td>\n",
       "      <td>TRANSFER</td>\n",
       "      <td>1027152.36</td>\n",
       "      <td>C414159853</td>\n",
       "      <td>1027152.36</td>\n",
       "      <td>0.00</td>\n",
       "      <td>C1087566727</td>\n",
       "      <td>0.00</td>\n",
       "      <td>0.00</td>\n",
       "      <td>1</td>\n",
       "    </tr>\n",
       "    <tr>\n",
       "      <th>6347063</th>\n",
       "      <td>694</td>\n",
       "      <td>CASH_OUT</td>\n",
       "      <td>8980853.88</td>\n",
       "      <td>C822799769</td>\n",
       "      <td>8980853.88</td>\n",
       "      <td>0.00</td>\n",
       "      <td>C2068912679</td>\n",
       "      <td>50532.12</td>\n",
       "      <td>9031386.00</td>\n",
       "      <td>1</td>\n",
       "    </tr>\n",
       "    <tr>\n",
       "      <th>6039793</th>\n",
       "      <td>484</td>\n",
       "      <td>CASH_OUT</td>\n",
       "      <td>156220.74</td>\n",
       "      <td>C389614238</td>\n",
       "      <td>156220.74</td>\n",
       "      <td>0.00</td>\n",
       "      <td>C643171110</td>\n",
       "      <td>0.00</td>\n",
       "      <td>156220.74</td>\n",
       "      <td>1</td>\n",
       "    </tr>\n",
       "  </tbody>\n",
       "</table>\n",
       "</div>"
      ],
      "text/plain": [
       "         step      type       amount  name_origin   old_origin  new_origin  \\\n",
       "6065042   509  CASH_OUT     23413.67  C1100198651     23413.67        0.00   \n",
       "4784096   336  TRANSFER      9207.38  C1777315934      9207.38        0.00   \n",
       "6201899   581  TRANSFER    155002.83  C1691713014    155002.83        0.00   \n",
       "6061807   501  TRANSFER    705647.68  C2091895045    705647.68        0.00   \n",
       "6020168   459  TRANSFER   1153156.00  C1788207069   1153156.00        0.00   \n",
       "5563740   388  CASH_OUT    680224.41  C2094995286    680224.41        0.00   \n",
       "6019704   456  TRANSFER  10000000.00  C1807237119  10585396.14   585396.14   \n",
       "584084     33  CASH_OUT    214975.90     C6796051    214975.90        0.00   \n",
       "4718137   332  TRANSFER     19226.25    C56751982     19226.25        0.00   \n",
       "4388758   317  TRANSFER    681007.64  C1124786108    681007.64        0.00   \n",
       "1533289   154  TRANSFER   1581441.80  C1665891733   1581441.80        0.00   \n",
       "4785662   342  TRANSFER    348952.97   C929585215    348952.97        0.00   \n",
       "4589637   328  CASH_OUT    337810.17   C206355745    337810.17        0.00   \n",
       "6064528   505  CASH_OUT   2979972.78  C1670945356   2979972.78        0.00   \n",
       "6238419   594  CASH_OUT    217357.58   C543137338    217357.58        0.00   \n",
       "2877602   227  CASH_OUT   2815893.17   C716780385   2815893.17        0.00   \n",
       "5188052   367  TRANSFER    972009.75   C397472180    972009.75        0.00   \n",
       "576166     26  TRANSFER   1027152.36   C414159853   1027152.36        0.00   \n",
       "6347063   694  CASH_OUT   8980853.88   C822799769   8980853.88        0.00   \n",
       "6039793   484  CASH_OUT    156220.74   C389614238    156220.74        0.00   \n",
       "\n",
       "        name_destination  old_destination  new_destination  is_fraud  \n",
       "6065042       C247352056             0.00         23413.67         1  \n",
       "4784096        C44566269             0.00             0.00         1  \n",
       "6201899        C71357990             0.00             0.00         1  \n",
       "6061807      C1852963634             0.00             0.00         1  \n",
       "6020168      C2113625922             0.00             0.00         1  \n",
       "5563740      C1259079602       1058527.77       1738752.19         1  \n",
       "6019704      C1910239392             0.00             0.00         1  \n",
       "584084        C677541710        152331.28        374513.69         1  \n",
       "4718137      C2138523923             0.00             0.00         1  \n",
       "4388758      C1894579301             0.00             0.00         1  \n",
       "1533289      C1915924384             0.00             0.00         1  \n",
       "4785662       C634016277             0.00             0.00         1  \n",
       "4589637      C1521769124       2016352.07       2354162.24         1  \n",
       "6064528       C788738425        267407.43       3247380.20         1  \n",
       "6238419      C1467736806       8844811.88       9062169.46         1  \n",
       "2877602      C2047944461        104430.53       2920323.70         1  \n",
       "5188052        C85938481             0.00             0.00         1  \n",
       "576166       C1087566727             0.00             0.00         1  \n",
       "6347063      C2068912679         50532.12       9031386.00         1  \n",
       "6039793       C643171110             0.00        156220.74         1  "
      ]
     },
     "execution_count": 16,
     "metadata": {},
     "output_type": "execute_result"
    }
   ],
   "source": [
    "frauds_new_origin_cero = frauds[(frauds['is_fraud'] == 1)]\n",
    "frauds_new_origin_cero.sample(20)"
   ]
  },
  {
   "cell_type": "markdown",
   "id": "7dc5fa31",
   "metadata": {},
   "source": [
    "Se puede apreciar que los 20 ejemplos de transacciones fraudulentas en el 100% de los mismos la columna 'new_origin' es 0, para apreciarlo en la totalidad de los datos mostramos la totalidad de los mismos"
   ]
  },
  {
   "cell_type": "code",
   "execution_count": 17,
   "id": "6455877e",
   "metadata": {},
   "outputs": [
    {
     "name": "stdout",
     "output_type": "stream",
     "text": [
      "Cantidad de registros con new_origin es 0 luego de una transacción fraudulenta:  8053\n"
     ]
    }
   ],
   "source": [
    "frauds_new_origin_cero = frauds[(frauds['is_fraud'] == 1) & (frauds['new_origin'] == 0)]\n",
    "print('Cantidad de registros con new_origin es 0 luego de una transacción fraudulenta: ',len(frauds_new_origin_cero))"
   ]
  },
  {
   "cell_type": "markdown",
   "id": "0a8d5fce",
   "metadata": {},
   "source": [
    "De esta manera demostramos que nuestra primera hipótesis es válida."
   ]
  },
  {
   "cell_type": "markdown",
   "id": "9416433e",
   "metadata": {},
   "source": [
    "* Hipótesis 2: \"Las transacciones con importes mayores a 300.000 tienen una mayor probabilidad de ser fraudulentas.\"\n",
    "\n",
    "* Descripción coloquial:\n",
    "La idea es que, si una transacción tiene un importe significativamente alto, podría ser más propensa a ser fraudulenta. Esto podría ser porque los delincuentes prefieren realizar transacciones grandes para obtener mayores beneficios."
   ]
  },
  {
   "cell_type": "code",
   "execution_count": 18,
   "id": "11cf67b3",
   "metadata": {},
   "outputs": [
    {
     "name": "stdout",
     "output_type": "stream",
     "text": [
      "Cantidad de transacciones con valor mayor a $300.000:  926257\n",
      "Cantidad de transacciones fraudulentas con valor mayor a $300.000:  4789\n"
     ]
    }
   ],
   "source": [
    "registers_high_amount = frauds[(frauds['amount'] > 300000)]\n",
    "print('Cantidad de transacciones con valor mayor a $300.000: ',len(registers_high_amount))\n",
    "\n",
    "frauds_high_amount = frauds[(frauds['amount'] > 300000) & (frauds['is_fraud'] == 1)]\n",
    "print('Cantidad de transacciones fraudulentas con valor mayor a $300.000: ',len(frauds_high_amount))"
   ]
  },
  {
   "cell_type": "markdown",
   "id": "3881298b",
   "metadata": {},
   "source": [
    "Con estos resultados comprobamos que nuestra hipótesis 2 no se cumple ya que solo tenemos un 0.5% de transacciones fraudulentas con montos mayores a $300.000."
   ]
  },
  {
   "cell_type": "markdown",
   "id": "e46e9ea6",
   "metadata": {},
   "source": [
    "### Describa y presente cualquier otro hallazgo que sea capaz de encontrar en los datos. Explique el impacto que podría tener en la creación de un modelo."
   ]
  },
  {
   "cell_type": "markdown",
   "id": "c212dbe7",
   "metadata": {},
   "source": [
    "* Análisis: Las transacciones fraudulentas se encuentran únicamente en los tipos CASH_OUT y TRANSFER. No se han detectado fraudes en las transacciones de tipo CASH_IN, DEBIT y PAYMENT.\n",
    "\n",
    "* Impacto en la creación del modelo: \n",
    "Como modificación del modelo podríamos eliminar las columnas de CASH_IN, DEBIT y PAYMENT ya que no existen casos donde el modelo podría aprender ejemplos de fraude. Esto no se hará ya que eliminar esos tres tipos implica reducir nuestro dataset a un 35% del original.\n"
   ]
  },
  {
   "cell_type": "markdown",
   "id": "95327f0d",
   "metadata": {},
   "source": [
    "##### Puntos que se tuvieron en cuenta a la hora de realizar este analisis\n",
    "* Análisis del Data Set.\n",
    "* Análisis de distribuciones.\n",
    "* Análisis de correlación.\n",
    "* Análisis de valores nulos.\n",
    "* Análisis de datos faltantes.\n",
    "* Exploración de variables categóricas.\n",
    "\n",
    "Los ítems nombrados fueron detallados anteriormente con ejemplos y/o gráficos a modo de demostración."
   ]
  },
  {
   "cell_type": "markdown",
   "id": "7b8e8d20",
   "metadata": {},
   "source": [
    "### Analice si la creación de nuevas variables a partir de los datos existentes puede ser beneficiosa para el problema presentado."
   ]
  },
  {
   "cell_type": "markdown",
   "id": "0c7f2725",
   "metadata": {},
   "source": [
    "Pensamos en generar una nueva columna llamada 'possible_fraud' que su posible valor sea 0 o 1 en nuestro data set y que tome el valor 1 para aquellos casos en el que la columna new_origin sea 0 y para aquellos casos en los que el new_origin sea distinto de 0 tome el valor 0."
   ]
  },
  {
   "cell_type": "code",
   "execution_count": 19,
   "id": "ed86f9ed",
   "metadata": {},
   "outputs": [
    {
     "name": "stdout",
     "output_type": "stream",
     "text": [
      "   new_origin  possible_fraud\n",
      "0   160296.36               0\n",
      "1    19384.72               0\n",
      "2        0.00               1\n",
      "3        0.00               1\n",
      "4    29885.86               0\n"
     ]
    }
   ],
   "source": [
    "frauds['possible_fraud'] = (frauds['new_origin'] == 0).astype(int)\n",
    "\n",
    "print(frauds[['new_origin', 'possible_fraud']].head())\n"
   ]
  },
  {
   "cell_type": "markdown",
   "id": "6f612897",
   "metadata": {},
   "source": [
    "Con esta nueva Feature Engineering podemos agregar peso a la hora de entrenar nuestro modelo debido a que anteriormente descubrimos que los registros donde new_origin = 0 en un >95% de los casos se tratan de transacciones fraudulentas."
   ]
  },
  {
   "cell_type": "markdown",
   "id": "6eb89f94",
   "metadata": {},
   "source": [
    "# 4.⁠ ⁠Modelado\n",
    "\n",
    "* Aplicar alguna técnica de feature engineering para mejorar los datos de entrada a los modelos, y mostrar la comparativa de los resultados obtenidos en cada caso. Si no es posible o útil, fundamentar el motivo por el cual no se realizará.\n",
    "\n",
    "* Realizar experimentos que utilicen como datos de entrada representaciones intermedias de los datos (generadas por técnicas de reducción de dimensiones como PCA). Compare los resultados obtenidos contra los casos previos, interprete y proponga conclusiones.\n",
    "\n",
    "* En todo momento, se deben utilizar técnicas que garanticen que los modelos no están sobreentrenando.\n",
    "\n",
    "* Determinar el valor final de la métrica que podría ser informado a un posible \"cliente\", utilizando técnicas que permitan obtener un valor lo más realista posible. Fundamentar y considerar no solo el rendimiento del modelo en su elección, sino también cuestiones como interpretabilidad, tiempos de entrenamiento, etc.\n",
    "\n",
    "* Para el algoritmo seleccionado como \"ganador\", y para distintos pares de variables, genere diagramas de dispersión donde se visualicen los aciertos y errores del mismo. Discuta si existen patrones o conocimiento que se pueda obtener a partir de dichos errores. En caso de ser posible, evalúe la importancia que asigna el método a las variables de entrada y genere conclusiones al respecto."
   ]
  },
  {
   "cell_type": "markdown",
   "id": "3a3ad1c2-7e05-44bd-a719-8fb0a07ede2a",
   "metadata": {},
   "source": [
    "Elegir una métrica de performance a utilizar para evaluar los modelos. Fundamentar la elección de la métrica."
   ]
  },
  {
   "cell_type": "code",
   "execution_count": 20,
   "id": "f7409121-5a08-4de4-9036-e595ba27980a",
   "metadata": {},
   "outputs": [
    {
     "data": {
      "text/plain": [
       "(4924896, 11)"
      ]
     },
     "execution_count": 20,
     "metadata": {},
     "output_type": "execute_result"
    }
   ],
   "source": [
    "frauds = frauds[\n",
    "                        ((frauds['old_origin'] != 0) &\n",
    "                        (frauds['new_origin'] != 0)) |\n",
    "                        ((frauds['old_destination'] != 0) &\n",
    "                        (frauds['new_destination'] != 0))]\n",
    "\n",
    "frauds.shape"
   ]
  },
  {
   "cell_type": "code",
   "execution_count": 21,
   "id": "61b1ecb7-de12-42be-9f8c-91d0a27d65ea",
   "metadata": {},
   "outputs": [
    {
     "data": {
      "text/html": [
       "<div>\n",
       "<style scoped>\n",
       "    .dataframe tbody tr th:only-of-type {\n",
       "        vertical-align: middle;\n",
       "    }\n",
       "\n",
       "    .dataframe tbody tr th {\n",
       "        vertical-align: top;\n",
       "    }\n",
       "\n",
       "    .dataframe thead th {\n",
       "        text-align: right;\n",
       "    }\n",
       "</style>\n",
       "<table border=\"1\" class=\"dataframe\">\n",
       "  <thead>\n",
       "    <tr style=\"text-align: right;\">\n",
       "      <th></th>\n",
       "      <th>step</th>\n",
       "      <th>type</th>\n",
       "      <th>amount</th>\n",
       "      <th>old_origin</th>\n",
       "      <th>new_origin</th>\n",
       "      <th>old_destination</th>\n",
       "      <th>new_destination</th>\n",
       "      <th>is_fraud</th>\n",
       "    </tr>\n",
       "  </thead>\n",
       "  <tbody>\n",
       "    <tr>\n",
       "      <th>5483789</th>\n",
       "      <td>379</td>\n",
       "      <td>CASH_OUT</td>\n",
       "      <td>121102.90</td>\n",
       "      <td>12137.0</td>\n",
       "      <td>0.00</td>\n",
       "      <td>556909.97</td>\n",
       "      <td>678012.87</td>\n",
       "      <td>0</td>\n",
       "    </tr>\n",
       "    <tr>\n",
       "      <th>1852222</th>\n",
       "      <td>164</td>\n",
       "      <td>CASH_OUT</td>\n",
       "      <td>155663.80</td>\n",
       "      <td>0.0</td>\n",
       "      <td>0.00</td>\n",
       "      <td>472348.29</td>\n",
       "      <td>628012.09</td>\n",
       "      <td>0</td>\n",
       "    </tr>\n",
       "    <tr>\n",
       "      <th>3375937</th>\n",
       "      <td>254</td>\n",
       "      <td>CASH_IN</td>\n",
       "      <td>68608.11</td>\n",
       "      <td>51302.0</td>\n",
       "      <td>119910.11</td>\n",
       "      <td>29420743.72</td>\n",
       "      <td>30388318.09</td>\n",
       "      <td>0</td>\n",
       "    </tr>\n",
       "  </tbody>\n",
       "</table>\n",
       "</div>"
      ],
      "text/plain": [
       "         step      type     amount  old_origin  new_origin  old_destination  \\\n",
       "5483789   379  CASH_OUT  121102.90     12137.0        0.00        556909.97   \n",
       "1852222   164  CASH_OUT  155663.80         0.0        0.00        472348.29   \n",
       "3375937   254   CASH_IN   68608.11     51302.0   119910.11      29420743.72   \n",
       "\n",
       "         new_destination  is_fraud  \n",
       "5483789        678012.87         0  \n",
       "1852222        628012.09         0  \n",
       "3375937      30388318.09         0  "
      ]
     },
     "execution_count": 21,
     "metadata": {},
     "output_type": "execute_result"
    }
   ],
   "source": [
    "#dropeamos algunas columnas\n",
    "\n",
    "frauds = frauds.drop(columns=[ \"possible_fraud\",\"name_origin\", \"name_destination\"])\n",
    "frauds.sample(3)"
   ]
  },
  {
   "cell_type": "markdown",
   "id": "13ee0d17-8434-475b-b6fb-75c881418b6d",
   "metadata": {},
   "source": [
    "TODO: AAAAAAAAAAAAAAAAAAAAAAAAAAAAAAAAAAAAAAAAAAAAAAAAAAAAAAAAAAAAAAAAAAAAAA"
   ]
  },
  {
   "cell_type": "code",
   "execution_count": 22,
   "id": "d122e378-a80e-498c-a6d3-f91efa0a68d8",
   "metadata": {},
   "outputs": [
    {
     "data": {
      "text/plain": [
       "((2954937, 8), (984979, 8), (984980, 8))"
      ]
     },
     "execution_count": 22,
     "metadata": {},
     "output_type": "execute_result"
    }
   ],
   "source": [
    "# 60% train, 20% test, 20% validation\n",
    "train, not_train = train_test_split(frauds, test_size=0.4, random_state=42)\n",
    "validation, test = train_test_split(not_train, test_size=0.5, random_state=42)\n",
    "\n",
    "train.shape, validation.shape, test.shape"
   ]
  },
  {
   "cell_type": "code",
   "execution_count": 23,
   "id": "840d1f6c-5b72-4c5c-aa88-ab39b5435eaa",
   "metadata": {},
   "outputs": [
    {
     "data": {
      "text/html": [
       "<style>#sk-container-id-1 {\n",
       "  /* Definition of color scheme common for light and dark mode */\n",
       "  --sklearn-color-text: black;\n",
       "  --sklearn-color-line: gray;\n",
       "  /* Definition of color scheme for unfitted estimators */\n",
       "  --sklearn-color-unfitted-level-0: #fff5e6;\n",
       "  --sklearn-color-unfitted-level-1: #f6e4d2;\n",
       "  --sklearn-color-unfitted-level-2: #ffe0b3;\n",
       "  --sklearn-color-unfitted-level-3: chocolate;\n",
       "  /* Definition of color scheme for fitted estimators */\n",
       "  --sklearn-color-fitted-level-0: #f0f8ff;\n",
       "  --sklearn-color-fitted-level-1: #d4ebff;\n",
       "  --sklearn-color-fitted-level-2: #b3dbfd;\n",
       "  --sklearn-color-fitted-level-3: cornflowerblue;\n",
       "\n",
       "  /* Specific color for light theme */\n",
       "  --sklearn-color-text-on-default-background: var(--sg-text-color, var(--theme-code-foreground, var(--jp-content-font-color1, black)));\n",
       "  --sklearn-color-background: var(--sg-background-color, var(--theme-background, var(--jp-layout-color0, white)));\n",
       "  --sklearn-color-border-box: var(--sg-text-color, var(--theme-code-foreground, var(--jp-content-font-color1, black)));\n",
       "  --sklearn-color-icon: #696969;\n",
       "\n",
       "  @media (prefers-color-scheme: dark) {\n",
       "    /* Redefinition of color scheme for dark theme */\n",
       "    --sklearn-color-text-on-default-background: var(--sg-text-color, var(--theme-code-foreground, var(--jp-content-font-color1, white)));\n",
       "    --sklearn-color-background: var(--sg-background-color, var(--theme-background, var(--jp-layout-color0, #111)));\n",
       "    --sklearn-color-border-box: var(--sg-text-color, var(--theme-code-foreground, var(--jp-content-font-color1, white)));\n",
       "    --sklearn-color-icon: #878787;\n",
       "  }\n",
       "}\n",
       "\n",
       "#sk-container-id-1 {\n",
       "  color: var(--sklearn-color-text);\n",
       "}\n",
       "\n",
       "#sk-container-id-1 pre {\n",
       "  padding: 0;\n",
       "}\n",
       "\n",
       "#sk-container-id-1 input.sk-hidden--visually {\n",
       "  border: 0;\n",
       "  clip: rect(1px 1px 1px 1px);\n",
       "  clip: rect(1px, 1px, 1px, 1px);\n",
       "  height: 1px;\n",
       "  margin: -1px;\n",
       "  overflow: hidden;\n",
       "  padding: 0;\n",
       "  position: absolute;\n",
       "  width: 1px;\n",
       "}\n",
       "\n",
       "#sk-container-id-1 div.sk-dashed-wrapped {\n",
       "  border: 1px dashed var(--sklearn-color-line);\n",
       "  margin: 0 0.4em 0.5em 0.4em;\n",
       "  box-sizing: border-box;\n",
       "  padding-bottom: 0.4em;\n",
       "  background-color: var(--sklearn-color-background);\n",
       "}\n",
       "\n",
       "#sk-container-id-1 div.sk-container {\n",
       "  /* jupyter's `normalize.less` sets `[hidden] { display: none; }`\n",
       "     but bootstrap.min.css set `[hidden] { display: none !important; }`\n",
       "     so we also need the `!important` here to be able to override the\n",
       "     default hidden behavior on the sphinx rendered scikit-learn.org.\n",
       "     See: https://github.com/scikit-learn/scikit-learn/issues/21755 */\n",
       "  display: inline-block !important;\n",
       "  position: relative;\n",
       "}\n",
       "\n",
       "#sk-container-id-1 div.sk-text-repr-fallback {\n",
       "  display: none;\n",
       "}\n",
       "\n",
       "div.sk-parallel-item,\n",
       "div.sk-serial,\n",
       "div.sk-item {\n",
       "  /* draw centered vertical line to link estimators */\n",
       "  background-image: linear-gradient(var(--sklearn-color-text-on-default-background), var(--sklearn-color-text-on-default-background));\n",
       "  background-size: 2px 100%;\n",
       "  background-repeat: no-repeat;\n",
       "  background-position: center center;\n",
       "}\n",
       "\n",
       "/* Parallel-specific style estimator block */\n",
       "\n",
       "#sk-container-id-1 div.sk-parallel-item::after {\n",
       "  content: \"\";\n",
       "  width: 100%;\n",
       "  border-bottom: 2px solid var(--sklearn-color-text-on-default-background);\n",
       "  flex-grow: 1;\n",
       "}\n",
       "\n",
       "#sk-container-id-1 div.sk-parallel {\n",
       "  display: flex;\n",
       "  align-items: stretch;\n",
       "  justify-content: center;\n",
       "  background-color: var(--sklearn-color-background);\n",
       "  position: relative;\n",
       "}\n",
       "\n",
       "#sk-container-id-1 div.sk-parallel-item {\n",
       "  display: flex;\n",
       "  flex-direction: column;\n",
       "}\n",
       "\n",
       "#sk-container-id-1 div.sk-parallel-item:first-child::after {\n",
       "  align-self: flex-end;\n",
       "  width: 50%;\n",
       "}\n",
       "\n",
       "#sk-container-id-1 div.sk-parallel-item:last-child::after {\n",
       "  align-self: flex-start;\n",
       "  width: 50%;\n",
       "}\n",
       "\n",
       "#sk-container-id-1 div.sk-parallel-item:only-child::after {\n",
       "  width: 0;\n",
       "}\n",
       "\n",
       "/* Serial-specific style estimator block */\n",
       "\n",
       "#sk-container-id-1 div.sk-serial {\n",
       "  display: flex;\n",
       "  flex-direction: column;\n",
       "  align-items: center;\n",
       "  background-color: var(--sklearn-color-background);\n",
       "  padding-right: 1em;\n",
       "  padding-left: 1em;\n",
       "}\n",
       "\n",
       "\n",
       "/* Toggleable style: style used for estimator/Pipeline/ColumnTransformer box that is\n",
       "clickable and can be expanded/collapsed.\n",
       "- Pipeline and ColumnTransformer use this feature and define the default style\n",
       "- Estimators will overwrite some part of the style using the `sk-estimator` class\n",
       "*/\n",
       "\n",
       "/* Pipeline and ColumnTransformer style (default) */\n",
       "\n",
       "#sk-container-id-1 div.sk-toggleable {\n",
       "  /* Default theme specific background. It is overwritten whether we have a\n",
       "  specific estimator or a Pipeline/ColumnTransformer */\n",
       "  background-color: var(--sklearn-color-background);\n",
       "}\n",
       "\n",
       "/* Toggleable label */\n",
       "#sk-container-id-1 label.sk-toggleable__label {\n",
       "  cursor: pointer;\n",
       "  display: block;\n",
       "  width: 100%;\n",
       "  margin-bottom: 0;\n",
       "  padding: 0.5em;\n",
       "  box-sizing: border-box;\n",
       "  text-align: center;\n",
       "}\n",
       "\n",
       "#sk-container-id-1 label.sk-toggleable__label-arrow:before {\n",
       "  /* Arrow on the left of the label */\n",
       "  content: \"▸\";\n",
       "  float: left;\n",
       "  margin-right: 0.25em;\n",
       "  color: var(--sklearn-color-icon);\n",
       "}\n",
       "\n",
       "#sk-container-id-1 label.sk-toggleable__label-arrow:hover:before {\n",
       "  color: var(--sklearn-color-text);\n",
       "}\n",
       "\n",
       "/* Toggleable content - dropdown */\n",
       "\n",
       "#sk-container-id-1 div.sk-toggleable__content {\n",
       "  max-height: 0;\n",
       "  max-width: 0;\n",
       "  overflow: hidden;\n",
       "  text-align: left;\n",
       "  /* unfitted */\n",
       "  background-color: var(--sklearn-color-unfitted-level-0);\n",
       "}\n",
       "\n",
       "#sk-container-id-1 div.sk-toggleable__content.fitted {\n",
       "  /* fitted */\n",
       "  background-color: var(--sklearn-color-fitted-level-0);\n",
       "}\n",
       "\n",
       "#sk-container-id-1 div.sk-toggleable__content pre {\n",
       "  margin: 0.2em;\n",
       "  border-radius: 0.25em;\n",
       "  color: var(--sklearn-color-text);\n",
       "  /* unfitted */\n",
       "  background-color: var(--sklearn-color-unfitted-level-0);\n",
       "}\n",
       "\n",
       "#sk-container-id-1 div.sk-toggleable__content.fitted pre {\n",
       "  /* unfitted */\n",
       "  background-color: var(--sklearn-color-fitted-level-0);\n",
       "}\n",
       "\n",
       "#sk-container-id-1 input.sk-toggleable__control:checked~div.sk-toggleable__content {\n",
       "  /* Expand drop-down */\n",
       "  max-height: 200px;\n",
       "  max-width: 100%;\n",
       "  overflow: auto;\n",
       "}\n",
       "\n",
       "#sk-container-id-1 input.sk-toggleable__control:checked~label.sk-toggleable__label-arrow:before {\n",
       "  content: \"▾\";\n",
       "}\n",
       "\n",
       "/* Pipeline/ColumnTransformer-specific style */\n",
       "\n",
       "#sk-container-id-1 div.sk-label input.sk-toggleable__control:checked~label.sk-toggleable__label {\n",
       "  color: var(--sklearn-color-text);\n",
       "  background-color: var(--sklearn-color-unfitted-level-2);\n",
       "}\n",
       "\n",
       "#sk-container-id-1 div.sk-label.fitted input.sk-toggleable__control:checked~label.sk-toggleable__label {\n",
       "  background-color: var(--sklearn-color-fitted-level-2);\n",
       "}\n",
       "\n",
       "/* Estimator-specific style */\n",
       "\n",
       "/* Colorize estimator box */\n",
       "#sk-container-id-1 div.sk-estimator input.sk-toggleable__control:checked~label.sk-toggleable__label {\n",
       "  /* unfitted */\n",
       "  background-color: var(--sklearn-color-unfitted-level-2);\n",
       "}\n",
       "\n",
       "#sk-container-id-1 div.sk-estimator.fitted input.sk-toggleable__control:checked~label.sk-toggleable__label {\n",
       "  /* fitted */\n",
       "  background-color: var(--sklearn-color-fitted-level-2);\n",
       "}\n",
       "\n",
       "#sk-container-id-1 div.sk-label label.sk-toggleable__label,\n",
       "#sk-container-id-1 div.sk-label label {\n",
       "  /* The background is the default theme color */\n",
       "  color: var(--sklearn-color-text-on-default-background);\n",
       "}\n",
       "\n",
       "/* On hover, darken the color of the background */\n",
       "#sk-container-id-1 div.sk-label:hover label.sk-toggleable__label {\n",
       "  color: var(--sklearn-color-text);\n",
       "  background-color: var(--sklearn-color-unfitted-level-2);\n",
       "}\n",
       "\n",
       "/* Label box, darken color on hover, fitted */\n",
       "#sk-container-id-1 div.sk-label.fitted:hover label.sk-toggleable__label.fitted {\n",
       "  color: var(--sklearn-color-text);\n",
       "  background-color: var(--sklearn-color-fitted-level-2);\n",
       "}\n",
       "\n",
       "/* Estimator label */\n",
       "\n",
       "#sk-container-id-1 div.sk-label label {\n",
       "  font-family: monospace;\n",
       "  font-weight: bold;\n",
       "  display: inline-block;\n",
       "  line-height: 1.2em;\n",
       "}\n",
       "\n",
       "#sk-container-id-1 div.sk-label-container {\n",
       "  text-align: center;\n",
       "}\n",
       "\n",
       "/* Estimator-specific */\n",
       "#sk-container-id-1 div.sk-estimator {\n",
       "  font-family: monospace;\n",
       "  border: 1px dotted var(--sklearn-color-border-box);\n",
       "  border-radius: 0.25em;\n",
       "  box-sizing: border-box;\n",
       "  margin-bottom: 0.5em;\n",
       "  /* unfitted */\n",
       "  background-color: var(--sklearn-color-unfitted-level-0);\n",
       "}\n",
       "\n",
       "#sk-container-id-1 div.sk-estimator.fitted {\n",
       "  /* fitted */\n",
       "  background-color: var(--sklearn-color-fitted-level-0);\n",
       "}\n",
       "\n",
       "/* on hover */\n",
       "#sk-container-id-1 div.sk-estimator:hover {\n",
       "  /* unfitted */\n",
       "  background-color: var(--sklearn-color-unfitted-level-2);\n",
       "}\n",
       "\n",
       "#sk-container-id-1 div.sk-estimator.fitted:hover {\n",
       "  /* fitted */\n",
       "  background-color: var(--sklearn-color-fitted-level-2);\n",
       "}\n",
       "\n",
       "/* Specification for estimator info (e.g. \"i\" and \"?\") */\n",
       "\n",
       "/* Common style for \"i\" and \"?\" */\n",
       "\n",
       ".sk-estimator-doc-link,\n",
       "a:link.sk-estimator-doc-link,\n",
       "a:visited.sk-estimator-doc-link {\n",
       "  float: right;\n",
       "  font-size: smaller;\n",
       "  line-height: 1em;\n",
       "  font-family: monospace;\n",
       "  background-color: var(--sklearn-color-background);\n",
       "  border-radius: 1em;\n",
       "  height: 1em;\n",
       "  width: 1em;\n",
       "  text-decoration: none !important;\n",
       "  margin-left: 1ex;\n",
       "  /* unfitted */\n",
       "  border: var(--sklearn-color-unfitted-level-1) 1pt solid;\n",
       "  color: var(--sklearn-color-unfitted-level-1);\n",
       "}\n",
       "\n",
       ".sk-estimator-doc-link.fitted,\n",
       "a:link.sk-estimator-doc-link.fitted,\n",
       "a:visited.sk-estimator-doc-link.fitted {\n",
       "  /* fitted */\n",
       "  border: var(--sklearn-color-fitted-level-1) 1pt solid;\n",
       "  color: var(--sklearn-color-fitted-level-1);\n",
       "}\n",
       "\n",
       "/* On hover */\n",
       "div.sk-estimator:hover .sk-estimator-doc-link:hover,\n",
       ".sk-estimator-doc-link:hover,\n",
       "div.sk-label-container:hover .sk-estimator-doc-link:hover,\n",
       ".sk-estimator-doc-link:hover {\n",
       "  /* unfitted */\n",
       "  background-color: var(--sklearn-color-unfitted-level-3);\n",
       "  color: var(--sklearn-color-background);\n",
       "  text-decoration: none;\n",
       "}\n",
       "\n",
       "div.sk-estimator.fitted:hover .sk-estimator-doc-link.fitted:hover,\n",
       ".sk-estimator-doc-link.fitted:hover,\n",
       "div.sk-label-container:hover .sk-estimator-doc-link.fitted:hover,\n",
       ".sk-estimator-doc-link.fitted:hover {\n",
       "  /* fitted */\n",
       "  background-color: var(--sklearn-color-fitted-level-3);\n",
       "  color: var(--sklearn-color-background);\n",
       "  text-decoration: none;\n",
       "}\n",
       "\n",
       "/* Span, style for the box shown on hovering the info icon */\n",
       ".sk-estimator-doc-link span {\n",
       "  display: none;\n",
       "  z-index: 9999;\n",
       "  position: relative;\n",
       "  font-weight: normal;\n",
       "  right: .2ex;\n",
       "  padding: .5ex;\n",
       "  margin: .5ex;\n",
       "  width: min-content;\n",
       "  min-width: 20ex;\n",
       "  max-width: 50ex;\n",
       "  color: var(--sklearn-color-text);\n",
       "  box-shadow: 2pt 2pt 4pt #999;\n",
       "  /* unfitted */\n",
       "  background: var(--sklearn-color-unfitted-level-0);\n",
       "  border: .5pt solid var(--sklearn-color-unfitted-level-3);\n",
       "}\n",
       "\n",
       ".sk-estimator-doc-link.fitted span {\n",
       "  /* fitted */\n",
       "  background: var(--sklearn-color-fitted-level-0);\n",
       "  border: var(--sklearn-color-fitted-level-3);\n",
       "}\n",
       "\n",
       ".sk-estimator-doc-link:hover span {\n",
       "  display: block;\n",
       "}\n",
       "\n",
       "/* \"?\"-specific style due to the `<a>` HTML tag */\n",
       "\n",
       "#sk-container-id-1 a.estimator_doc_link {\n",
       "  float: right;\n",
       "  font-size: 1rem;\n",
       "  line-height: 1em;\n",
       "  font-family: monospace;\n",
       "  background-color: var(--sklearn-color-background);\n",
       "  border-radius: 1rem;\n",
       "  height: 1rem;\n",
       "  width: 1rem;\n",
       "  text-decoration: none;\n",
       "  /* unfitted */\n",
       "  color: var(--sklearn-color-unfitted-level-1);\n",
       "  border: var(--sklearn-color-unfitted-level-1) 1pt solid;\n",
       "}\n",
       "\n",
       "#sk-container-id-1 a.estimator_doc_link.fitted {\n",
       "  /* fitted */\n",
       "  border: var(--sklearn-color-fitted-level-1) 1pt solid;\n",
       "  color: var(--sklearn-color-fitted-level-1);\n",
       "}\n",
       "\n",
       "/* On hover */\n",
       "#sk-container-id-1 a.estimator_doc_link:hover {\n",
       "  /* unfitted */\n",
       "  background-color: var(--sklearn-color-unfitted-level-3);\n",
       "  color: var(--sklearn-color-background);\n",
       "  text-decoration: none;\n",
       "}\n",
       "\n",
       "#sk-container-id-1 a.estimator_doc_link.fitted:hover {\n",
       "  /* fitted */\n",
       "  background-color: var(--sklearn-color-fitted-level-3);\n",
       "}\n",
       "</style><div id=\"sk-container-id-1\" class=\"sk-top-container\"><div class=\"sk-text-repr-fallback\"><pre>DataFrameMapper(drop_cols=[],\n",
       "                features=[([&#x27;step&#x27;], [StandardScaler()]),\n",
       "                          ([&#x27;amount&#x27;], [StandardScaler()]),\n",
       "                          ([&#x27;old_origin&#x27;], [StandardScaler()]),\n",
       "                          ([&#x27;new_origin&#x27;], [StandardScaler()]),\n",
       "                          ([&#x27;old_destination&#x27;], [StandardScaler()]),\n",
       "                          ([&#x27;new_destination&#x27;], [StandardScaler()]),\n",
       "                          ([&#x27;type&#x27;], [OneHotEncoder()])])</pre><b>In a Jupyter environment, please rerun this cell to show the HTML representation or trust the notebook. <br />On GitHub, the HTML representation is unable to render, please try loading this page with nbviewer.org.</b></div><div class=\"sk-container\" hidden><div class=\"sk-item\"><div class=\"sk-estimator fitted sk-toggleable\"><input class=\"sk-toggleable__control sk-hidden--visually\" id=\"sk-estimator-id-1\" type=\"checkbox\" checked><label for=\"sk-estimator-id-1\" class=\"sk-toggleable__label fitted sk-toggleable__label-arrow fitted\">&nbsp;DataFrameMapper<span class=\"sk-estimator-doc-link fitted\">i<span>Fitted</span></span></label><div class=\"sk-toggleable__content fitted\"><pre>DataFrameMapper(drop_cols=[],\n",
       "                features=[([&#x27;step&#x27;], [StandardScaler()]),\n",
       "                          ([&#x27;amount&#x27;], [StandardScaler()]),\n",
       "                          ([&#x27;old_origin&#x27;], [StandardScaler()]),\n",
       "                          ([&#x27;new_origin&#x27;], [StandardScaler()]),\n",
       "                          ([&#x27;old_destination&#x27;], [StandardScaler()]),\n",
       "                          ([&#x27;new_destination&#x27;], [StandardScaler()]),\n",
       "                          ([&#x27;type&#x27;], [OneHotEncoder()])])</pre></div> </div></div></div></div>"
      ],
      "text/plain": [
       "DataFrameMapper(drop_cols=[],\n",
       "                features=[(['step'], [StandardScaler()]),\n",
       "                          (['amount'], [StandardScaler()]),\n",
       "                          (['old_origin'], [StandardScaler()]),\n",
       "                          (['new_origin'], [StandardScaler()]),\n",
       "                          (['old_destination'], [StandardScaler()]),\n",
       "                          (['new_destination'], [StandardScaler()]),\n",
       "                          (['type'], [OneHotEncoder()])])"
      ]
     },
     "execution_count": 23,
     "metadata": {},
     "output_type": "execute_result"
    }
   ],
   "source": [
    "# Definimos el mapper. Recibe una lista de (columna/s, transformers)\n",
    "mapper = DataFrameMapper([\n",
    "    (['step'], [StandardScaler()]),\n",
    "    (['amount'], [StandardScaler()]),\n",
    "    (['old_origin'], [StandardScaler()]),\n",
    "    (['new_origin'], [StandardScaler()]),\n",
    "    (['old_destination'], [StandardScaler()]),\n",
    "    (['new_destination'], [StandardScaler()]),\n",
    "    (['type'], [OneHotEncoder()])\n",
    "])\n",
    "\n",
    "# Lo entrenamos con train\n",
    "mapper.fit(train)"
   ]
  },
  {
   "cell_type": "code",
   "execution_count": 24,
   "id": "f35f35f5-06e6-4df8-8f6b-4f8ecdfe07a0",
   "metadata": {},
   "outputs": [
    {
     "data": {
      "text/html": [
       "<div>\n",
       "<style scoped>\n",
       "    .dataframe tbody tr th:only-of-type {\n",
       "        vertical-align: middle;\n",
       "    }\n",
       "\n",
       "    .dataframe tbody tr th {\n",
       "        vertical-align: top;\n",
       "    }\n",
       "\n",
       "    .dataframe thead th {\n",
       "        text-align: right;\n",
       "    }\n",
       "</style>\n",
       "<table border=\"1\" class=\"dataframe\">\n",
       "  <thead>\n",
       "    <tr style=\"text-align: right;\">\n",
       "      <th></th>\n",
       "      <th>step</th>\n",
       "      <th>type</th>\n",
       "      <th>amount</th>\n",
       "      <th>old_origin</th>\n",
       "      <th>new_origin</th>\n",
       "      <th>old_destination</th>\n",
       "      <th>new_destination</th>\n",
       "      <th>is_fraud</th>\n",
       "    </tr>\n",
       "  </thead>\n",
       "  <tbody>\n",
       "    <tr>\n",
       "      <th>4382899</th>\n",
       "      <td>311</td>\n",
       "      <td>PAYMENT</td>\n",
       "      <td>17989.37</td>\n",
       "      <td>34286.00</td>\n",
       "      <td>16296.63</td>\n",
       "      <td>0.00</td>\n",
       "      <td>0.00</td>\n",
       "      <td>0</td>\n",
       "    </tr>\n",
       "    <tr>\n",
       "      <th>211058</th>\n",
       "      <td>13</td>\n",
       "      <td>CASH_OUT</td>\n",
       "      <td>367456.30</td>\n",
       "      <td>0.00</td>\n",
       "      <td>0.00</td>\n",
       "      <td>1177091.92</td>\n",
       "      <td>1544548.22</td>\n",
       "      <td>0</td>\n",
       "    </tr>\n",
       "    <tr>\n",
       "      <th>3943414</th>\n",
       "      <td>286</td>\n",
       "      <td>TRANSFER</td>\n",
       "      <td>1579719.20</td>\n",
       "      <td>39013.31</td>\n",
       "      <td>0.00</td>\n",
       "      <td>1643489.95</td>\n",
       "      <td>3223209.14</td>\n",
       "      <td>0</td>\n",
       "    </tr>\n",
       "    <tr>\n",
       "      <th>2330344</th>\n",
       "      <td>188</td>\n",
       "      <td>CASH_IN</td>\n",
       "      <td>87067.29</td>\n",
       "      <td>2286482.16</td>\n",
       "      <td>2373549.45</td>\n",
       "      <td>929605.52</td>\n",
       "      <td>842538.23</td>\n",
       "      <td>0</td>\n",
       "    </tr>\n",
       "    <tr>\n",
       "      <th>4653792</th>\n",
       "      <td>330</td>\n",
       "      <td>CASH_OUT</td>\n",
       "      <td>181633.11</td>\n",
       "      <td>0.00</td>\n",
       "      <td>0.00</td>\n",
       "      <td>1881460.67</td>\n",
       "      <td>2063093.78</td>\n",
       "      <td>0</td>\n",
       "    </tr>\n",
       "  </tbody>\n",
       "</table>\n",
       "</div>"
      ],
      "text/plain": [
       "         step      type      amount  old_origin  new_origin  old_destination  \\\n",
       "4382899   311   PAYMENT    17989.37    34286.00    16296.63             0.00   \n",
       "211058     13  CASH_OUT   367456.30        0.00        0.00       1177091.92   \n",
       "3943414   286  TRANSFER  1579719.20    39013.31        0.00       1643489.95   \n",
       "2330344   188   CASH_IN    87067.29  2286482.16  2373549.45        929605.52   \n",
       "4653792   330  CASH_OUT   181633.11        0.00        0.00       1881460.67   \n",
       "\n",
       "         new_destination  is_fraud  \n",
       "4382899             0.00         0  \n",
       "211058        1544548.22         0  \n",
       "3943414       3223209.14         0  \n",
       "2330344        842538.23         0  \n",
       "4653792       2063093.78         0  "
      ]
     },
     "execution_count": 24,
     "metadata": {},
     "output_type": "execute_result"
    }
   ],
   "source": [
    "# vemos como transforma un sample:\n",
    "sample = train.sample(5, random_state=42)\n",
    "\n",
    "# Sample original:\n",
    "sample"
   ]
  },
  {
   "cell_type": "code",
   "execution_count": 25,
   "id": "ee9a921e-8b1e-47f6-9703-85f547b015da",
   "metadata": {},
   "outputs": [
    {
     "data": {
      "text/plain": [
       "array([[ 0.48368828, -0.28342662, -0.32027867, -0.3316185 , -0.37375974,\n",
       "        -0.37912695,  0.        ,  0.        ,  0.        ,  1.        ,\n",
       "         0.        ],\n",
       "       [-1.6082247 ,  0.24406434, -0.33084813, -0.33658278, -0.06385618,\n",
       "        -0.00289891,  0.        ,  1.        ,  0.        ,  0.        ,\n",
       "         0.        ],\n",
       "       [ 0.30819222,  2.07387331, -0.31882136, -0.33658278,  0.05893661,\n",
       "         0.40599691,  0.        ,  0.        ,  0.        ,  0.        ,\n",
       "         1.        ],\n",
       "       [-0.37975231, -0.17915931,  0.37401372,  0.38644797, -0.12901415,\n",
       "        -0.17389768,  1.        ,  0.        ,  0.        ,  0.        ,\n",
       "         0.        ],\n",
       "       [ 0.61706528, -0.03642015, -0.33084813, -0.33658278,  0.1215893 ,\n",
       "         0.12341077,  0.        ,  1.        ,  0.        ,  0.        ,\n",
       "         0.        ]])"
      ]
     },
     "execution_count": 25,
     "metadata": {},
     "output_type": "execute_result"
    }
   ],
   "source": [
    "mapper.transform(sample)"
   ]
  },
  {
   "cell_type": "code",
   "execution_count": 26,
   "id": "4101b17d-25db-47b1-b7b3-a4623d297c76",
   "metadata": {},
   "outputs": [
    {
     "data": {
      "text/plain": [
       "['step',\n",
       " 'amount',\n",
       " 'old_origin',\n",
       " 'new_origin',\n",
       " 'old_destination',\n",
       " 'new_destination',\n",
       " 'type_0',\n",
       " 'type_1',\n",
       " 'type_2',\n",
       " 'type_3',\n",
       " 'type_4']"
      ]
     },
     "execution_count": 26,
     "metadata": {},
     "output_type": "execute_result"
    }
   ],
   "source": [
    "#mostramos los nombres de las columnas que genera el maper\n",
    "mapper.transformed_names_"
   ]
  },
  {
   "cell_type": "code",
   "execution_count": 27,
   "id": "09a85eef-c8be-4c0f-9130-06b70b733fc0",
   "metadata": {},
   "outputs": [],
   "source": [
    "def evaluate_model(model, set_names=('train', 'validation'), title='', show_cm=False):\n",
    "    if title:\n",
    "        display(title)\n",
    "        \n",
    "    final_metrics = {\n",
    "        'Accuracy': [],\n",
    "        'Precision': [],\n",
    "        'Recall': [],\n",
    "        'F1': [],        \n",
    "    }\n",
    "        \n",
    "    for i, frauds in enumerate(set_names):\n",
    "        assert frauds in ['train', 'validation', 'test']\n",
    "        set_data = globals()[frauds]  # <- hack feo...\n",
    "\n",
    "        y = set_data.is_fraud\n",
    "        y_pred = model.predict(set_data)\n",
    "        final_metrics['Accuracy'].append(metrics.accuracy_score(y, y_pred))\n",
    "        final_metrics['Precision'].append(metrics.precision_score(y, y_pred))\n",
    "        final_metrics['Recall'].append(metrics.recall_score(y, y_pred))\n",
    "        final_metrics['F1'].append(metrics.f1_score(y, y_pred))\n",
    "        \n",
    "        if show_cm:\n",
    "            cm = metrics.confusion_matrix(y, y_pred)\n",
    "            cm_plot = metrics.ConfusionMatrixDisplay(confusion_matrix=cm, \n",
    "                                                     display_labels=['no_fraud', 'fraud'])\n",
    "            cm_plot.plot(cmap=\"Blues\")\n",
    "            cm_plot.ax_.set_title(frauds)\n",
    "        \n",
    "    display(pd.DataFrame(final_metrics, index=set_names))"
   ]
  },
  {
   "cell_type": "markdown",
   "id": "4521e903-3a92-47e7-a857-77ca9c4d3760",
   "metadata": {},
   "source": [
    "\n",
    "* Entrenar y evaluar al menos 3 algoritmos de machine learning distintos, realizando una exploración de hiper-parámetros mediante una búsqueda en grilla. Evaluar el comportamiento de cada modelo con los hiper-parámetros que mejores resultados ofrecen. En caso de ser posible, aporte conclusiones respecto a dicha comparación."
   ]
  },
  {
   "cell_type": "markdown",
   "id": "4827e3e1-729c-4a0f-be9f-ebbab21ec9d1",
   "metadata": {},
   "source": [
    "Modelo1: Regresión Logistica"
   ]
  },
  {
   "cell_type": "code",
   "execution_count": 70,
   "id": "8dda1c65-71c3-4d28-8107-7bff71df5d79",
   "metadata": {},
   "outputs": [
    {
     "name": "stdout",
     "output_type": "stream",
     "text": [
      "Fitting 5 folds for each of 3 candidates, totalling 15 fits\n",
      "Mejores parámetros encontrados:\n",
      "{'C': 10.0, 'penalty': 'l2'}\n",
      "Puntuación media en el conjunto de validación:\n",
      "0.5221643930948051\n"
     ]
    }
   ],
   "source": [
    "lr_clf = LogisticRegression(random_state=42)\n",
    "parameters = {\n",
    "    'penalty': ['l2'],\n",
    "    'C': [0.1, 1.0, 10.0]\n",
    "}\n",
    "grid_search = GridSearchCV(lr_clf, parameters,scoring = 'f1', refit=True, verbose=1)\n",
    "lr_model = Pipeline([\n",
    "    ('mapper', mapper),\n",
    "    ('classifier', grid_search),\n",
    "])\n",
    "\n",
    "lr_model.fit(train, train.is_fraud)\n",
    "\n",
    "print(\"Mejores parámetros encontrados:\")\n",
    "print(grid_search.best_params_)\n",
    "print(\"Puntuación media en el conjunto de validación:\")\n",
    "print(grid_search.best_score_)"
   ]
  },
  {
   "cell_type": "code",
   "execution_count": 71,
   "id": "4109d0b1-17fe-4587-91d9-3d1e7178ecfb",
   "metadata": {},
   "outputs": [
    {
     "data": {
      "text/plain": [
       "np.float64(0.5464725643896976)"
      ]
     },
     "execution_count": 71,
     "metadata": {},
     "output_type": "execute_result"
    }
   ],
   "source": [
    "y_pred = lr_model.predict(validation)\n",
    "metrics.f1_score(validation.is_fraud, y_pred)   "
   ]
  },
  {
   "cell_type": "code",
   "execution_count": 72,
   "id": "89c15ab5-764d-4b3a-9f0b-c5d9cbc023e4",
   "metadata": {},
   "outputs": [
    {
     "data": {
      "text/plain": [
       "'LR Simple Imputer'"
      ]
     },
     "metadata": {},
     "output_type": "display_data"
    },
    {
     "data": {
      "text/html": [
       "<div>\n",
       "<style scoped>\n",
       "    .dataframe tbody tr th:only-of-type {\n",
       "        vertical-align: middle;\n",
       "    }\n",
       "\n",
       "    .dataframe tbody tr th {\n",
       "        vertical-align: top;\n",
       "    }\n",
       "\n",
       "    .dataframe thead th {\n",
       "        text-align: right;\n",
       "    }\n",
       "</style>\n",
       "<table border=\"1\" class=\"dataframe\">\n",
       "  <thead>\n",
       "    <tr style=\"text-align: right;\">\n",
       "      <th></th>\n",
       "      <th>Accuracy</th>\n",
       "      <th>Precision</th>\n",
       "      <th>Recall</th>\n",
       "      <th>F1</th>\n",
       "    </tr>\n",
       "  </thead>\n",
       "  <tbody>\n",
       "    <tr>\n",
       "      <th>train</th>\n",
       "      <td>0.999618</td>\n",
       "      <td>0.955966</td>\n",
       "      <td>0.379797</td>\n",
       "      <td>0.543619</td>\n",
       "    </tr>\n",
       "    <tr>\n",
       "      <th>validation</th>\n",
       "      <td>0.999589</td>\n",
       "      <td>0.979920</td>\n",
       "      <td>0.378882</td>\n",
       "      <td>0.546473</td>\n",
       "    </tr>\n",
       "  </tbody>\n",
       "</table>\n",
       "</div>"
      ],
      "text/plain": [
       "            Accuracy  Precision    Recall        F1\n",
       "train       0.999618   0.955966  0.379797  0.543619\n",
       "validation  0.999589   0.979920  0.378882  0.546473"
      ]
     },
     "metadata": {},
     "output_type": "display_data"
    },
    {
     "data": {
      "image/png": "[encoded data removed]",
      "text/plain": [
       "<Figure size 432x288 with 2 Axes>"
      ]
     },
     "metadata": {
      "needs_background": "light"
     },
     "output_type": "display_data"
    },
    {
     "data": {
      "image/png": "[encoded data removed]",
      "text/plain": [
       "<Figure size 432x288 with 2 Axes>"
      ]
     },
     "metadata": {
      "needs_background": "light"
     },
     "output_type": "display_data"
    }
   ],
   "source": [
    "evaluate_model(lr_model, title='LR Simple Imputer', show_cm=True)"
   ]
  },
  {
   "cell_type": "markdown",
   "id": "dc8f9622-412d-4503-9d94-ecb34af69b07",
   "metadata": {},
   "source": [
    "modelo 2: KNN"
   ]
  },
  {
   "cell_type": "code",
   "execution_count": 74,
   "id": "879bba80-fd5f-40d9-bcf2-eb9aa80866c6",
   "metadata": {},
   "outputs": [
    {
     "name": "stdout",
     "output_type": "stream",
     "text": [
      "Fitting 5 folds for each of 8 candidates, totalling 40 fits\n",
      "Mejores parámetros encontrados:\n",
      "{'n_neighbors': 5, 'p': 2, 'weights': 'distance'}\n",
      "Puntuación media en el conjunto de validación:\n",
      "0.999649738728257\n"
     ]
    }
   ],
   "source": [
    "knn_clf = KNeighborsClassifier(n_neighbors=1)\n",
    "parameters = {'n_neighbors': [3, 5, 7, 11],              \n",
    "              'weights': ['distance'],\n",
    "              'p': [1, 2]}\n",
    "\n",
    "knn_grid_search = GridSearchCV(knn_clf, parameters, refit=True, verbose=1)\n",
    "knn_model_si = Pipeline([\n",
    "    ('mapper', mapper),\n",
    "    ('classifier', knn_grid_search),\n",
    "])\n",
    "\n",
    "knn_model_si.fit(train, train.is_fraud)\n",
    "\n",
    "print(\"Mejores parámetros encontrados:\")\n",
    "print(knn_grid_search.best_params_)\n",
    "print(\"Puntuación media en el conjunto de validación:\")\n",
    "print(knn_grid_search.best_score_)"
   ]
  },
  {
   "cell_type": "code",
   "execution_count": 75,
   "id": "30de84d7-826f-4e25-90e3-6049a2d94067",
   "metadata": {},
   "outputs": [
    {
     "data": {
      "text/plain": [
       "'Knn'"
      ]
     },
     "metadata": {},
     "output_type": "display_data"
    },
    {
     "data": {
      "text/html": [
       "<div>\n",
       "<style scoped>\n",
       "    .dataframe tbody tr th:only-of-type {\n",
       "        vertical-align: middle;\n",
       "    }\n",
       "\n",
       "    .dataframe tbody tr th {\n",
       "        vertical-align: top;\n",
       "    }\n",
       "\n",
       "    .dataframe thead th {\n",
       "        text-align: right;\n",
       "    }\n",
       "</style>\n",
       "<table border=\"1\" class=\"dataframe\">\n",
       "  <thead>\n",
       "    <tr style=\"text-align: right;\">\n",
       "      <th></th>\n",
       "      <th>Accuracy</th>\n",
       "      <th>Precision</th>\n",
       "      <th>Recall</th>\n",
       "      <th>F1</th>\n",
       "    </tr>\n",
       "  </thead>\n",
       "  <tbody>\n",
       "    <tr>\n",
       "      <th>train</th>\n",
       "      <td>1.000000</td>\n",
       "      <td>1.000000</td>\n",
       "      <td>1.000000</td>\n",
       "      <td>1.00000</td>\n",
       "    </tr>\n",
       "    <tr>\n",
       "      <th>validation</th>\n",
       "      <td>0.999627</td>\n",
       "      <td>0.960133</td>\n",
       "      <td>0.448758</td>\n",
       "      <td>0.61164</td>\n",
       "    </tr>\n",
       "  </tbody>\n",
       "</table>\n",
       "</div>"
      ],
      "text/plain": [
       "            Accuracy  Precision    Recall       F1\n",
       "train       1.000000   1.000000  1.000000  1.00000\n",
       "validation  0.999627   0.960133  0.448758  0.61164"
      ]
     },
     "metadata": {},
     "output_type": "display_data"
    },
    {
     "data": {
      "image/png": "[encoded data removed]",
      "text/plain": [
       "<Figure size 432x288 with 2 Axes>"
      ]
     },
     "metadata": {
      "needs_background": "light"
     },
     "output_type": "display_data"
    },
    {
     "data": {
      "image/png": "[encoded data removed]",
      "text/plain": [
       "<Figure size 432x288 with 2 Axes>"
      ]
     },
     "metadata": {
      "needs_background": "light"
     },
     "output_type": "display_data"
    }
   ],
   "source": [
    "evaluate_model(knn_model_si, title='Knn', show_cm=True)"
   ]
  },
  {
   "cell_type": "code",
   "execution_count": 77,
   "id": "f50d0d1d-74e6-46e0-981b-6ebb59ef6061",
   "metadata": {},
   "outputs": [
    {
     "name": "stdout",
     "output_type": "stream",
     "text": [
      "Fitting 5 folds for each of 12 candidates, totalling 60 fits\n",
      "Mejores parámetros encontrados:\n",
      "{'max_depth': 20, 'max_features': 11, 'n_estimators': 10}\n",
      "Puntuación media en el conjunto de validación:\n",
      "0.7437995112045948\n"
     ]
    }
   ],
   "source": [
    "rf_clf = RandomForestClassifier(random_state=42)\n",
    "parameters = {'n_estimators': [10, 20], \n",
    "              'max_depth':[10, 15, 20],\n",
    "              'max_features': [7, 11]}\n",
    "\n",
    "rf_grid_search = GridSearchCV(rf_clf, parameters,scoring = 'f1' , refit=True, verbose=1)\n",
    "rf_model = Pipeline([\n",
    "    ('mapper', mapper),\n",
    "    ('classifier', rf_grid_search),\n",
    "])\n",
    "\n",
    "rf_model.fit(train, train.is_fraud)\n",
    "\n",
    "print(\"Mejores parámetros encontrados:\")\n",
    "print(rf_grid_search.best_params_)\n",
    "print(\"Puntuación media en el conjunto de validación:\")\n",
    "print(rf_grid_search.best_score_)"
   ]
  },
  {
   "cell_type": "code",
   "execution_count": 78,
   "id": "224ff648-8485-4705-b952-2bcc1e71d7bc",
   "metadata": {},
   "outputs": [
    {
     "data": {
      "text/plain": [
       "'Random Forest'"
      ]
     },
     "metadata": {},
     "output_type": "display_data"
    },
    {
     "data": {
      "text/html": [
       "<div>\n",
       "<style scoped>\n",
       "    .dataframe tbody tr th:only-of-type {\n",
       "        vertical-align: middle;\n",
       "    }\n",
       "\n",
       "    .dataframe tbody tr th {\n",
       "        vertical-align: top;\n",
       "    }\n",
       "\n",
       "    .dataframe thead th {\n",
       "        text-align: right;\n",
       "    }\n",
       "</style>\n",
       "<table border=\"1\" class=\"dataframe\">\n",
       "  <thead>\n",
       "    <tr style=\"text-align: right;\">\n",
       "      <th></th>\n",
       "      <th>Accuracy</th>\n",
       "      <th>Precision</th>\n",
       "      <th>Recall</th>\n",
       "      <th>F1</th>\n",
       "    </tr>\n",
       "  </thead>\n",
       "  <tbody>\n",
       "    <tr>\n",
       "      <th>train</th>\n",
       "      <td>0.999890</td>\n",
       "      <td>0.992512</td>\n",
       "      <td>0.822799</td>\n",
       "      <td>0.899722</td>\n",
       "    </tr>\n",
       "    <tr>\n",
       "      <th>validation</th>\n",
       "      <td>0.999741</td>\n",
       "      <td>0.927473</td>\n",
       "      <td>0.655280</td>\n",
       "      <td>0.767971</td>\n",
       "    </tr>\n",
       "  </tbody>\n",
       "</table>\n",
       "</div>"
      ],
      "text/plain": [
       "            Accuracy  Precision    Recall        F1\n",
       "train       0.999890   0.992512  0.822799  0.899722\n",
       "validation  0.999741   0.927473  0.655280  0.767971"
      ]
     },
     "metadata": {},
     "output_type": "display_data"
    },
    {
     "data": {
      "image/png": "[encoded data removed]",
      "text/plain": [
       "<Figure size 432x288 with 2 Axes>"
      ]
     },
     "metadata": {
      "needs_background": "light"
     },
     "output_type": "display_data"
    },
    {
     "data": {
      "image/png": "[encoded data removed]",
      "text/plain": [
       "<Figure size 432x288 with 2 Axes>"
      ]
     },
     "metadata": {
      "needs_background": "light"
     },
     "output_type": "display_data"
    }
   ],
   "source": [
    "evaluate_model(rf_model, title='Random Forest', show_cm=True)"
   ]
  },
  {
   "cell_type": "markdown",
   "id": "bb38420d-24eb-443d-aef7-efe80095fd4d",
   "metadata": {},
   "source": [
    "***Entrenamiento con PCA\n",
    "aqui realizaremos entrenamiento con PCA y los modelos anteriores utilizando los mejores hiperparámetros encontrados "
   ]
  },
  {
   "cell_type": "code",
   "execution_count": 29,
   "id": "9e6691ea-bf2f-453c-b9fd-dfc78ccc8655",
   "metadata": {},
   "outputs": [
    {
     "name": "stdout",
     "output_type": "stream",
     "text": [
      "LR Training time w/ PCA: 5.320409297943115s\n"
     ]
    }
   ],
   "source": [
    "import time\n",
    "lr_best_params = {'C': 10.0, 'penalty': 'l2'}\n",
    "\n",
    "lr_model_pca = LogisticRegression(**lr_best_params, random_state=42)\n",
    "lr_pipeline_pca = Pipeline([\n",
    "    ('mapper', mapper),\n",
    "    ('pca', PCA(n_components=0.95)),\n",
    "    ('classifier', lr_model_pca),\n",
    "])\n",
    "\n",
    "start = time.time()\n",
    "lr_pipeline_pca.fit(train, train.is_fraud)\n",
    "stop = time.time()\n",
    "print(f\"LR Training time w/ PCA: {stop - start}s\")"
   ]
  },
  {
   "cell_type": "code",
   "execution_count": 30,
   "id": "eac70d52-dd08-473c-aa49-328d02669a84",
   "metadata": {},
   "outputs": [
    {
     "data": {
      "text/plain": [
       "'Logistic Regression with PCA'"
      ]
     },
     "metadata": {},
     "output_type": "display_data"
    },
    {
     "data": {
      "text/html": [
       "<div>\n",
       "<style scoped>\n",
       "    .dataframe tbody tr th:only-of-type {\n",
       "        vertical-align: middle;\n",
       "    }\n",
       "\n",
       "    .dataframe tbody tr th {\n",
       "        vertical-align: top;\n",
       "    }\n",
       "\n",
       "    .dataframe thead th {\n",
       "        text-align: right;\n",
       "    }\n",
       "</style>\n",
       "<table border=\"1\" class=\"dataframe\">\n",
       "  <thead>\n",
       "    <tr style=\"text-align: right;\">\n",
       "      <th></th>\n",
       "      <th>Accuracy</th>\n",
       "      <th>Precision</th>\n",
       "      <th>Recall</th>\n",
       "      <th>F1</th>\n",
       "    </tr>\n",
       "  </thead>\n",
       "  <tbody>\n",
       "    <tr>\n",
       "      <th>train</th>\n",
       "      <td>0.999449</td>\n",
       "      <td>0.846890</td>\n",
       "      <td>0.099887</td>\n",
       "      <td>0.178698</td>\n",
       "    </tr>\n",
       "    <tr>\n",
       "      <th>validation</th>\n",
       "      <td>0.999417</td>\n",
       "      <td>0.926829</td>\n",
       "      <td>0.118012</td>\n",
       "      <td>0.209366</td>\n",
       "    </tr>\n",
       "  </tbody>\n",
       "</table>\n",
       "</div>"
      ],
      "text/plain": [
       "            Accuracy  Precision    Recall        F1\n",
       "train       0.999449   0.846890  0.099887  0.178698\n",
       "validation  0.999417   0.926829  0.118012  0.209366"
      ]
     },
     "metadata": {},
     "output_type": "display_data"
    },
    {
     "data": {
      "image/png": "[encoded data removed]",
      "text/plain": [
       "<Figure size 432x288 with 2 Axes>"
      ]
     },
     "metadata": {
      "needs_background": "light"
     },
     "output_type": "display_data"
    },
    {
     "data": {
      "image/png": "[encoded data removed]",
      "text/plain": [
       "<Figure size 432x288 with 2 Axes>"
      ]
     },
     "metadata": {
      "needs_background": "light"
     },
     "output_type": "display_data"
    }
   ],
   "source": [
    "evaluate_model(lr_pipeline_pca, title='Logistic Regression with PCA', show_cm=True)"
   ]
  },
  {
   "cell_type": "markdown",
   "id": "0cfc6e74-0cdd-4d83-9e04-5913b571949c",
   "metadata": {},
   "source": [
    "RANDOM FOREST CON PCA"
   ]
  },
  {
   "cell_type": "code",
   "execution_count": 31,
   "id": "56edcaf4-d611-43fa-905c-8946e599ea2a",
   "metadata": {},
   "outputs": [
    {
     "name": "stdout",
     "output_type": "stream",
     "text": [
      "RF Training time w/ PCA: 362.84108686447144s\n"
     ]
    }
   ],
   "source": [
    "rf_best_params = {'max_depth': 20, 'max_features': 11, 'n_estimators': 10}\n",
    "\n",
    "rf_model_pca = RandomForestClassifier(**rf_best_params, random_state=42)\n",
    "rf_pipeline_pca = Pipeline([\n",
    "    ('mapper', mapper),\n",
    "    ('pca', PCA(n_components=0.95)),\n",
    "    ('classifier', rf_model_pca),\n",
    "])\n",
    "\n",
    "start = time.time()\n",
    "rf_pipeline_pca.fit(train, train.is_fraud)\n",
    "stop = time.time()\n",
    "print(f\"RF Training time w/ PCA: {stop - start}s\")"
   ]
  },
  {
   "cell_type": "code",
   "execution_count": 32,
   "id": "54c99689-6830-40db-89f6-4ab55f086c59",
   "metadata": {},
   "outputs": [
    {
     "data": {
      "text/plain": [
       "'Random Forest with PCA'"
      ]
     },
     "metadata": {},
     "output_type": "display_data"
    },
    {
     "data": {
      "text/html": [
       "<div>\n",
       "<style scoped>\n",
       "    .dataframe tbody tr th:only-of-type {\n",
       "        vertical-align: middle;\n",
       "    }\n",
       "\n",
       "    .dataframe tbody tr th {\n",
       "        vertical-align: top;\n",
       "    }\n",
       "\n",
       "    .dataframe thead th {\n",
       "        text-align: right;\n",
       "    }\n",
       "</style>\n",
       "<table border=\"1\" class=\"dataframe\">\n",
       "  <thead>\n",
       "    <tr style=\"text-align: right;\">\n",
       "      <th></th>\n",
       "      <th>Accuracy</th>\n",
       "      <th>Precision</th>\n",
       "      <th>Recall</th>\n",
       "      <th>F1</th>\n",
       "    </tr>\n",
       "  </thead>\n",
       "  <tbody>\n",
       "    <tr>\n",
       "      <th>train</th>\n",
       "      <td>0.999726</td>\n",
       "      <td>0.998963</td>\n",
       "      <td>0.543454</td>\n",
       "      <td>0.703947</td>\n",
       "    </tr>\n",
       "    <tr>\n",
       "      <th>validation</th>\n",
       "      <td>0.999622</td>\n",
       "      <td>0.953333</td>\n",
       "      <td>0.444099</td>\n",
       "      <td>0.605932</td>\n",
       "    </tr>\n",
       "  </tbody>\n",
       "</table>\n",
       "</div>"
      ],
      "text/plain": [
       "            Accuracy  Precision    Recall        F1\n",
       "train       0.999726   0.998963  0.543454  0.703947\n",
       "validation  0.999622   0.953333  0.444099  0.605932"
      ]
     },
     "metadata": {},
     "output_type": "display_data"
    },
    {
     "data": {
      "image/png": "[encoded data removed]",
      "text/plain": [
       "<Figure size 432x288 with 2 Axes>"
      ]
     },
     "metadata": {
      "needs_background": "light"
     },
     "output_type": "display_data"
    },
    {
     "data": {
      "image/png": "[encoded data removed]",
      "text/plain": [
       "<Figure size 432x288 with 2 Axes>"
      ]
     },
     "metadata": {
      "needs_background": "light"
     },
     "output_type": "display_data"
    }
   ],
   "source": [
    "evaluate_model(rf_pipeline_pca, title='Random Forest with PCA', show_cm=True)"
   ]
  },
  {
   "cell_type": "markdown",
   "id": "e43fc7d8-63ab-414c-8e67-2c9a35acf957",
   "metadata": {},
   "source": [
    "prueba con más profundidad"
   ]
  },
  {
   "cell_type": "code",
   "execution_count": 35,
   "id": "71b67545-16d4-49c5-aff2-e83dadf2d521",
   "metadata": {},
   "outputs": [
    {
     "data": {
      "text/plain": [
       "'Random Forest'"
      ]
     },
     "metadata": {},
     "output_type": "display_data"
    },
    {
     "data": {
      "text/html": [
       "<div>\n",
       "<style scoped>\n",
       "    .dataframe tbody tr th:only-of-type {\n",
       "        vertical-align: middle;\n",
       "    }\n",
       "\n",
       "    .dataframe tbody tr th {\n",
       "        vertical-align: top;\n",
       "    }\n",
       "\n",
       "    .dataframe thead th {\n",
       "        text-align: right;\n",
       "    }\n",
       "</style>\n",
       "<table border=\"1\" class=\"dataframe\">\n",
       "  <thead>\n",
       "    <tr style=\"text-align: right;\">\n",
       "      <th></th>\n",
       "      <th>Accuracy</th>\n",
       "      <th>Precision</th>\n",
       "      <th>Recall</th>\n",
       "      <th>F1</th>\n",
       "    </tr>\n",
       "  </thead>\n",
       "  <tbody>\n",
       "    <tr>\n",
       "      <th>train</th>\n",
       "      <td>0.999963</td>\n",
       "      <td>0.997606</td>\n",
       "      <td>0.940745</td>\n",
       "      <td>0.968342</td>\n",
       "    </tr>\n",
       "    <tr>\n",
       "      <th>validation</th>\n",
       "      <td>0.999747</td>\n",
       "      <td>0.907216</td>\n",
       "      <td>0.683230</td>\n",
       "      <td>0.779451</td>\n",
       "    </tr>\n",
       "  </tbody>\n",
       "</table>\n",
       "</div>"
      ],
      "text/plain": [
       "            Accuracy  Precision    Recall        F1\n",
       "train       0.999963   0.997606  0.940745  0.968342\n",
       "validation  0.999747   0.907216  0.683230  0.779451"
      ]
     },
     "metadata": {},
     "output_type": "display_data"
    }
   ],
   "source": [
    "rf_best_params = {'max_depth': 25, 'max_features': 11, 'n_estimators': 10}\n",
    "rf_model = Pipeline([\n",
    "    ('mapper', mapper),\n",
    "    ('classifier', RandomForestClassifier(**rf_best_params, random_state=42)),\n",
    "])\n",
    "rf_model.fit(train, train.is_fraud)\n",
    "\n",
    "evaluate_model(rf_model, title='Random Forest')"
   ]
  },
  {
   "cell_type": "markdown",
   "id": "4abfba29-cf43-4792-9b33-efe8d8e771c0",
   "metadata": {},
   "source": []
  },
  {
   "cell_type": "code",
   "execution_count": 34,
   "id": "b8c75b47-5673-4ca0-a04a-bd89751040c5",
   "metadata": {},
   "outputs": [
    {
     "data": {
      "image/png": "[encoded data removed]",
      "text/plain": [
       "<Figure size 432x288 with 1 Axes>"
      ]
     },
     "metadata": {
      "needs_background": "light"
     },
     "output_type": "display_data"
    }
   ],
   "source": [
    "train_f1 =  []\n",
    "eval_f1 = []\n",
    "max_deep_list = list(range(25, 50,5))\n",
    "\n",
    "for deep in max_deep_list:\n",
    "    \n",
    "    model_rf_maxdepth_curva = Pipeline([\n",
    "    ('mapper', mapper),\n",
    "    ('classifier', RandomForestClassifier(n_estimators=10, max_depth=deep, random_state=42)),\n",
    "    ])\n",
    "    \n",
    "    arbol_rf=model_rf_maxdepth_curva    \n",
    "    arbol_rf=arbol_rf.fit(train, train.is_fraud)\n",
    "    y_train_pred = model_rf_maxdepth_curva.predict(train.drop(columns=['is_fraud']))\n",
    "    y_val_pred = model_rf_maxdepth_curva.predict(validation.drop(columns=['is_fraud']))\n",
    "    train_f1.append(metrics.f1_score( train.is_fraud, y_train_pred))\n",
    "    eval_f1.append(metrics.f1_score(validation.is_fraud, y_val_pred))\n",
    "\n",
    "# graficar los resultados.\n",
    "plt.plot(max_deep_list, train_f1, color='r', label='Train')\n",
    "plt.plot(max_deep_list, eval_f1, color='b', label='Validation')\n",
    "plt.title('Grafico Random Forest')\n",
    "plt.legend()\n",
    "plt.ylabel('f1-score')\n",
    "plt.xlabel('nivel de profundidad')\n",
    "plt.show()"
   ]
  },
  {
   "cell_type": "code",
   "execution_count": 51,
   "id": "fab103d7-0754-4302-9fc3-ac6f000bafd6",
   "metadata": {},
   "outputs": [
    {
     "name": "stdout",
     "output_type": "stream",
     "text": [
      "Train size: (2954937, 7)\n",
      "Validation size: (984979, 7)\n",
      "Test size: (984980, 7)\n"
     ]
    }
   ],
   "source": [
    "# Suponemos que frauds es tu DataFrame y 'is_fraud' la variable objetivo\n",
    "num_records = len(frauds)\n",
    "train_end = int(num_records * 0.6)\n",
    "validation_end = int(num_records * 0.8)\n",
    "\n",
    "# Crear índices para cada conjunto\n",
    "train_indices = range(0, train_end)\n",
    "validation_indices = range(train_end, validation_end)\n",
    "test_indices = range(validation_end, num_records)\n",
    "\n",
    "# Crear los conjuntos de datos\n",
    "X_train, y_train = frauds.iloc[train_indices].drop(columns='is_fraud'), frauds.iloc[train_indices]['is_fraud']\n",
    "X_validation, y_validation = frauds.iloc[validation_indices].drop(columns='is_fraud'), frauds.iloc[validation_indices]['is_fraud']\n",
    "X_test, y_test = frauds.iloc[test_indices].drop(columns='is_fraud'), frauds.iloc[test_indices]['is_fraud']\n",
    "\n",
    "#volviendo a unir\n",
    "y_train.name = 'is_fraud'\n",
    "train = pd.concat([X_train, y_train], axis=1)\n",
    "y_validation.name = 'is_fraud'\n",
    "validation = pd.concat([X_validation, y_validation], axis=1)\n",
    "y_test.name = 'is_fraud'\n",
    "test = pd.concat([X_test, y_test], axis=1)\n",
    "\n",
    "# Puedes verificar los tamaños\n",
    "print(\"Train size:\", X_train.shape)\n",
    "print(\"Validation size:\", X_validation.shape)\n",
    "print(\"Test size:\", X_test.shape)"
   ]
  },
  {
   "cell_type": "code",
   "execution_count": 45,
   "id": "290ff84e-9d7a-4f54-abf5-3db196461cae",
   "metadata": {},
   "outputs": [
    {
     "name": "stdout",
     "output_type": "stream",
     "text": [
      "1148\n",
      "279\n",
      "1578\n"
     ]
    }
   ],
   "source": [
    "cant_fraud_train = (y_train == 1).sum()\n",
    "print(cant_fraud_train)\n",
    "cant_fraud_validation = (y_validation == 1).sum()\n",
    "print(cant_fraud_validation)\n",
    "cant_fraud_test = (y_test == 1).sum()\n",
    "print(cant_fraud_test)"
   ]
  },
  {
   "cell_type": "code",
   "execution_count": 52,
   "id": "6cb45ba1-90a3-4983-a12f-ade4d301ca1c",
   "metadata": {},
   "outputs": [
    {
     "data": {
      "text/html": [
       "<style>#sk-container-id-4 {\n",
       "  /* Definition of color scheme common for light and dark mode */\n",
       "  --sklearn-color-text: black;\n",
       "  --sklearn-color-line: gray;\n",
       "  /* Definition of color scheme for unfitted estimators */\n",
       "  --sklearn-color-unfitted-level-0: #fff5e6;\n",
       "  --sklearn-color-unfitted-level-1: #f6e4d2;\n",
       "  --sklearn-color-unfitted-level-2: #ffe0b3;\n",
       "  --sklearn-color-unfitted-level-3: chocolate;\n",
       "  /* Definition of color scheme for fitted estimators */\n",
       "  --sklearn-color-fitted-level-0: #f0f8ff;\n",
       "  --sklearn-color-fitted-level-1: #d4ebff;\n",
       "  --sklearn-color-fitted-level-2: #b3dbfd;\n",
       "  --sklearn-color-fitted-level-3: cornflowerblue;\n",
       "\n",
       "  /* Specific color for light theme */\n",
       "  --sklearn-color-text-on-default-background: var(--sg-text-color, var(--theme-code-foreground, var(--jp-content-font-color1, black)));\n",
       "  --sklearn-color-background: var(--sg-background-color, var(--theme-background, var(--jp-layout-color0, white)));\n",
       "  --sklearn-color-border-box: var(--sg-text-color, var(--theme-code-foreground, var(--jp-content-font-color1, black)));\n",
       "  --sklearn-color-icon: #696969;\n",
       "\n",
       "  @media (prefers-color-scheme: dark) {\n",
       "    /* Redefinition of color scheme for dark theme */\n",
       "    --sklearn-color-text-on-default-background: var(--sg-text-color, var(--theme-code-foreground, var(--jp-content-font-color1, white)));\n",
       "    --sklearn-color-background: var(--sg-background-color, var(--theme-background, var(--jp-layout-color0, #111)));\n",
       "    --sklearn-color-border-box: var(--sg-text-color, var(--theme-code-foreground, var(--jp-content-font-color1, white)));\n",
       "    --sklearn-color-icon: #878787;\n",
       "  }\n",
       "}\n",
       "\n",
       "#sk-container-id-4 {\n",
       "  color: var(--sklearn-color-text);\n",
       "}\n",
       "\n",
       "#sk-container-id-4 pre {\n",
       "  padding: 0;\n",
       "}\n",
       "\n",
       "#sk-container-id-4 input.sk-hidden--visually {\n",
       "  border: 0;\n",
       "  clip: rect(1px 1px 1px 1px);\n",
       "  clip: rect(1px, 1px, 1px, 1px);\n",
       "  height: 1px;\n",
       "  margin: -1px;\n",
       "  overflow: hidden;\n",
       "  padding: 0;\n",
       "  position: absolute;\n",
       "  width: 1px;\n",
       "}\n",
       "\n",
       "#sk-container-id-4 div.sk-dashed-wrapped {\n",
       "  border: 1px dashed var(--sklearn-color-line);\n",
       "  margin: 0 0.4em 0.5em 0.4em;\n",
       "  box-sizing: border-box;\n",
       "  padding-bottom: 0.4em;\n",
       "  background-color: var(--sklearn-color-background);\n",
       "}\n",
       "\n",
       "#sk-container-id-4 div.sk-container {\n",
       "  /* jupyter's `normalize.less` sets `[hidden] { display: none; }`\n",
       "     but bootstrap.min.css set `[hidden] { display: none !important; }`\n",
       "     so we also need the `!important` here to be able to override the\n",
       "     default hidden behavior on the sphinx rendered scikit-learn.org.\n",
       "     See: https://github.com/scikit-learn/scikit-learn/issues/21755 */\n",
       "  display: inline-block !important;\n",
       "  position: relative;\n",
       "}\n",
       "\n",
       "#sk-container-id-4 div.sk-text-repr-fallback {\n",
       "  display: none;\n",
       "}\n",
       "\n",
       "div.sk-parallel-item,\n",
       "div.sk-serial,\n",
       "div.sk-item {\n",
       "  /* draw centered vertical line to link estimators */\n",
       "  background-image: linear-gradient(var(--sklearn-color-text-on-default-background), var(--sklearn-color-text-on-default-background));\n",
       "  background-size: 2px 100%;\n",
       "  background-repeat: no-repeat;\n",
       "  background-position: center center;\n",
       "}\n",
       "\n",
       "/* Parallel-specific style estimator block */\n",
       "\n",
       "#sk-container-id-4 div.sk-parallel-item::after {\n",
       "  content: \"\";\n",
       "  width: 100%;\n",
       "  border-bottom: 2px solid var(--sklearn-color-text-on-default-background);\n",
       "  flex-grow: 1;\n",
       "}\n",
       "\n",
       "#sk-container-id-4 div.sk-parallel {\n",
       "  display: flex;\n",
       "  align-items: stretch;\n",
       "  justify-content: center;\n",
       "  background-color: var(--sklearn-color-background);\n",
       "  position: relative;\n",
       "}\n",
       "\n",
       "#sk-container-id-4 div.sk-parallel-item {\n",
       "  display: flex;\n",
       "  flex-direction: column;\n",
       "}\n",
       "\n",
       "#sk-container-id-4 div.sk-parallel-item:first-child::after {\n",
       "  align-self: flex-end;\n",
       "  width: 50%;\n",
       "}\n",
       "\n",
       "#sk-container-id-4 div.sk-parallel-item:last-child::after {\n",
       "  align-self: flex-start;\n",
       "  width: 50%;\n",
       "}\n",
       "\n",
       "#sk-container-id-4 div.sk-parallel-item:only-child::after {\n",
       "  width: 0;\n",
       "}\n",
       "\n",
       "/* Serial-specific style estimator block */\n",
       "\n",
       "#sk-container-id-4 div.sk-serial {\n",
       "  display: flex;\n",
       "  flex-direction: column;\n",
       "  align-items: center;\n",
       "  background-color: var(--sklearn-color-background);\n",
       "  padding-right: 1em;\n",
       "  padding-left: 1em;\n",
       "}\n",
       "\n",
       "\n",
       "/* Toggleable style: style used for estimator/Pipeline/ColumnTransformer box that is\n",
       "clickable and can be expanded/collapsed.\n",
       "- Pipeline and ColumnTransformer use this feature and define the default style\n",
       "- Estimators will overwrite some part of the style using the `sk-estimator` class\n",
       "*/\n",
       "\n",
       "/* Pipeline and ColumnTransformer style (default) */\n",
       "\n",
       "#sk-container-id-4 div.sk-toggleable {\n",
       "  /* Default theme specific background. It is overwritten whether we have a\n",
       "  specific estimator or a Pipeline/ColumnTransformer */\n",
       "  background-color: var(--sklearn-color-background);\n",
       "}\n",
       "\n",
       "/* Toggleable label */\n",
       "#sk-container-id-4 label.sk-toggleable__label {\n",
       "  cursor: pointer;\n",
       "  display: block;\n",
       "  width: 100%;\n",
       "  margin-bottom: 0;\n",
       "  padding: 0.5em;\n",
       "  box-sizing: border-box;\n",
       "  text-align: center;\n",
       "}\n",
       "\n",
       "#sk-container-id-4 label.sk-toggleable__label-arrow:before {\n",
       "  /* Arrow on the left of the label */\n",
       "  content: \"▸\";\n",
       "  float: left;\n",
       "  margin-right: 0.25em;\n",
       "  color: var(--sklearn-color-icon);\n",
       "}\n",
       "\n",
       "#sk-container-id-4 label.sk-toggleable__label-arrow:hover:before {\n",
       "  color: var(--sklearn-color-text);\n",
       "}\n",
       "\n",
       "/* Toggleable content - dropdown */\n",
       "\n",
       "#sk-container-id-4 div.sk-toggleable__content {\n",
       "  max-height: 0;\n",
       "  max-width: 0;\n",
       "  overflow: hidden;\n",
       "  text-align: left;\n",
       "  /* unfitted */\n",
       "  background-color: var(--sklearn-color-unfitted-level-0);\n",
       "}\n",
       "\n",
       "#sk-container-id-4 div.sk-toggleable__content.fitted {\n",
       "  /* fitted */\n",
       "  background-color: var(--sklearn-color-fitted-level-0);\n",
       "}\n",
       "\n",
       "#sk-container-id-4 div.sk-toggleable__content pre {\n",
       "  margin: 0.2em;\n",
       "  border-radius: 0.25em;\n",
       "  color: var(--sklearn-color-text);\n",
       "  /* unfitted */\n",
       "  background-color: var(--sklearn-color-unfitted-level-0);\n",
       "}\n",
       "\n",
       "#sk-container-id-4 div.sk-toggleable__content.fitted pre {\n",
       "  /* unfitted */\n",
       "  background-color: var(--sklearn-color-fitted-level-0);\n",
       "}\n",
       "\n",
       "#sk-container-id-4 input.sk-toggleable__control:checked~div.sk-toggleable__content {\n",
       "  /* Expand drop-down */\n",
       "  max-height: 200px;\n",
       "  max-width: 100%;\n",
       "  overflow: auto;\n",
       "}\n",
       "\n",
       "#sk-container-id-4 input.sk-toggleable__control:checked~label.sk-toggleable__label-arrow:before {\n",
       "  content: \"▾\";\n",
       "}\n",
       "\n",
       "/* Pipeline/ColumnTransformer-specific style */\n",
       "\n",
       "#sk-container-id-4 div.sk-label input.sk-toggleable__control:checked~label.sk-toggleable__label {\n",
       "  color: var(--sklearn-color-text);\n",
       "  background-color: var(--sklearn-color-unfitted-level-2);\n",
       "}\n",
       "\n",
       "#sk-container-id-4 div.sk-label.fitted input.sk-toggleable__control:checked~label.sk-toggleable__label {\n",
       "  background-color: var(--sklearn-color-fitted-level-2);\n",
       "}\n",
       "\n",
       "/* Estimator-specific style */\n",
       "\n",
       "/* Colorize estimator box */\n",
       "#sk-container-id-4 div.sk-estimator input.sk-toggleable__control:checked~label.sk-toggleable__label {\n",
       "  /* unfitted */\n",
       "  background-color: var(--sklearn-color-unfitted-level-2);\n",
       "}\n",
       "\n",
       "#sk-container-id-4 div.sk-estimator.fitted input.sk-toggleable__control:checked~label.sk-toggleable__label {\n",
       "  /* fitted */\n",
       "  background-color: var(--sklearn-color-fitted-level-2);\n",
       "}\n",
       "\n",
       "#sk-container-id-4 div.sk-label label.sk-toggleable__label,\n",
       "#sk-container-id-4 div.sk-label label {\n",
       "  /* The background is the default theme color */\n",
       "  color: var(--sklearn-color-text-on-default-background);\n",
       "}\n",
       "\n",
       "/* On hover, darken the color of the background */\n",
       "#sk-container-id-4 div.sk-label:hover label.sk-toggleable__label {\n",
       "  color: var(--sklearn-color-text);\n",
       "  background-color: var(--sklearn-color-unfitted-level-2);\n",
       "}\n",
       "\n",
       "/* Label box, darken color on hover, fitted */\n",
       "#sk-container-id-4 div.sk-label.fitted:hover label.sk-toggleable__label.fitted {\n",
       "  color: var(--sklearn-color-text);\n",
       "  background-color: var(--sklearn-color-fitted-level-2);\n",
       "}\n",
       "\n",
       "/* Estimator label */\n",
       "\n",
       "#sk-container-id-4 div.sk-label label {\n",
       "  font-family: monospace;\n",
       "  font-weight: bold;\n",
       "  display: inline-block;\n",
       "  line-height: 1.2em;\n",
       "}\n",
       "\n",
       "#sk-container-id-4 div.sk-label-container {\n",
       "  text-align: center;\n",
       "}\n",
       "\n",
       "/* Estimator-specific */\n",
       "#sk-container-id-4 div.sk-estimator {\n",
       "  font-family: monospace;\n",
       "  border: 1px dotted var(--sklearn-color-border-box);\n",
       "  border-radius: 0.25em;\n",
       "  box-sizing: border-box;\n",
       "  margin-bottom: 0.5em;\n",
       "  /* unfitted */\n",
       "  background-color: var(--sklearn-color-unfitted-level-0);\n",
       "}\n",
       "\n",
       "#sk-container-id-4 div.sk-estimator.fitted {\n",
       "  /* fitted */\n",
       "  background-color: var(--sklearn-color-fitted-level-0);\n",
       "}\n",
       "\n",
       "/* on hover */\n",
       "#sk-container-id-4 div.sk-estimator:hover {\n",
       "  /* unfitted */\n",
       "  background-color: var(--sklearn-color-unfitted-level-2);\n",
       "}\n",
       "\n",
       "#sk-container-id-4 div.sk-estimator.fitted:hover {\n",
       "  /* fitted */\n",
       "  background-color: var(--sklearn-color-fitted-level-2);\n",
       "}\n",
       "\n",
       "/* Specification for estimator info (e.g. \"i\" and \"?\") */\n",
       "\n",
       "/* Common style for \"i\" and \"?\" */\n",
       "\n",
       ".sk-estimator-doc-link,\n",
       "a:link.sk-estimator-doc-link,\n",
       "a:visited.sk-estimator-doc-link {\n",
       "  float: right;\n",
       "  font-size: smaller;\n",
       "  line-height: 1em;\n",
       "  font-family: monospace;\n",
       "  background-color: var(--sklearn-color-background);\n",
       "  border-radius: 1em;\n",
       "  height: 1em;\n",
       "  width: 1em;\n",
       "  text-decoration: none !important;\n",
       "  margin-left: 1ex;\n",
       "  /* unfitted */\n",
       "  border: var(--sklearn-color-unfitted-level-1) 1pt solid;\n",
       "  color: var(--sklearn-color-unfitted-level-1);\n",
       "}\n",
       "\n",
       ".sk-estimator-doc-link.fitted,\n",
       "a:link.sk-estimator-doc-link.fitted,\n",
       "a:visited.sk-estimator-doc-link.fitted {\n",
       "  /* fitted */\n",
       "  border: var(--sklearn-color-fitted-level-1) 1pt solid;\n",
       "  color: var(--sklearn-color-fitted-level-1);\n",
       "}\n",
       "\n",
       "/* On hover */\n",
       "div.sk-estimator:hover .sk-estimator-doc-link:hover,\n",
       ".sk-estimator-doc-link:hover,\n",
       "div.sk-label-container:hover .sk-estimator-doc-link:hover,\n",
       ".sk-estimator-doc-link:hover {\n",
       "  /* unfitted */\n",
       "  background-color: var(--sklearn-color-unfitted-level-3);\n",
       "  color: var(--sklearn-color-background);\n",
       "  text-decoration: none;\n",
       "}\n",
       "\n",
       "div.sk-estimator.fitted:hover .sk-estimator-doc-link.fitted:hover,\n",
       ".sk-estimator-doc-link.fitted:hover,\n",
       "div.sk-label-container:hover .sk-estimator-doc-link.fitted:hover,\n",
       ".sk-estimator-doc-link.fitted:hover {\n",
       "  /* fitted */\n",
       "  background-color: var(--sklearn-color-fitted-level-3);\n",
       "  color: var(--sklearn-color-background);\n",
       "  text-decoration: none;\n",
       "}\n",
       "\n",
       "/* Span, style for the box shown on hovering the info icon */\n",
       ".sk-estimator-doc-link span {\n",
       "  display: none;\n",
       "  z-index: 9999;\n",
       "  position: relative;\n",
       "  font-weight: normal;\n",
       "  right: .2ex;\n",
       "  padding: .5ex;\n",
       "  margin: .5ex;\n",
       "  width: min-content;\n",
       "  min-width: 20ex;\n",
       "  max-width: 50ex;\n",
       "  color: var(--sklearn-color-text);\n",
       "  box-shadow: 2pt 2pt 4pt #999;\n",
       "  /* unfitted */\n",
       "  background: var(--sklearn-color-unfitted-level-0);\n",
       "  border: .5pt solid var(--sklearn-color-unfitted-level-3);\n",
       "}\n",
       "\n",
       ".sk-estimator-doc-link.fitted span {\n",
       "  /* fitted */\n",
       "  background: var(--sklearn-color-fitted-level-0);\n",
       "  border: var(--sklearn-color-fitted-level-3);\n",
       "}\n",
       "\n",
       ".sk-estimator-doc-link:hover span {\n",
       "  display: block;\n",
       "}\n",
       "\n",
       "/* \"?\"-specific style due to the `<a>` HTML tag */\n",
       "\n",
       "#sk-container-id-4 a.estimator_doc_link {\n",
       "  float: right;\n",
       "  font-size: 1rem;\n",
       "  line-height: 1em;\n",
       "  font-family: monospace;\n",
       "  background-color: var(--sklearn-color-background);\n",
       "  border-radius: 1rem;\n",
       "  height: 1rem;\n",
       "  width: 1rem;\n",
       "  text-decoration: none;\n",
       "  /* unfitted */\n",
       "  color: var(--sklearn-color-unfitted-level-1);\n",
       "  border: var(--sklearn-color-unfitted-level-1) 1pt solid;\n",
       "}\n",
       "\n",
       "#sk-container-id-4 a.estimator_doc_link.fitted {\n",
       "  /* fitted */\n",
       "  border: var(--sklearn-color-fitted-level-1) 1pt solid;\n",
       "  color: var(--sklearn-color-fitted-level-1);\n",
       "}\n",
       "\n",
       "/* On hover */\n",
       "#sk-container-id-4 a.estimator_doc_link:hover {\n",
       "  /* unfitted */\n",
       "  background-color: var(--sklearn-color-unfitted-level-3);\n",
       "  color: var(--sklearn-color-background);\n",
       "  text-decoration: none;\n",
       "}\n",
       "\n",
       "#sk-container-id-4 a.estimator_doc_link.fitted:hover {\n",
       "  /* fitted */\n",
       "  background-color: var(--sklearn-color-fitted-level-3);\n",
       "}\n",
       "</style><div id=\"sk-container-id-4\" class=\"sk-top-container\"><div class=\"sk-text-repr-fallback\"><pre>DataFrameMapper(drop_cols=[],\n",
       "                features=[([&#x27;step&#x27;], [StandardScaler()]),\n",
       "                          ([&#x27;amount&#x27;], [StandardScaler()]),\n",
       "                          ([&#x27;old_origin&#x27;], [StandardScaler()]),\n",
       "                          ([&#x27;new_origin&#x27;], [StandardScaler()]),\n",
       "                          ([&#x27;old_destination&#x27;], [StandardScaler()]),\n",
       "                          ([&#x27;new_destination&#x27;], [StandardScaler()]),\n",
       "                          ([&#x27;type&#x27;], [OneHotEncoder()])])</pre><b>In a Jupyter environment, please rerun this cell to show the HTML representation or trust the notebook. <br />On GitHub, the HTML representation is unable to render, please try loading this page with nbviewer.org.</b></div><div class=\"sk-container\" hidden><div class=\"sk-item\"><div class=\"sk-estimator fitted sk-toggleable\"><input class=\"sk-toggleable__control sk-hidden--visually\" id=\"sk-estimator-id-4\" type=\"checkbox\" checked><label for=\"sk-estimator-id-4\" class=\"sk-toggleable__label fitted sk-toggleable__label-arrow fitted\">&nbsp;DataFrameMapper<span class=\"sk-estimator-doc-link fitted\">i<span>Fitted</span></span></label><div class=\"sk-toggleable__content fitted\"><pre>DataFrameMapper(drop_cols=[],\n",
       "                features=[([&#x27;step&#x27;], [StandardScaler()]),\n",
       "                          ([&#x27;amount&#x27;], [StandardScaler()]),\n",
       "                          ([&#x27;old_origin&#x27;], [StandardScaler()]),\n",
       "                          ([&#x27;new_origin&#x27;], [StandardScaler()]),\n",
       "                          ([&#x27;old_destination&#x27;], [StandardScaler()]),\n",
       "                          ([&#x27;new_destination&#x27;], [StandardScaler()]),\n",
       "                          ([&#x27;type&#x27;], [OneHotEncoder()])])</pre></div> </div></div></div></div>"
      ],
      "text/plain": [
       "DataFrameMapper(drop_cols=[],\n",
       "                features=[(['step'], [StandardScaler()]),\n",
       "                          (['amount'], [StandardScaler()]),\n",
       "                          (['old_origin'], [StandardScaler()]),\n",
       "                          (['new_origin'], [StandardScaler()]),\n",
       "                          (['old_destination'], [StandardScaler()]),\n",
       "                          (['new_destination'], [StandardScaler()]),\n",
       "                          (['type'], [OneHotEncoder()])])"
      ]
     },
     "execution_count": 52,
     "metadata": {},
     "output_type": "execute_result"
    }
   ],
   "source": [
    "mapper_sorted = DataFrameMapper([\n",
    "    (['step'], [StandardScaler()]),\n",
    "    (['amount'], [StandardScaler()]),\n",
    "    (['old_origin'], [StandardScaler()]),\n",
    "    (['new_origin'], [StandardScaler()]),\n",
    "    (['old_destination'], [StandardScaler()]),\n",
    "    (['new_destination'], [StandardScaler()]),\n",
    "    (['type'], [OneHotEncoder()])\n",
    "])\n",
    "\n",
    "# Lo entrenamos con train\n",
    "mapper_sorted.fit(train)"
   ]
  },
  {
   "cell_type": "code",
   "execution_count": 53,
   "id": "67f7cebc-5279-4d8d-bed5-f49ba9222b38",
   "metadata": {},
   "outputs": [
    {
     "name": "stdout",
     "output_type": "stream",
     "text": [
      "RF Training time w/ PCA: 327.31168365478516s\n"
     ]
    }
   ],
   "source": [
    "rf_best_params = {'max_depth': 20, 'max_features': 11, 'n_estimators': 10}\n",
    "\n",
    "rf_model_pca_sorted = RandomForestClassifier(**rf_best_params, random_state=42)\n",
    "rf_pipeline_pca = Pipeline([\n",
    "    ('mapper', mapper_sorted),\n",
    "    ('pca', PCA(n_components=0.95)),\n",
    "    ('classifier', rf_model_pca_sorted),\n",
    "])\n",
    "\n",
    "start = time.time()\n",
    "rf_pipeline_pca.fit(X_train, y_train)\n",
    "stop = time.time()\n",
    "print(f\"RF Training time w/ PCA: {stop - start}s\")"
   ]
  },
  {
   "cell_type": "code",
   "execution_count": 54,
   "id": "296df0ff-91f3-4690-8108-fe029705f430",
   "metadata": {},
   "outputs": [
    {
     "data": {
      "text/plain": [
       "'Random Forest con data set ordenado'"
      ]
     },
     "metadata": {},
     "output_type": "display_data"
    },
    {
     "data": {
      "text/html": [
       "<div>\n",
       "<style scoped>\n",
       "    .dataframe tbody tr th:only-of-type {\n",
       "        vertical-align: middle;\n",
       "    }\n",
       "\n",
       "    .dataframe tbody tr th {\n",
       "        vertical-align: top;\n",
       "    }\n",
       "\n",
       "    .dataframe thead th {\n",
       "        text-align: right;\n",
       "    }\n",
       "</style>\n",
       "<table border=\"1\" class=\"dataframe\">\n",
       "  <thead>\n",
       "    <tr style=\"text-align: right;\">\n",
       "      <th></th>\n",
       "      <th>Accuracy</th>\n",
       "      <th>Precision</th>\n",
       "      <th>Recall</th>\n",
       "      <th>F1</th>\n",
       "    </tr>\n",
       "  </thead>\n",
       "  <tbody>\n",
       "    <tr>\n",
       "      <th>train</th>\n",
       "      <td>0.999845</td>\n",
       "      <td>1.00000</td>\n",
       "      <td>0.601916</td>\n",
       "      <td>0.751495</td>\n",
       "    </tr>\n",
       "    <tr>\n",
       "      <th>validation</th>\n",
       "      <td>0.999763</td>\n",
       "      <td>0.64557</td>\n",
       "      <td>0.365591</td>\n",
       "      <td>0.466819</td>\n",
       "    </tr>\n",
       "  </tbody>\n",
       "</table>\n",
       "</div>"
      ],
      "text/plain": [
       "            Accuracy  Precision    Recall        F1\n",
       "train       0.999845    1.00000  0.601916  0.751495\n",
       "validation  0.999763    0.64557  0.365591  0.466819"
      ]
     },
     "metadata": {},
     "output_type": "display_data"
    }
   ],
   "source": [
    "evaluate_model(rf_pipeline_pca, title='Random Forest con data set ordenado')"
   ]
  },
  {
   "cell_type": "code",
   "execution_count": 55,
   "id": "6a883d05-04fa-4a56-b466-6737fe4b5cc2",
   "metadata": {},
   "outputs": [
    {
     "name": "stdout",
     "output_type": "stream",
     "text": [
      "RF Training time w/ PCA: 935.0034735202789s\n"
     ]
    }
   ],
   "source": [
    "from sklearn.ensemble import GradientBoostingClassifier\n",
    "boost_model = GradientBoostingClassifier(random_state=42)\n",
    "model_gradient_boosted = Pipeline([\n",
    "    ('mapper', mapper),\n",
    "    ('classifier', boost_model),\n",
    "    ])\n",
    "\n",
    "start = time.time()\n",
    "model_gradient_boosted.fit(train, train.is_fraud)\n",
    "\n",
    "stop = time.time()\n",
    "print(f\"RF Training time w/ PCA: {stop - start}s\")"
   ]
  },
  {
   "cell_type": "code",
   "execution_count": 56,
   "id": "b6aec9e8-49c5-44cd-9347-b1dccb76573f",
   "metadata": {},
   "outputs": [
    {
     "data": {
      "text/plain": [
       "'Gradient Boosting'"
      ]
     },
     "metadata": {},
     "output_type": "display_data"
    },
    {
     "data": {
      "text/html": [
       "<div>\n",
       "<style scoped>\n",
       "    .dataframe tbody tr th:only-of-type {\n",
       "        vertical-align: middle;\n",
       "    }\n",
       "\n",
       "    .dataframe tbody tr th {\n",
       "        vertical-align: top;\n",
       "    }\n",
       "\n",
       "    .dataframe thead th {\n",
       "        text-align: right;\n",
       "    }\n",
       "</style>\n",
       "<table border=\"1\" class=\"dataframe\">\n",
       "  <thead>\n",
       "    <tr style=\"text-align: right;\">\n",
       "      <th></th>\n",
       "      <th>Accuracy</th>\n",
       "      <th>Precision</th>\n",
       "      <th>Recall</th>\n",
       "      <th>F1</th>\n",
       "    </tr>\n",
       "  </thead>\n",
       "  <tbody>\n",
       "    <tr>\n",
       "      <th>train</th>\n",
       "      <td>0.999667</td>\n",
       "      <td>0.790036</td>\n",
       "      <td>0.193380</td>\n",
       "      <td>0.310707</td>\n",
       "    </tr>\n",
       "    <tr>\n",
       "      <th>validation</th>\n",
       "      <td>0.999741</td>\n",
       "      <td>0.676471</td>\n",
       "      <td>0.164875</td>\n",
       "      <td>0.265130</td>\n",
       "    </tr>\n",
       "  </tbody>\n",
       "</table>\n",
       "</div>"
      ],
      "text/plain": [
       "            Accuracy  Precision    Recall        F1\n",
       "train       0.999667   0.790036  0.193380  0.310707\n",
       "validation  0.999741   0.676471  0.164875  0.265130"
      ]
     },
     "metadata": {},
     "output_type": "display_data"
    }
   ],
   "source": [
    "evaluate_model(model_gradient_boosted, title='Gradient Boosting')"
   ]
  },
  {
   "cell_type": "markdown",
   "id": "7ca8c6d2-f742-4fb7-beea-b0839123e1bd",
   "metadata": {},
   "source": [
    "* Aplicar alguna técnica de feature engineering para mejorar los datos de entrada a los modelos, y mostrar la comparativa de los resultados obtenidos en cada caso. Si no es posible o útil, fundamentar el motivo por el cual no se realizará."
   ]
  },
  {
   "cell_type": "code",
   "execution_count": null,
   "id": "13f32f98-8ac5-4e23-a1a2-9eca77ed8a9f",
   "metadata": {},
   "outputs": [],
   "source": []
  }
 ],
 "metadata": {
  "kernelspec": {
   "display_name": "Python 3 (ipykernel)",
   "language": "python",
   "name": "python3"
  },
  "language_info": {
   "codemirror_mode": {
    "name": "ipython",
    "version": 3
   },
   "file_extension": ".py",
   "mimetype": "text/x-python",
   "name": "python",
   "nbconvert_exporter": "python",
   "pygments_lexer": "ipython3",
   "version": "3.9.6"
  }
 },
 "nbformat": 4,
 "nbformat_minor": 5
}
